{
 "cells": [
  {
   "cell_type": "markdown",
   "id": "2403df53",
   "metadata": {},
   "source": [
    "<div class=\"alert alert-block alert-warning\">"
   ]
  },
  {
   "cell_type": "markdown",
   "id": "9c390150",
   "metadata": {},
   "source": [
    "# Google Data Analytics Certificate- Case Study\n",
    "\n",
    "### By: Alem Haddush Fitwi\n",
    "    91 Endicott Ave, Johnson City, NY 13790\n",
    "    Mobile Phone Number: (607) 232-1056  \n",
    "    E-mail: ahfitwi@gmail.com/afitwi1@binghamton.edu\n",
    "\n",
    "<img src=\"./figs/me.jpg\">"
   ]
  },
  {
   "cell_type": "markdown",
   "id": "efd92d0f",
   "metadata": {},
   "source": [
    "## Summary:\n",
    "A seasoned Engineer with a wealth of experience in Electrical & Computer Engineering projects, Computer Networking and Security,  Software Development and management, Business Intelligence, Data Analytics, Data Science and Machine Learning/Deep Learning. I tend more toward Data Science or Data Analytics using Python3, R, Machine Learning and Apache Spark for cluster or parallel computing! Besides, I am very good at fullstack web and Dashboard development using HTML, CSS, & JavaScript for frontend coding, Python3 for backend coding, & MySQL/ORacleDB/PSQL for database management."
   ]
  },
  {
   "cell_type": "markdown",
   "id": "1aba9a2d",
   "metadata": {},
   "source": [
    "## Professional & Project Experience:\n",
    "### Project Research Assistant  (May 2021 - Todate) \n",
    "    @ SUNY Research Foundation, Binghamton University\n",
    "- **Major Tasks Performed**:\n",
    "    - Developed and implemented a Distributed Network Communication Algorithm for the implementation of the \"Distributed Collaborative Orthogonal Matching Pursuit Thresholding Algorithm (DC-OMP-TA)\" based on a hybrid of peer-to-peer and client-server architectures. It was developed through the seamless integration of Python3 based communication application and a MATLAB implementation of the DC-OMP-TA algorithm. It was successfully tested on a single PC with multiple threads of CLI running on it to emulate multiple machines and on more than three distributed machines. A report/manual comprising more than 60 pages was generated, as well. \n",
    "    - Developed social distance and crowd density estimator using Deep Learning and Python3 for Technergetics. Human Detection, Distance and Area estimation algorithms were designed, developed and implemented. Out of it, a 12-page article was submitted for publication. The entire documentation is provided on my Github: https://github.com/ahfitwi/SDProject2021\n",
    "    \n",
    "- **Tools Employed**:\n",
    "    - Python for video dataset processing, for building Deep-learning Models, for Implementing Algorithms, for network programming, and file managemnet.\n",
    "    - MATLAB: for the implementation of DC-OMP-TA \n",
    "\n",
    "### Graduate Assistant-Data Analyst (August, 2017 -  May, 2021): \n",
    "        @ Dean's Office of Watson College of Engineering & Applied Science, Binghamton University\n",
    "- **Major Tasks Performed**:\n",
    "    - Industry grade dashboards and database designs and developments using Python and MySQL\n",
    "    - Business Intelligence (BI), and Content Analysis \n",
    "    - Data Science and Analysis on such input datasets as 15-year and semester-wise Student Opinion of Teaching (SOOT), Historical and current Admission Data, and 25 years research data. \n",
    "    - The size of datasets processed ranges from 1MB to 5GB. \n",
    "    - The outputs of the analysis were mainly actionable data and insightful reports (in CSV, EXCEL, SAS, PDF, HTML, and RTF/WORD formats as requested) and graphical plots (line graphs, bar charts, pie charts, and scatter plots) generated using SAS, R, SQL, Python, and  Machine Learning/Deep Learning algorithms. \n",
    "    - Preparing Surveys on Qualtrics, Performing Descriptive and Inferential Statistical Analysis using Python3 and R programming Languages, Testing Hypothesis, and Determining confidence Intervals.\n",
    "    \n",
    "- **Tools employed**:\n",
    "    - SAS for data analysis, visualization, generating aesthetic reports, and statistical analysis\n",
    "    - Python3 for backend development, dashboard development using dash and plotly, data analysis, machine learning based model building, & content analysis\n",
    "    - SQLite/MySQL/ Oracle SQL for designing, creating, & developing Databases and for creating queries and subqueries.\n",
    "    - CSS/HTML/js for the frond development of a Dashboard\n",
    "    - Microsoft Excel: For cleaning and analyzing small datasets and generating visualization\n",
    "    - Google Sheets: For cleaning and analyzing small datasets and creating visualization.\n",
    "    - R for statistical analysis and visualization\n",
    "\n",
    "### Director of Information & Communication Technology Directorate (October 2012 - October 2015):\n",
    "    @ Mekelle University, Mekelle, Tigrai, Ethiopia\n",
    "- Datacenter: managed to build modern, tier-III datacenter for Mekelle University \n",
    "    - Expert at Designing Datacenter infrastructures, ERP/CAN Networks, & Configurations\n",
    "- University ERP: managed to get the Mekelle University business processes automated \n",
    "    - Backend: Ruby On Rails, DB: MySQL, & Frondend: HTML, CSS, & Java Script\n",
    "\n",
    "### Mega Wind Farm Projects (Ashegoda and Adama-II): \n",
    "- successfully took part in two mega wind farm projects as Electrical & SCADA Engineer in the design, supervision, and commissioning processes.\n",
    "- successfully worked as Electrical Engineer (September, 2012 to June, 2014) in a 120 MW Wind Farm project (Ashegoda, Mekelle, Ethiopia) and as a SCADA Engineer (July 01, 2013 to December 15, 2015) in another 153 MW Wind Farm Project (Adama, Ethiopia).\n",
    "\n",
    "###  Teaching Career (September 2006 - August 2017): \n",
    "    @ Mekelle University, Mekelle, Tigrai, Ethiopia\n",
    "- Worked as Graduate Assistant II, Assistant Lecturer, Lecturer, & Assistant professor.\n",
    "- Major Tasks: Teaching Computer Engineering Courses, Conducting Lab activitis, carrying out research, giving community services, and software development.\n",
    "\n",
    "###  Research:\n",
    "- Areas: Privacy and Cyber Security, Video Surveillance, Lightweight Machine Learning/Deep-learnig, Edge/Fog/Cloud Computing, Network Architecture, Distributed Computing, and IoTs \n",
    "- Tools & Hardwares: Statistical Methods, Machine/Deep Learning Models, Scrambling/Encryption Schemes, Python3, C++, SQLite, SQL, Edge and cloud servers, vSphere-based virtual machines, and Edge Devices (Raspberry PI 4, Cameras, Sensors, ...)\n",
    "- Publications: 20 articles and conference papers and a bookchapter have been published to date, not to mention th emany unplished teaching, training, and project manuals, reports and documents. \n",
    "\n",
    "### Leadership:\n",
    "- **Information & Communication Technology Director** (October, 2012 - October 26, 2015): managed the ICT directorate of Mekelle University (Ethiopia) for 3 years, responsible for running the entire university (has a population of more than 35, 000 students and staff) campus area network and ERP. The directorate had 6 departments and 106 IT staff members of various professions. \n",
    "- **Head and Program Coordinator** (2010 - 2012): Head of the Computer Engineering chair (11 staff members), and program coordinator of the department of Electrical and Computer Engineering (79 staff members), Mekelle University, for one year each. \n",
    "\n",
    "### Education:\n",
    "- Watson School of Engineering, Binghamton University, State University of New York (Binghamton, NY, USA)\n",
    "    - PhD in Computer Engineering, Expected: December 2021\n",
    "       \n",
    "- Addis Ababa University (Addis Ababa, Ethiopia; P.O.Box 1176)\n",
    "    - M.Sc. in Computer Engigneering, Earned: September 2010\n",
    "\n",
    "- Bahir Dar University (Bahir Dar, Ethiopia; P.O.Box 79)\n",
    "    - B.Sc in Electrical & Computer Engineering, Earned: July 06, 2006\n",
    "\n",
    "### Technical and Programming Skills:\n",
    "1. **Excellent Data Processing Skill Set**: Super good in creating surveys on Qualtrics, Data Processing, Analyzing, Hypothesis Testing, and genrating repots helpful for informed decision making.\n",
    "2. **Advanced Python Programming + SQL + Machine Learning**: For both academic and professional purposes since 2014, mainly for Data Science and Analysis (Numpy, Pandas, Scipy, Scikit Learn, Seaborn,  Matplotlib, Plotly and Dash), for Deep Learning (Lightweight DNN for Conserving Privacy in Edge Devices as part of my PhD research), Network and Network Security Programming (Device Configurations, Extensive String Manipulations using RE, DNS Activity Monitoring, and Network Scan Detection projects), and industry grade dashboard development.\n",
    "3. **R Programming**: Very good in R for data cleaning, organizing, analyzing, and static and dynamic(dashboard) visualizing using a bunch of packages (tidyverse, dplyr, ggplot2, lubridate, data.table, tidyr, shiny, plotly, mlr3, ...)\n",
    "4. **Fullstack Web Development**: Very good at fullstack web development using HTML, CSS, & JavaScript for frontend coding, Python for backend coding, and MySQL (or Oracle DB, MangoDB, etc) for databases.\n",
    "5. **SAS Programming + SQL**: For data analysis (data preprocessing, transforming, mining, visualization, and reporting in xlsx, pdf, & rtf formats). I have used it since August  2017. \n",
    "6. **Spreadsheet or googlesheets**: for data cleaning, analysis, visualization, and reporting\n",
    "7. **Network Administration & Security**: Very good expertise and experience in IT Networks and Operational Networks (SCADA) design, installation, and administration. I had worked as Network Admin, SCADA Engineer, & ICT Director, and was trained and certified in Network Administration, Data Center Infrastructures design and construction, and Network Security. I am also very good in network programming using Python.\n",
    "8. **Other Programming Skills**:\n",
    "    - **Java**: I used to be an expert in it and I developed many desktop and web apps using it. But I haven't used it since 2013.\n",
    "    - **PHP**: for backend web app development. I last used it in 2015.\n",
    "    - **C++**: I learnt this languange long ago. I still occasionally use it for research, in areas where speed is of great essence.\n",
    "    - **VHDL**: I had frequently used it for academic and research purpose until 2015. Most recent use was in 2018 for a VLSI class.\n",
    "    - **C**: the first programming language I learnt as a young boy. I was very good at it but I have n't used it for a while."
   ]
  },
  {
   "cell_type": "markdown",
   "id": "fe11ea50",
   "metadata": {},
   "source": [
    "<div class=\"alert alert-block alert-warning\">"
   ]
  },
  {
   "cell_type": "markdown",
   "id": "80ebb511",
   "metadata": {},
   "source": [
    "# Case Study: How Does a Bike-Share Navigate Speedy Success?"
   ]
  },
  {
   "cell_type": "markdown",
   "id": "d4605763",
   "metadata": {},
   "source": [
    "<div class=\"alert alert-block alert-warning\">"
   ]
  },
  {
   "cell_type": "markdown",
   "id": "3e9bfb49",
   "metadata": {},
   "source": [
    "# Introduction\n",
    "Welcome to the Cyclistic bike-share analysis case study! In this case study, I will perform many real-world tasks of a data analyst. I will work for a fictional company, Cyclistic, and meet different characters and team members. In order to answer the key business questions, I will follow the steps of the data analysis process: **ask, prepare, process, analyze, share, and act**. I will borrow Google Analytics Certificate Course's icons/pctures to represent each of these steps in what ensues. "
   ]
  },
  {
   "cell_type": "markdown",
   "id": "7ce50e69",
   "metadata": {},
   "source": [
    "<div class=\"alert alert-block alert-warning\">"
   ]
  },
  {
   "cell_type": "markdown",
   "id": "80a554b2",
   "metadata": {},
   "source": [
    "# Scenario\n",
    "I am data analyst working in the marketing analyst team at Cyclistic, a bike-share company in Chicago. The director of marketing believes the company’s future success depends on maximizing the number of annual memberships. Therefore, my team wants to understand how **casual riders and annual members** use Cyclistic bikes differently. From these insights, my team will design a new marketing strategy to convert casual riders into annual members. But first, Cyclistic executives must approve our recommendations, so they must be backed up with compelling data insights and professional data visualizations."
   ]
  },
  {
   "cell_type": "markdown",
   "id": "86f9a988",
   "metadata": {},
   "source": [
    "<div class=\"alert alert-block alert-warning\">"
   ]
  },
  {
   "cell_type": "markdown",
   "id": "1ddac0a9",
   "metadata": {},
   "source": [
    "# Characters and teams\n",
    "- **Cyclistic**: A bike-share program that features more than 5,800 bicycles and 600 docking stations. Cyclistic sets itself apart by also offering reclining bikes, hand tricycles, and cargo bikes, making bike-share more inclusive to people with disabilities and riders who can’t use a standard two-wheeled bike. The majority of riders opt for traditional bikes; about 8% of riders use the assistive options. Cyclistic users are more likely to ride for leisure, but about 30% use them to commute to work each day.\n",
    "- **Lily Moreno**: The director of marketing and my manager. Moreno is responsible for the development of campaigns and initiatives to promote the bike-share program. These may include email, social media, and other channels.\n",
    "- **Cyclistic marketing analytics team**: A team of data analysts who are responsible for collecting, analyzing, and reporting data that helps guide Cyclistic marketing strategy. I joined this team six months ago and have been busy learning about Cyclistic’s mission and business goals — as well as how I, as a data analyst, can help Cyclistic achieve them.\n",
    "- **Cyclistic executive team**: The notoriously detail-oriented executive team will decide whether to approve the recommended marketing program."
   ]
  },
  {
   "cell_type": "markdown",
   "id": "209de7a5",
   "metadata": {},
   "source": [
    "<div class=\"alert alert-block alert-warning\">"
   ]
  },
  {
   "cell_type": "markdown",
   "id": "05b21f65",
   "metadata": {},
   "source": [
    "# About the company\n",
    "In 2016, Cyclistic launched a successful bike-share offering. Since then, the program has grown to a fleet of 5,824 bicycles that are geotracked and locked into a network of 692 stations across Chicago. The bikes can be unlocked from one station and returned to any other station in the system anytime. \n",
    "\n",
    "Until now, Cyclistic’s marketing strategy relied on building general awareness and appealing to broad consumer segments. One approach that helped make these things possible was the flexibility of its pricing plans: single-ride passes, full-day passes, and annual memberships. Customers who purchase single-ride or full-day passes are referred to as casual riders. Customerswho purchase annual memberships are Cyclistic members.\n",
    "\n",
    "Cyclistic’s finance analysts have concluded that annual members are much more profitable than casual riders. Although the pricing flexibility helps Cyclistic attract more customers, Moreno believes that maximizing the number of annual members will be key to future growth. Rather than creating a marketing campaign that targets all-new customers, Moreno believes there is a very good chance to convert casual riders into members. She notes that casual riders are already aware of the Cyclistic program and have chosen Cyclistic for their mobility needs.\n",
    "\n",
    "Moreno has set a clear goal: Design marketing strategies aimed at converting casual riders into annual members. In order to do that, however, the marketing analyst team needs to better understand how annual members and casual riders differ, why casual riders would buy a membership, and how digital media could affect their marketing tactics. Moreno and her team are interested in analyzing the Cyclistic historical bike trip data to identify trends."
   ]
  },
  {
   "cell_type": "markdown",
   "id": "c752cd93",
   "metadata": {},
   "source": [
    "<div class=\"alert alert-block alert-warning\">"
   ]
  },
  {
   "cell_type": "markdown",
   "id": "cf1999e2",
   "metadata": {},
   "source": [
    "<img src=\"./figs/ask2.png\">"
   ]
  },
  {
   "cell_type": "markdown",
   "id": "a6dafed3",
   "metadata": {},
   "source": [
    "## Case Study Roadmap - Ask\n",
    "### Guiding questions\n",
    "#### Three questions will guide the future marketing program:\n",
    "1. How do annual members and casual riders use Cyclistic bikes differently?\n",
    "2. Why would casual riders buy Cyclistic annual memberships?\n",
    "3. How can Cyclistic use digital media to influence casual riders to become members?\n",
    "\n",
    "### My Assignment\n",
    "Moreno has assigned me the first question to answer: \n",
    "- How do annual members and casual riders use Cyclistic bikes differently? \n",
    "\n",
    "### Hypothesis\n",
    "- Annual members are much more profitable than casual riders; hence, converting casual riders into annual members would increase the company's profit.\n",
    "\n",
    "### Deliverable\n",
    "Then, I will produce a report with the following deliverables:\n",
    "1. A clear statement of the business task\n",
    "    - How do annual members and casual riders use Cyclistic bikes differently? \n",
    "        - Number of casual vs annual member riders?\n",
    "        - Averages of casual and member riders in terms of daily riding duration?\n",
    "        - What is the monthly average of riding durations for casual and annual-member riders?\n",
    "        - What are the correlations between seasons and number of rides of each group?\n",
    "        - what are the correlations between seasons and riding duration of each group?\n",
    "        - Overall correlations between seasons and riding durations?\n",
    "2. A description of all data sources used\n",
    "3. Documentation of any cleaning or manipulation of data\n",
    "4. A summary of my analysis\n",
    "5. Supporting visualizations and key findings\n",
    "6. My top three recommendations based on my analysis"
   ]
  },
  {
   "cell_type": "markdown",
   "id": "7775f72c",
   "metadata": {},
   "source": [
    "<div class=\"alert alert-block alert-warning\">"
   ]
  },
  {
   "cell_type": "markdown",
   "id": "357b9abb",
   "metadata": {},
   "source": [
    "<img src=\"./figs/prepare2.png\">  \n"
   ]
  },
  {
   "cell_type": "markdown",
   "id": "464b5ec8",
   "metadata": {},
   "source": [
    "# Case Study Roadmap - Prepare"
   ]
  },
  {
   "cell_type": "markdown",
   "id": "4623e1d0",
   "metadata": {},
   "source": [
    "### Guiding questions and answers\n",
    "- Where is my data located?    \n",
    "    - Source URL: https://divvy-tripdata.s3.amazonaws.com/index.html\n",
    "    \n",
    "- How is the data organized?\n",
    "    - I am using the last 12 months data of biking and they are stored on the site month wise. After downloading the most recent 12 month data (October, 2020 to September, 2021), they are mereged into into a single file, named \"bike_data_Oct2021_to_Sept2021_v01.csv\". It is a structured data that comprises 5,136,261 rows and 14 columns.\n",
    "- Are there issues with bias or credibility in this data? Does your data ROCCC?\n",
    "    - There is sufficiently large data which is reliable (R) (proven fit for use and unbiased), original (O), comprehensive (C) (contains all critical information needed to answer the questions raised), current (C) and relevant to the task, and cited ()C by many.\n",
    "    - Hence, yes the data I have at hand ROCCCs!\n",
    "- How am I addressing licensing, privacy, security, and accessibility?\n",
    "    - Accessible with clearly declared use policy.\n",
    "    - The data has been made available by Motivate International Inc. under the license described in \n",
    "        - https://www.divvybikes.com/data-license-agreement\n",
    "- How did I verify the data’s integrity?\n",
    "    -  By verifying its overall accuracy, completeness, and reliability\n",
    "- How does it help me answer my question?\n",
    "    - It contains information about the riding behavior of casual and annual member riders and it definitely helps us answer the question of how casual riders can be converted into member riders to make the company more profitable.\n",
    "- Are there any problems with the data?\n",
    "    - On the dataset, the \"start_station_id\" and \"end_station_id\" values are deliberately anonymized for the privacy of riders; hence, analysis based on this attribute cannot be made.    \n",
    "    - I also observed inconsistent station names and data-types (especially dates), missing stations, and inscosistent naming under the rideable_type ('electric_bike', 'classic_bike', and 'docked_bike'). The 'classic_bike', and 'docked_bike' mean the same thing. In older data (beyond December, 2020), it is writtent as \"docked_bike; however, this has been changed to \"classic_bike\" starting December, 2020. \n",
    "    - Cleaning, filtering, and column renaming are performed at the \"Process\" phase, just in the next step.\n",
    "\n",
    "### Key tasks\n",
    "1. Download data and store it appropriately.\n",
    "    - 12 datasets (October 2020 to September 2021) were downloaded and merged into a single big dataset, named \"bike_data_Oct2021_to_Sept2021_v01.csv\"\n",
    "2. Identify how it’s organized.\n",
    "    - Structured and comprises 5,136,261 rows and 14 columns\n",
    "    - Renamed as \"bike_data_Oct2021_to_Sept2021_v01.csv\"\n",
    "3. Sort and filter the data.\n",
    "    - Unnecessary columns like start_lat, start_lng, end lat, and end_lng were filtered out!\n",
    "4. Determine the credibility of the data.\n",
    "    - Overall reliable, original, comprhensive, consistent, and cited datasets they are\n",
    "\n",
    "### Deliverable\n",
    "- A description of all data sources used\n",
    "    - Done"
   ]
  },
  {
   "cell_type": "markdown",
   "id": "8885cf7a",
   "metadata": {},
   "source": [
    "### R packages Neccessary for this project are Imported here\n",
    "- install.packages(\"package_name\")\n",
    "- packageVersion(\"package_name\")\n",
    "- remove.packages(\"package_name\")"
   ]
  },
  {
   "cell_type": "code",
   "execution_count": 630,
   "id": "a3cb5482",
   "metadata": {},
   "outputs": [],
   "source": [
    "options(warn = - 1) "
   ]
  },
  {
   "cell_type": "code",
   "execution_count": 747,
   "id": "3c9ea46f",
   "metadata": {},
   "outputs": [],
   "source": [
    "library(tidyverse)\n",
    "library(lubridate)\n",
    "library(ggplot2)\n",
    "library(dplyr)\n",
    "library(here)\n",
    "library(skimr)\n",
    "library(janitor)\n",
    "library(Dict)\n",
    "library(egg)\n",
    "library(\"IRdisplay\")"
   ]
  },
  {
   "cell_type": "code",
   "execution_count": 748,
   "id": "ade7fec1",
   "metadata": {},
   "outputs": [
    {
     "name": "stdout",
     "output_type": "stream",
     "text": [
      "[1] \"tidyverse package version:  1.2.1\"\n",
      "[1] \"lubridate package version:  1.7.4\"\n",
      "[1] \"ggplot2 package version:  3.1.1\"\n",
      "[1] \"dplyr package version:  1.0.6\"\n",
      "[1] \"here package version:  1.0.1\"\n",
      "[1] \"skimr package version:  2.1.3\"\n",
      "[1] \"janitor package version:  2.1.0\"\n",
      "[1] \"Dict package version:  0.1.0\"\n",
      "[1] \"egg package version:  0.4.5\"\n"
     ]
    }
   ],
   "source": [
    "print(paste(\"tidyverse package version: \",  packageVersion(\"tidyverse\")))\n",
    "print(paste(\"lubridate package version: \",  packageVersion(\"lubridate\")))\n",
    "print(paste(\"ggplot2 package version: \",  packageVersion(\"ggplot2\")))\n",
    "print(paste(\"dplyr package version: \",  packageVersion(\"dplyr\")))\n",
    "print(paste(\"here package version: \",  packageVersion(\"here\")))\n",
    "print(paste(\"skimr package version: \",  packageVersion(\"skimr\")))\n",
    "print(paste(\"janitor package version: \",  packageVersion(\"janitor\")))\n",
    "print(paste(\"Dict package version: \",  packageVersion(\"Dict\")))\n",
    "print(paste(\"egg package version: \",  packageVersion(\"egg\")))"
   ]
  },
  {
   "cell_type": "markdown",
   "id": "0348d784",
   "metadata": {},
   "source": [
    "### A python code for putting the last 12 months' bike datasets together\n",
    "- Only the data downloading and merging steps were done using python3.9\n",
    "- The rest of the project was processed using R-programming"
   ]
  },
  {
   "cell_type": "code",
   "execution_count": null,
   "id": "cd8d0d8d",
   "metadata": {},
   "outputs": [],
   "source": [
    "def get_yearMonth(path, str1):\n",
    "    \"\"\" Grabs Year & Month from\n",
    "        csv names\"\"\"\n",
    "    str1 = str1.replace(path+'/','')\n",
    "    str1 = str1.split(\"-\")\n",
    "    str1 = str1[0]\n",
    "    str1 = str1[:4] + '-' + str1[4:]\n",
    "    dt = datetime.datetime.strptime(str1, \"%Y-%m\")\n",
    "    if len(str(dt.month)) == 1:\n",
    "        month = '0'+str(dt.month)\n",
    "    else:\n",
    "        month = str(dt.month)\n",
    "    return str(dt.year)+'-'+ month\n",
    "\n",
    "\n",
    "def merge_bikeDatasets(path):\n",
    "    \"\"\"Merges bike data of the\n",
    "    last 12 mongths into one.\"\"\"\n",
    "    try:\n",
    "        path1 = os.path.join(path, \"*.csv\")\n",
    "        files =  glob.glob(path1)\n",
    "        df = pd.read_csv(files[0])\n",
    "        df[\"month\"] = get_yearMonth(files[0])\n",
    "        files1 = files[1:]\n",
    "        for file in files1:\n",
    "            tmp = pd.read_csv(file)\n",
    "            tmp[\"month\"] = get_yearMonth(file)\n",
    "            df = df.append(tmp, ignore_index=True)\n",
    "    except:\n",
    "        return False\n",
    "    else:\n",
    "        return df    "
   ]
  },
  {
   "cell_type": "markdown",
   "id": "e56fbfe0",
   "metadata": {},
   "source": [
    "### Merged bike_dataset, read it in using R\n",
    "- 5,136,261 rows and 14 columns\n",
    "- The column named \"month\" was added during the merging process\n",
    "- Before merging, the datasets appeared like what ensues:\n",
    "\n",
    "            ['202101-divvy-tripdata.csv',\n",
    "             '202010-divvy-tripdata.csv',\n",
    "             '202109-divvy-tripdata.csv',\n",
    "             '202012-divvy-tripdata.csv',\n",
    "             '202108-divvy-tripdata.csv',\n",
    "             '202106-divvy-tripdata.csv',\n",
    "             '202102-divvy-tripdata.csv',\n",
    "             '202104-divvy-tripdata.csv',\n",
    "             '202011-divvy-tripdata.csv',\n",
    "             '202107-divvy-tripdata.csv',\n",
    "             '202103-divvy-tripdata.csv',\n",
    "             '202105-divvy-tripdata.csv']"
   ]
  },
  {
   "cell_type": "markdown",
   "id": "40f10ee1",
   "metadata": {},
   "source": [
    "#### Reading Dataset"
   ]
  },
  {
   "cell_type": "code",
   "execution_count": 633,
   "id": "8cfc26b5",
   "metadata": {},
   "outputs": [
    {
     "name": "stderr",
     "output_type": "stream",
     "text": [
      "Parsed with column specification:\n",
      "cols(\n",
      "  ride_id = col_character(),\n",
      "  rideable_type = col_character(),\n",
      "  started_at = col_datetime(format = \"\"),\n",
      "  ended_at = col_datetime(format = \"\"),\n",
      "  start_station_name = col_character(),\n",
      "  start_station_id = col_character(),\n",
      "  end_station_name = col_character(),\n",
      "  end_station_id = col_character(),\n",
      "  start_lat = col_double(),\n",
      "  start_lng = col_double(),\n",
      "  end_lat = col_double(),\n",
      "  end_lng = col_double(),\n",
      "  member_casual = col_character(),\n",
      "  month = col_character()\n",
      ")\n"
     ]
    }
   ],
   "source": [
    "# Path \n",
    "path <- \"C:\\\\Users\\\\afitwi1\\\\Desktop\\\\googleproj\\\\dataset\\\\\"\n",
    "file <- \"bike_data_Oct2021_to_Sept2021_v01.csv\"\n",
    "path <- paste(path, file, sep='')\n",
    "\n",
    "# Dataframe Created from csv file just read in!\n",
    "bike_df <- read_csv(path)"
   ]
  },
  {
   "cell_type": "markdown",
   "id": "ebe05eb9",
   "metadata": {},
   "source": [
    "#### Dimensions: Rows and Columns"
   ]
  },
  {
   "cell_type": "code",
   "execution_count": 634,
   "id": "c2b574b1",
   "metadata": {},
   "outputs": [
    {
     "data": {
      "text/html": [
       "<ol class=list-inline>\n",
       "\t<li>5136261</li>\n",
       "\t<li>14</li>\n",
       "</ol>\n"
      ],
      "text/latex": [
       "\\begin{enumerate*}\n",
       "\\item 5136261\n",
       "\\item 14\n",
       "\\end{enumerate*}\n"
      ],
      "text/markdown": [
       "1. 5136261\n",
       "2. 14\n",
       "\n",
       "\n"
      ],
      "text/plain": [
       "[1] 5136261      14"
      ]
     },
     "metadata": {},
     "output_type": "display_data"
    }
   ],
   "source": [
    "dim(bike_df)"
   ]
  },
  {
   "cell_type": "markdown",
   "id": "99c81a2a",
   "metadata": {},
   "source": [
    "#### Sample Displays"
   ]
  },
  {
   "cell_type": "code",
   "execution_count": 635,
   "id": "f6d8d8f2",
   "metadata": {},
   "outputs": [
    {
     "data": {
      "text/html": [
       "<table>\n",
       "<thead><tr><th scope=col>ride_id</th><th scope=col>rideable_type</th><th scope=col>started_at</th><th scope=col>ended_at</th><th scope=col>start_station_name</th><th scope=col>start_station_id</th><th scope=col>end_station_name</th><th scope=col>end_station_id</th><th scope=col>start_lat</th><th scope=col>start_lng</th><th scope=col>end_lat</th><th scope=col>end_lng</th><th scope=col>member_casual</th><th scope=col>month</th></tr></thead>\n",
       "<tbody>\n",
       "\t<tr><td>E19E6F1B8D4C42ED              </td><td>electric_bike                 </td><td>2021-01-23 16:14:19           </td><td>2021-01-23 16:24:44           </td><td>California Ave &amp; Cortez St</td><td>17660                         </td><td>NA                            </td><td>NA                            </td><td>41.90034                      </td><td>-87.69674                     </td><td>41.89                         </td><td>-87.72                        </td><td>member                        </td><td>2021-01                       </td></tr>\n",
       "\t<tr><td>DC88F20C2C55F27F              </td><td>electric_bike                 </td><td>2021-01-27 18:43:08           </td><td>2021-01-27 18:47:12           </td><td>California Ave &amp; Cortez St</td><td>17660                         </td><td>NA                            </td><td>NA                            </td><td>41.90033                      </td><td>-87.69671                     </td><td>41.90                         </td><td>-87.69                        </td><td>member                        </td><td>2021-01                       </td></tr>\n",
       "\t<tr><td>EC45C94683FE3F27              </td><td>electric_bike                 </td><td>2021-01-21 22:35:54           </td><td>2021-01-21 22:37:14           </td><td>California Ave &amp; Cortez St</td><td>17660                         </td><td>NA                            </td><td>NA                            </td><td>41.90031                      </td><td>-87.69664                     </td><td>41.90                         </td><td>-87.70                        </td><td>member                        </td><td>2021-01                       </td></tr>\n",
       "\t<tr><td>4FA453A75AE377DB              </td><td>electric_bike                 </td><td>2021-01-07 13:31:13           </td><td>2021-01-07 13:42:55           </td><td>California Ave &amp; Cortez St</td><td>17660                         </td><td>NA                            </td><td>NA                            </td><td>41.90040                      </td><td>-87.69666                     </td><td>41.92                         </td><td>-87.69                        </td><td>member                        </td><td>2021-01                       </td></tr>\n",
       "\t<tr><td>BE5E8EB4E7263A0B              </td><td>electric_bike                 </td><td>2021-01-23 02:24:02           </td><td>2021-01-23 02:24:45           </td><td>California Ave &amp; Cortez St</td><td>17660                         </td><td>NA                            </td><td>NA                            </td><td>41.90033                      </td><td>-87.69670                     </td><td>41.90                         </td><td>-87.70                        </td><td>casual                        </td><td>2021-01                       </td></tr>\n",
       "\t<tr><td>5D8969F88C773979              </td><td>electric_bike                 </td><td>2021-01-09 14:24:07           </td><td>2021-01-09 15:17:54           </td><td>California Ave &amp; Cortez St</td><td>17660                         </td><td>NA                            </td><td>NA                            </td><td>41.90041                      </td><td>-87.69676                     </td><td>41.94                         </td><td>-87.71                        </td><td>casual                        </td><td>2021-01                       </td></tr>\n",
       "</tbody>\n",
       "</table>\n"
      ],
      "text/latex": [
       "\\begin{tabular}{r|llllllllllllll}\n",
       " ride\\_id & rideable\\_type & started\\_at & ended\\_at & start\\_station\\_name & start\\_station\\_id & end\\_station\\_name & end\\_station\\_id & start\\_lat & start\\_lng & end\\_lat & end\\_lng & member\\_casual & month\\\\\n",
       "\\hline\n",
       "\t E19E6F1B8D4C42ED             & electric\\_bike              & 2021-01-23 16:14:19          & 2021-01-23 16:24:44          & California Ave \\& Cortez St & 17660                        & NA                           & NA                           & 41.90034                     & -87.69674                    & 41.89                        & -87.72                       & member                       & 2021-01                     \\\\\n",
       "\t DC88F20C2C55F27F             & electric\\_bike              & 2021-01-27 18:43:08          & 2021-01-27 18:47:12          & California Ave \\& Cortez St & 17660                        & NA                           & NA                           & 41.90033                     & -87.69671                    & 41.90                        & -87.69                       & member                       & 2021-01                     \\\\\n",
       "\t EC45C94683FE3F27             & electric\\_bike              & 2021-01-21 22:35:54          & 2021-01-21 22:37:14          & California Ave \\& Cortez St & 17660                        & NA                           & NA                           & 41.90031                     & -87.69664                    & 41.90                        & -87.70                       & member                       & 2021-01                     \\\\\n",
       "\t 4FA453A75AE377DB             & electric\\_bike              & 2021-01-07 13:31:13          & 2021-01-07 13:42:55          & California Ave \\& Cortez St & 17660                        & NA                           & NA                           & 41.90040                     & -87.69666                    & 41.92                        & -87.69                       & member                       & 2021-01                     \\\\\n",
       "\t BE5E8EB4E7263A0B             & electric\\_bike              & 2021-01-23 02:24:02          & 2021-01-23 02:24:45          & California Ave \\& Cortez St & 17660                        & NA                           & NA                           & 41.90033                     & -87.69670                    & 41.90                        & -87.70                       & casual                       & 2021-01                     \\\\\n",
       "\t 5D8969F88C773979             & electric\\_bike              & 2021-01-09 14:24:07          & 2021-01-09 15:17:54          & California Ave \\& Cortez St & 17660                        & NA                           & NA                           & 41.90041                     & -87.69676                    & 41.94                        & -87.71                       & casual                       & 2021-01                     \\\\\n",
       "\\end{tabular}\n"
      ],
      "text/markdown": [
       "\n",
       "| ride_id | rideable_type | started_at | ended_at | start_station_name | start_station_id | end_station_name | end_station_id | start_lat | start_lng | end_lat | end_lng | member_casual | month |\n",
       "|---|---|---|---|---|---|---|---|---|---|---|---|---|---|\n",
       "| E19E6F1B8D4C42ED           | electric_bike              | 2021-01-23 16:14:19        | 2021-01-23 16:24:44        | California Ave & Cortez St | 17660                      | NA                         | NA                         | 41.90034                   | -87.69674                  | 41.89                      | -87.72                     | member                     | 2021-01                    |\n",
       "| DC88F20C2C55F27F           | electric_bike              | 2021-01-27 18:43:08        | 2021-01-27 18:47:12        | California Ave & Cortez St | 17660                      | NA                         | NA                         | 41.90033                   | -87.69671                  | 41.90                      | -87.69                     | member                     | 2021-01                    |\n",
       "| EC45C94683FE3F27           | electric_bike              | 2021-01-21 22:35:54        | 2021-01-21 22:37:14        | California Ave & Cortez St | 17660                      | NA                         | NA                         | 41.90031                   | -87.69664                  | 41.90                      | -87.70                     | member                     | 2021-01                    |\n",
       "| 4FA453A75AE377DB           | electric_bike              | 2021-01-07 13:31:13        | 2021-01-07 13:42:55        | California Ave & Cortez St | 17660                      | NA                         | NA                         | 41.90040                   | -87.69666                  | 41.92                      | -87.69                     | member                     | 2021-01                    |\n",
       "| BE5E8EB4E7263A0B           | electric_bike              | 2021-01-23 02:24:02        | 2021-01-23 02:24:45        | California Ave & Cortez St | 17660                      | NA                         | NA                         | 41.90033                   | -87.69670                  | 41.90                      | -87.70                     | casual                     | 2021-01                    |\n",
       "| 5D8969F88C773979           | electric_bike              | 2021-01-09 14:24:07        | 2021-01-09 15:17:54        | California Ave & Cortez St | 17660                      | NA                         | NA                         | 41.90041                   | -87.69676                  | 41.94                      | -87.71                     | casual                     | 2021-01                    |\n",
       "\n"
      ],
      "text/plain": [
       "  ride_id          rideable_type started_at          ended_at           \n",
       "1 E19E6F1B8D4C42ED electric_bike 2021-01-23 16:14:19 2021-01-23 16:24:44\n",
       "2 DC88F20C2C55F27F electric_bike 2021-01-27 18:43:08 2021-01-27 18:47:12\n",
       "3 EC45C94683FE3F27 electric_bike 2021-01-21 22:35:54 2021-01-21 22:37:14\n",
       "4 4FA453A75AE377DB electric_bike 2021-01-07 13:31:13 2021-01-07 13:42:55\n",
       "5 BE5E8EB4E7263A0B electric_bike 2021-01-23 02:24:02 2021-01-23 02:24:45\n",
       "6 5D8969F88C773979 electric_bike 2021-01-09 14:24:07 2021-01-09 15:17:54\n",
       "  start_station_name         start_station_id end_station_name end_station_id\n",
       "1 California Ave & Cortez St 17660            NA               NA            \n",
       "2 California Ave & Cortez St 17660            NA               NA            \n",
       "3 California Ave & Cortez St 17660            NA               NA            \n",
       "4 California Ave & Cortez St 17660            NA               NA            \n",
       "5 California Ave & Cortez St 17660            NA               NA            \n",
       "6 California Ave & Cortez St 17660            NA               NA            \n",
       "  start_lat start_lng end_lat end_lng member_casual month  \n",
       "1 41.90034  -87.69674 41.89   -87.72  member        2021-01\n",
       "2 41.90033  -87.69671 41.90   -87.69  member        2021-01\n",
       "3 41.90031  -87.69664 41.90   -87.70  member        2021-01\n",
       "4 41.90040  -87.69666 41.92   -87.69  member        2021-01\n",
       "5 41.90033  -87.69670 41.90   -87.70  casual        2021-01\n",
       "6 41.90041  -87.69676 41.94   -87.71  casual        2021-01"
      ]
     },
     "metadata": {},
     "output_type": "display_data"
    }
   ],
   "source": [
    "head(bike_df)"
   ]
  },
  {
   "cell_type": "markdown",
   "id": "10122399",
   "metadata": {},
   "source": [
    "#### Columns of the Dataset"
   ]
  },
  {
   "cell_type": "code",
   "execution_count": 636,
   "id": "6a8eaf41",
   "metadata": {},
   "outputs": [
    {
     "data": {
      "text/html": [
       "<ol class=list-inline>\n",
       "\t<li>'ride_id'</li>\n",
       "\t<li>'rideable_type'</li>\n",
       "\t<li>'started_at'</li>\n",
       "\t<li>'ended_at'</li>\n",
       "\t<li>'start_station_name'</li>\n",
       "\t<li>'start_station_id'</li>\n",
       "\t<li>'end_station_name'</li>\n",
       "\t<li>'end_station_id'</li>\n",
       "\t<li>'start_lat'</li>\n",
       "\t<li>'start_lng'</li>\n",
       "\t<li>'end_lat'</li>\n",
       "\t<li>'end_lng'</li>\n",
       "\t<li>'member_casual'</li>\n",
       "\t<li>'month'</li>\n",
       "</ol>\n"
      ],
      "text/latex": [
       "\\begin{enumerate*}\n",
       "\\item 'ride\\_id'\n",
       "\\item 'rideable\\_type'\n",
       "\\item 'started\\_at'\n",
       "\\item 'ended\\_at'\n",
       "\\item 'start\\_station\\_name'\n",
       "\\item 'start\\_station\\_id'\n",
       "\\item 'end\\_station\\_name'\n",
       "\\item 'end\\_station\\_id'\n",
       "\\item 'start\\_lat'\n",
       "\\item 'start\\_lng'\n",
       "\\item 'end\\_lat'\n",
       "\\item 'end\\_lng'\n",
       "\\item 'member\\_casual'\n",
       "\\item 'month'\n",
       "\\end{enumerate*}\n"
      ],
      "text/markdown": [
       "1. 'ride_id'\n",
       "2. 'rideable_type'\n",
       "3. 'started_at'\n",
       "4. 'ended_at'\n",
       "5. 'start_station_name'\n",
       "6. 'start_station_id'\n",
       "7. 'end_station_name'\n",
       "8. 'end_station_id'\n",
       "9. 'start_lat'\n",
       "10. 'start_lng'\n",
       "11. 'end_lat'\n",
       "12. 'end_lng'\n",
       "13. 'member_casual'\n",
       "14. 'month'\n",
       "\n",
       "\n"
      ],
      "text/plain": [
       " [1] \"ride_id\"            \"rideable_type\"      \"started_at\"        \n",
       " [4] \"ended_at\"           \"start_station_name\" \"start_station_id\"  \n",
       " [7] \"end_station_name\"   \"end_station_id\"     \"start_lat\"         \n",
       "[10] \"start_lng\"          \"end_lat\"            \"end_lng\"           \n",
       "[13] \"member_casual\"      \"month\"             "
      ]
     },
     "metadata": {},
     "output_type": "display_data"
    }
   ],
   "source": [
    "colnames(bike_df) "
   ]
  },
  {
   "cell_type": "markdown",
   "id": "f3b3e146",
   "metadata": {},
   "source": [
    "#### Structure of the Dataset"
   ]
  },
  {
   "cell_type": "code",
   "execution_count": 637,
   "id": "c2d25645",
   "metadata": {},
   "outputs": [
    {
     "name": "stdout",
     "output_type": "stream",
     "text": [
      "spec_tbl_df [5,136,261 x 14] (S3: spec_tbl_df/tbl_df/tbl/data.frame)\n",
      " $ ride_id           : chr [1:5136261] \"E19E6F1B8D4C42ED\" \"DC88F20C2C55F27F\" \"EC45C94683FE3F27\" \"4FA453A75AE377DB\" ...\n",
      " $ rideable_type     : chr [1:5136261] \"electric_bike\" \"electric_bike\" \"electric_bike\" \"electric_bike\" ...\n",
      " $ started_at        : POSIXct[1:5136261], format: \"2021-01-23 16:14:19\" \"2021-01-27 18:43:08\" ...\n",
      " $ ended_at          : POSIXct[1:5136261], format: \"2021-01-23 16:24:44\" \"2021-01-27 18:47:12\" ...\n",
      " $ start_station_name: chr [1:5136261] \"California Ave & Cortez St\" \"California Ave & Cortez St\" \"California Ave & Cortez St\" \"California Ave & Cortez St\" ...\n",
      " $ start_station_id  : chr [1:5136261] \"17660\" \"17660\" \"17660\" \"17660\" ...\n",
      " $ end_station_name  : chr [1:5136261] NA NA NA NA ...\n",
      " $ end_station_id    : chr [1:5136261] NA NA NA NA ...\n",
      " $ start_lat         : num [1:5136261] 41.9 41.9 41.9 41.9 41.9 ...\n",
      " $ start_lng         : num [1:5136261] -87.7 -87.7 -87.7 -87.7 -87.7 ...\n",
      " $ end_lat           : num [1:5136261] 41.9 41.9 41.9 41.9 41.9 ...\n",
      " $ end_lng           : num [1:5136261] -87.7 -87.7 -87.7 -87.7 -87.7 ...\n",
      " $ member_casual     : chr [1:5136261] \"member\" \"member\" \"member\" \"member\" ...\n",
      " $ month             : chr [1:5136261] \"2021-01\" \"2021-01\" \"2021-01\" \"2021-01\" ...\n",
      " - attr(*, \"spec\")=\n",
      "  .. cols(\n",
      "  ..   ride_id = col_character(),\n",
      "  ..   rideable_type = col_character(),\n",
      "  ..   started_at = col_datetime(format = \"\"),\n",
      "  ..   ended_at = col_datetime(format = \"\"),\n",
      "  ..   start_station_name = col_character(),\n",
      "  ..   start_station_id = col_character(),\n",
      "  ..   end_station_name = col_character(),\n",
      "  ..   end_station_id = col_character(),\n",
      "  ..   start_lat = col_double(),\n",
      "  ..   start_lng = col_double(),\n",
      "  ..   end_lat = col_double(),\n",
      "  ..   end_lng = col_double(),\n",
      "  ..   member_casual = col_character(),\n",
      "  ..   month = col_character()\n",
      "  .. )\n"
     ]
    }
   ],
   "source": [
    "str(bike_df)"
   ]
  },
  {
   "cell_type": "code",
   "execution_count": 638,
   "id": "e64a5e8c",
   "metadata": {},
   "outputs": [
    {
     "name": "stdout",
     "output_type": "stream",
     "text": [
      "Rows: 5,136,261\n",
      "Columns: 14\n",
      "$ ride_id            <chr> \"E19E6F1B8D4C42ED\", \"DC88F20C2C55F27F\", \"EC45C94683~\n",
      "$ rideable_type      <chr> \"electric_bike\", \"electric_bike\", \"electric_bike\", ~\n",
      "$ started_at         <dttm> 2021-01-23 16:14:19, 2021-01-27 18:43:08, 2021-01-~\n",
      "$ ended_at           <dttm> 2021-01-23 16:24:44, 2021-01-27 18:47:12, 2021-01-~\n",
      "$ start_station_name <chr> \"California Ave & Cortez St\", \"California Ave & Cor~\n",
      "$ start_station_id   <chr> \"17660\", \"17660\", \"17660\", \"17660\", \"17660\", \"17660~\n",
      "$ end_station_name   <chr> NA, NA, NA, NA, NA, NA, NA, NA, NA, \"Wood St & Augu~\n",
      "$ end_station_id     <chr> NA, NA, NA, NA, NA, NA, NA, NA, NA, \"657\", \"13258\",~\n",
      "$ start_lat          <dbl> 41.90034, 41.90033, 41.90031, 41.90040, 41.90033, 4~\n",
      "$ start_lng          <dbl> -87.69674, -87.69671, -87.69664, -87.69666, -87.696~\n",
      "$ end_lat            <dbl> 41.89000, 41.90000, 41.90000, 41.92000, 41.90000, 4~\n",
      "$ end_lng            <dbl> -87.72000, -87.69000, -87.70000, -87.69000, -87.700~\n",
      "$ member_casual      <chr> \"member\", \"member\", \"member\", \"member\", \"casual\", \"~\n",
      "$ month              <chr> \"2021-01\", \"2021-01\", \"2021-01\", \"2021-01\", \"2021-0~\n"
     ]
    }
   ],
   "source": [
    "glimpse(bike_df)"
   ]
  },
  {
   "cell_type": "code",
   "execution_count": 639,
   "id": "685da699",
   "metadata": {},
   "outputs": [
    {
     "data": {
      "text/plain": [
       "   ride_id          rideable_type        started_at                 \n",
       " Length:5136261     Length:5136261     Min.   :2020-10-01 00:00:06  \n",
       " Class :character   Class :character   1st Qu.:2021-04-11 18:50:57  \n",
       " Mode  :character   Mode  :character   Median :2021-06-21 18:01:31  \n",
       "                                       Mean   :2021-05-25 22:30:57  \n",
       "                                       3rd Qu.:2021-08-11 21:13:51  \n",
       "                                       Max.   :2021-09-30 23:59:48  \n",
       "                                                                    \n",
       "    ended_at                   start_station_name start_station_id  \n",
       " Min.   :2020-10-01 00:05:09   Length:5136261     Length:5136261    \n",
       " 1st Qu.:2021-04-11 19:15:05   Class :character   Class :character  \n",
       " Median :2021-06-21 18:20:59   Mode  :character   Mode  :character  \n",
       " Mean   :2021-05-25 22:51:34                                        \n",
       " 3rd Qu.:2021-08-11 21:33:57                                        \n",
       " Max.   :2021-10-01 22:55:35                                        \n",
       "                                                                    \n",
       " end_station_name   end_station_id       start_lat       start_lng     \n",
       " Length:5136261     Length:5136261     Min.   :41.64   Min.   :-87.84  \n",
       " Class :character   Class :character   1st Qu.:41.88   1st Qu.:-87.66  \n",
       " Mode  :character   Mode  :character   Median :41.90   Median :-87.64  \n",
       "                                       Mean   :41.90   Mean   :-87.65  \n",
       "                                       3rd Qu.:41.93   3rd Qu.:-87.63  \n",
       "                                       Max.   :42.08   Max.   :-87.52  \n",
       "                                                                       \n",
       "    end_lat         end_lng       member_casual         month          \n",
       " Min.   :41.51   Min.   :-88.07   Length:5136261     Length:5136261    \n",
       " 1st Qu.:41.88   1st Qu.:-87.66   Class :character   Class :character  \n",
       " Median :41.90   Median :-87.64   Mode  :character   Mode  :character  \n",
       " Mean   :41.90   Mean   :-87.65                                        \n",
       " 3rd Qu.:41.93   3rd Qu.:-87.63                                        \n",
       " Max.   :42.17   Max.   :-87.44                                        \n",
       " NA's   :4821    NA's   :4821                                          "
      ]
     },
     "metadata": {},
     "output_type": "display_data"
    }
   ],
   "source": [
    "summary(bike_df)"
   ]
  },
  {
   "cell_type": "markdown",
   "id": "310b46b3",
   "metadata": {},
   "source": [
    "<div class=\"alert alert-block alert-warning\">"
   ]
  },
  {
   "cell_type": "markdown",
   "id": "1f8dc7a1",
   "metadata": {},
   "source": [
    "<img src=\"./figs/process2.png\">"
   ]
  },
  {
   "cell_type": "markdown",
   "id": "d02eeaa8",
   "metadata": {},
   "source": [
    "# Case Study Roadmap - Process\n",
    "### Guiding questions\n",
    "- What tools are you choosing and why?\n",
    "    - To clean, analyze, and visualize this big dataset with ease, I have chosen to use R-programming which is an ideal tool when it comes to data wrangling, analysis, and visualization. It provides numerous packages that make data wrangling, analysis, and visualization so simple. The ggplot2 package is one of the most popular packages for its visualizations.\n",
    "- Have you ensured your data’s integrity?\n",
    "    - Yes, the overall accuracy, completeness, and reliability of the dataset were verified\n",
    "- What steps have you taken to ensure that your data is clean?\n",
    "    - Through thorough investigation of the data, I identified the inconsistencies that exist in it and made all necessary cleaning on a copy of my dataset. Eventually, I made comparison between the editted copy and the original dataset to verify the effected changes.\n",
    "- How can you verify that your data is clean and ready to analyze?\n",
    "    - I made a manual and script-based comparison between the editted copy and the original dataset to verify the effected changes.\n",
    "    - All attributes of both datasets were compared and analyzed to make sure that only desirable changes were effected.\n",
    "- Have you documented your cleaning process so that you can review and share those results?\n",
    "    - Yes, I logged every cleaning made on the data. The cleaning process is described in ensuing subsections.\n",
    "\n",
    "### Key tasks\n",
    "1. Check the data for errors.\n",
    "    - Done! Erroneous parts were identified and cleaned appropriately \n",
    "2. Choose your tools.\n",
    "    - I chose R-programming\n",
    "3. Transform the data so you can work with it effectively.\n",
    "    - Data was transformed into a form helpful for this analysis\n",
    "4. Document the cleaning process.\n",
    "    - Neatly documented \n",
    "    \n",
    "### Deliverable\n",
    "- Documentation of any cleaning or manipulation of data\n",
    "    - Done"
   ]
  },
  {
   "cell_type": "markdown",
   "id": "c140012b",
   "metadata": {},
   "source": [
    "### A. Dataset Cleaning Log\n",
    "- As observed from the structures of the dataset displayed in the previous section and thorough investigation, the dataset has some inconsistencies and it has to be cleaned before it can be employed for anlysis to answer the main question of this project.\n",
    "\n",
    "#### A0: Column \"month\" was Added During the Merging Process in previous step\n",
    "- While merging the 12 datasets, their respective month values were added as a new column.\n",
    "\n",
    "#### A1: Filtering\n",
    "- Filter out unnecessary columns and create a new dataframe with columns of interest only!\n",
    "    1. Delete the anonymized attributes/columns, namely \"start_station_id\", and \"end_station_id\". They are of no use in this anlysis. \n",
    "    2. The columns named start_lat, start_lng, end lat, and end_lng offer no information useful for the analysis; as a result, they were filtered out. \n",
    "    3. The column named ride_id is also of no importance and removed from the dataset (done later on) \n",
    "\n",
    "#### A2: Fixing the Values of column named \"rideable_type\"\n",
    "- This column has three values: 'electric_bike', 'classic_bike', and 'docked_bike'. However, they are supposed to be two. The 'classic_bike', and 'docked_bike' mean the same thing. The 'classic_bike' was introduced starting December, 2020; whereas the 'docked_bike' was in use before December 2020.\n",
    "- Hence, 'docked_bike' is changed to 'classic_bike' under this column.\n",
    "\n",
    "#### A3: Correcting Inconsistent Start Station Names (column: 'start_station_name') and Handling Missing Names\n",
    "- Under the 'start_station_name column, the following station names contain \"(Temp)\".\n",
    "\n",
    "            {'California Ave & Francis Pl (Temp)',\n",
    "             'Franklin St & Adams St (Temp)',\n",
    "             'Halsted St & 18th St (Temp)', --> Problem noticed here!\n",
    "             'Pulaski Rd & Eddy St (Temp)',\n",
    "             'Wentworth Ave & 24th St (Temp)',\n",
    "             'Wood St & Taylor St (Temp)'}\n",
    "- It causes inconsistency in 'Halsted St & 18th St'. The same station is named differently; hence, the substring \"(Temp)\" and trailing white spaces are cleaned for consistency's sake.\n",
    "             \n",
    "             'Halsted St & 18th St',\n",
    "             'Halsted St & 18th St (Temp)' --> 'Halsted St & 18th St'\n",
    "- Twenty (20) rows of the dataset contain {'HUBBARD ST BIKE CHECKING (LBS-WH-TEST)'}. I feel like the staff of Divvy performed some testing. Even the name implies so. Hence, I opted to remove these 20 rows from the dataset.\n",
    "\n",
    "                ['HUBBARD ST BIKE CHECKING (LBS-WH-TEST)',\n",
    "                 'HUBBARD ST BIKE CHECKING (LBS-WH-TEST)',\n",
    "                 'HUBBARD ST BIKE CHECKING (LBS-WH-TEST)',\n",
    "                 'HUBBARD ST BIKE CHECKING (LBS-WH-TEST)',\n",
    "                 'HUBBARD ST BIKE CHECKING (LBS-WH-TEST)',\n",
    "                 'HUBBARD ST BIKE CHECKING (LBS-WH-TEST)',\n",
    "                 'HUBBARD ST BIKE CHECKING (LBS-WH-TEST)',\n",
    "                 'HUBBARD ST BIKE CHECKING (LBS-WH-TEST)',\n",
    "                 'HUBBARD ST BIKE CHECKING (LBS-WH-TEST)',\n",
    "                 'HUBBARD ST BIKE CHECKING (LBS-WH-TEST)',\n",
    "                 'HUBBARD ST BIKE CHECKING (LBS-WH-TEST)',\n",
    "                 'HUBBARD ST BIKE CHECKING (LBS-WH-TEST)',\n",
    "                 'HUBBARD ST BIKE CHECKING (LBS-WH-TEST)',\n",
    "                 'HUBBARD ST BIKE CHECKING (LBS-WH-TEST)',\n",
    "                 'HUBBARD ST BIKE CHECKING (LBS-WH-TEST)',\n",
    "                 'HUBBARD ST BIKE CHECKING (LBS-WH-TEST)',\n",
    "                 'HUBBARD ST BIKE CHECKING (LBS-WH-TEST)',\n",
    "                 'HUBBARD ST BIKE CHECKING (LBS-WH-TEST)',\n",
    "                 'HUBBARD ST BIKE CHECKING (LBS-WH-TEST)',\n",
    "                 'HUBBARD ST BIKE CHECKING (LBS-WH-TEST)']\n",
    "\n",
    "- Missing station names are filled with \"not_provided\"\n",
    "                 \n",
    "#### A4: Add a New column named \"riding_duration\"\n",
    "- No riding duration of each client (casual or member) is provided in the dataset. Hence, I opted to add this column for it is vital in the analysis process. It is the difference of the start and end times of every ride in the dataset.\n",
    "\n",
    "                riding_duration <- ended_at - started_at\n",
    "                \n",
    "#### A5: Changing column names to something that makes more sense\n",
    "- Some of the attributes' names of the dataset don't make sense. I had struggled to make sense of the 'rideable_type' and 'member_casual' columns until I checked their contents. \n",
    "- Hence, for better and prompt understanding of the values they represent, I have changed these column names to bicycle_type and client_type, respectively, as depicted in what ensues.\n",
    "\n",
    "            'rideable_type' --> 'bicycle_type',  and \n",
    "            'member_casual' --> 'client_type' \n",
    "            \n",
    "#### A6: Cleaning was performed on the copied version of the original dataset \n",
    "- I made sure that the original and copy don't have the same memory addresses. They shouldn't indicate to the same memory location! \n",
    "\n",
    "            bike_cleaned_df <- bike_df"
   ]
  },
  {
   "cell_type": "markdown",
   "id": "3e890167",
   "metadata": {},
   "source": [
    "### B. Cleaning of dataframe \"bike_cleaned_df\" using R-Tools\n",
    "#### B1: Create a dtaframe, which is a separate  copy of the oginal one\n",
    "- Make deep copy of bike_df to bike_cleaned_df as ensues:\n",
    "\n",
    "        bike_cleaned_df <- data.frame(bike_df), or\n",
    "        bike_cleaned_df <- cbind(bike_df)"
   ]
  },
  {
   "cell_type": "code",
   "execution_count": 640,
   "id": "42eb702a",
   "metadata": {},
   "outputs": [
    {
     "data": {
      "text/html": [
       "<ol class=list-inline>\n",
       "\t<li>5136261</li>\n",
       "\t<li>14</li>\n",
       "</ol>\n"
      ],
      "text/latex": [
       "\\begin{enumerate*}\n",
       "\\item 5136261\n",
       "\\item 14\n",
       "\\end{enumerate*}\n"
      ],
      "text/markdown": [
       "1. 5136261\n",
       "2. 14\n",
       "\n",
       "\n"
      ],
      "text/plain": [
       "[1] 5136261      14"
      ]
     },
     "metadata": {},
     "output_type": "display_data"
    }
   ],
   "source": [
    "dim(bike_df)"
   ]
  },
  {
   "cell_type": "code",
   "execution_count": 641,
   "id": "22f660a5",
   "metadata": {},
   "outputs": [],
   "source": [
    "bike_cleaned_df <- data.frame(bike_df)"
   ]
  },
  {
   "cell_type": "markdown",
   "id": "ea0cb93e",
   "metadata": {},
   "source": [
    "- Make sure they are stored on different memory locations!\n",
    "    - The following comparison has to produce a False result\n",
    "\n",
    "            tracemem(bike_cleaned_df) == tracemem(bike_df)"
   ]
  },
  {
   "cell_type": "code",
   "execution_count": 642,
   "id": "325bcc87",
   "metadata": {},
   "outputs": [
    {
     "data": {
      "text/html": [
       "FALSE"
      ],
      "text/latex": [
       "FALSE"
      ],
      "text/markdown": [
       "FALSE"
      ],
      "text/plain": [
       "[1] FALSE"
      ]
     },
     "metadata": {},
     "output_type": "display_data"
    }
   ],
   "source": [
    "tracemem(bike_cleaned_df) == tracemem(bike_df)"
   ]
  },
  {
   "cell_type": "markdown",
   "id": "6f42b694",
   "metadata": {},
   "source": [
    "#### B2: Check if column names are named correctly\n",
    "- Ensure that column names are as per the rules: letters, numberss, _, & .\n",
    "- Start with a letter or with a period followed by a non-numeric char."
   ]
  },
  {
   "cell_type": "code",
   "execution_count": 643,
   "id": "b8d2647c",
   "metadata": {},
   "outputs": [
    {
     "name": "stdout",
     "output_type": "stream",
     "text": [
      "tracemem[0x00000000ea35dbf8 -> 0x00000000e63d75f0]: <Anonymous> clean_names.data.frame clean_names eval eval withVisible withCallingHandlers doTryCatch tryCatchOne tryCatchList tryCatch try handle timing_fn evaluate_call evaluate doTryCatch tryCatchOne tryCatchList doTryCatch tryCatchOne tryCatchList tryCatch <Anonymous> handle_shell <Anonymous> <Anonymous> \n",
      "tracemem[0x00000000e63d75f0 -> 0x00000000e63d7540]: <Anonymous> clean_names.data.frame clean_names eval eval withVisible withCallingHandlers doTryCatch tryCatchOne tryCatchList tryCatch try handle timing_fn evaluate_call evaluate doTryCatch tryCatchOne tryCatchList doTryCatch tryCatchOne tryCatchList tryCatch <Anonymous> handle_shell <Anonymous> <Anonymous> \n"
     ]
    }
   ],
   "source": [
    "bike_cleaned_df <- clean_names(bike_cleaned_df) "
   ]
  },
  {
   "cell_type": "code",
   "execution_count": 644,
   "id": "667c40e2",
   "metadata": {},
   "outputs": [
    {
     "data": {
      "text/html": [
       "<ol class=list-inline>\n",
       "\t<li>'ride_id'</li>\n",
       "\t<li>'rideable_type'</li>\n",
       "\t<li>'started_at'</li>\n",
       "\t<li>'ended_at'</li>\n",
       "\t<li>'start_station_name'</li>\n",
       "\t<li>'start_station_id'</li>\n",
       "\t<li>'end_station_name'</li>\n",
       "\t<li>'end_station_id'</li>\n",
       "\t<li>'start_lat'</li>\n",
       "\t<li>'start_lng'</li>\n",
       "\t<li>'end_lat'</li>\n",
       "\t<li>'end_lng'</li>\n",
       "\t<li>'member_casual'</li>\n",
       "\t<li>'month'</li>\n",
       "</ol>\n"
      ],
      "text/latex": [
       "\\begin{enumerate*}\n",
       "\\item 'ride\\_id'\n",
       "\\item 'rideable\\_type'\n",
       "\\item 'started\\_at'\n",
       "\\item 'ended\\_at'\n",
       "\\item 'start\\_station\\_name'\n",
       "\\item 'start\\_station\\_id'\n",
       "\\item 'end\\_station\\_name'\n",
       "\\item 'end\\_station\\_id'\n",
       "\\item 'start\\_lat'\n",
       "\\item 'start\\_lng'\n",
       "\\item 'end\\_lat'\n",
       "\\item 'end\\_lng'\n",
       "\\item 'member\\_casual'\n",
       "\\item 'month'\n",
       "\\end{enumerate*}\n"
      ],
      "text/markdown": [
       "1. 'ride_id'\n",
       "2. 'rideable_type'\n",
       "3. 'started_at'\n",
       "4. 'ended_at'\n",
       "5. 'start_station_name'\n",
       "6. 'start_station_id'\n",
       "7. 'end_station_name'\n",
       "8. 'end_station_id'\n",
       "9. 'start_lat'\n",
       "10. 'start_lng'\n",
       "11. 'end_lat'\n",
       "12. 'end_lng'\n",
       "13. 'member_casual'\n",
       "14. 'month'\n",
       "\n",
       "\n"
      ],
      "text/plain": [
       " [1] \"ride_id\"            \"rideable_type\"      \"started_at\"        \n",
       " [4] \"ended_at\"           \"start_station_name\" \"start_station_id\"  \n",
       " [7] \"end_station_name\"   \"end_station_id\"     \"start_lat\"         \n",
       "[10] \"start_lng\"          \"end_lat\"            \"end_lng\"           \n",
       "[13] \"member_casual\"      \"month\"             "
      ]
     },
     "metadata": {},
     "output_type": "display_data"
    }
   ],
   "source": [
    "colnames(bike_cleaned_df)"
   ]
  },
  {
   "cell_type": "markdown",
   "id": "e3297949",
   "metadata": {},
   "source": [
    "#### B3: Perform Filtering\n",
    "-  Columns start_station_id, end_station_id, start_lat, start_lng, end_lat, end_lng, and ride_id are filtered out as follows!"
   ]
  },
  {
   "cell_type": "code",
   "execution_count": 645,
   "id": "49e64ab3",
   "metadata": {},
   "outputs": [],
   "source": [
    "bike_cleaned_df <- bike_cleaned_df %>%\n",
    "    select(ride_id, rideable_type, started_at, ended_at, \n",
    "           start_station_name, end_station_name, \n",
    "           member_casual, month)"
   ]
  },
  {
   "cell_type": "code",
   "execution_count": 646,
   "id": "bc0f68ab",
   "metadata": {},
   "outputs": [
    {
     "data": {
      "text/html": [
       "<ol class=list-inline>\n",
       "\t<li>'ride_id'</li>\n",
       "\t<li>'rideable_type'</li>\n",
       "\t<li>'started_at'</li>\n",
       "\t<li>'ended_at'</li>\n",
       "\t<li>'start_station_name'</li>\n",
       "\t<li>'end_station_name'</li>\n",
       "\t<li>'member_casual'</li>\n",
       "\t<li>'month'</li>\n",
       "</ol>\n"
      ],
      "text/latex": [
       "\\begin{enumerate*}\n",
       "\\item 'ride\\_id'\n",
       "\\item 'rideable\\_type'\n",
       "\\item 'started\\_at'\n",
       "\\item 'ended\\_at'\n",
       "\\item 'start\\_station\\_name'\n",
       "\\item 'end\\_station\\_name'\n",
       "\\item 'member\\_casual'\n",
       "\\item 'month'\n",
       "\\end{enumerate*}\n"
      ],
      "text/markdown": [
       "1. 'ride_id'\n",
       "2. 'rideable_type'\n",
       "3. 'started_at'\n",
       "4. 'ended_at'\n",
       "5. 'start_station_name'\n",
       "6. 'end_station_name'\n",
       "7. 'member_casual'\n",
       "8. 'month'\n",
       "\n",
       "\n"
      ],
      "text/plain": [
       "[1] \"ride_id\"            \"rideable_type\"      \"started_at\"        \n",
       "[4] \"ended_at\"           \"start_station_name\" \"end_station_name\"  \n",
       "[7] \"member_casual\"      \"month\"             "
      ]
     },
     "metadata": {},
     "output_type": "display_data"
    }
   ],
   "source": [
    "colnames(bike_cleaned_df)"
   ]
  },
  {
   "cell_type": "code",
   "execution_count": 647,
   "id": "469bdb0c",
   "metadata": {},
   "outputs": [
    {
     "data": {
      "text/html": [
       "<table>\n",
       "<thead><tr><th scope=col>ride_id</th><th scope=col>rideable_type</th><th scope=col>started_at</th><th scope=col>ended_at</th><th scope=col>start_station_name</th><th scope=col>end_station_name</th><th scope=col>member_casual</th><th scope=col>month</th></tr></thead>\n",
       "<tbody>\n",
       "\t<tr><td>E19E6F1B8D4C42ED              </td><td>electric_bike                 </td><td>2021-01-23 16:14:19           </td><td>2021-01-23 16:24:44           </td><td>California Ave &amp; Cortez St</td><td>NA                            </td><td>member                        </td><td>2021-01                       </td></tr>\n",
       "\t<tr><td>DC88F20C2C55F27F              </td><td>electric_bike                 </td><td>2021-01-27 18:43:08           </td><td>2021-01-27 18:47:12           </td><td>California Ave &amp; Cortez St</td><td>NA                            </td><td>member                        </td><td>2021-01                       </td></tr>\n",
       "\t<tr><td>EC45C94683FE3F27              </td><td>electric_bike                 </td><td>2021-01-21 22:35:54           </td><td>2021-01-21 22:37:14           </td><td>California Ave &amp; Cortez St</td><td>NA                            </td><td>member                        </td><td>2021-01                       </td></tr>\n",
       "\t<tr><td>4FA453A75AE377DB              </td><td>electric_bike                 </td><td>2021-01-07 13:31:13           </td><td>2021-01-07 13:42:55           </td><td>California Ave &amp; Cortez St</td><td>NA                            </td><td>member                        </td><td>2021-01                       </td></tr>\n",
       "\t<tr><td>BE5E8EB4E7263A0B              </td><td>electric_bike                 </td><td>2021-01-23 02:24:02           </td><td>2021-01-23 02:24:45           </td><td>California Ave &amp; Cortez St</td><td>NA                            </td><td>casual                        </td><td>2021-01                       </td></tr>\n",
       "\t<tr><td>5D8969F88C773979              </td><td>electric_bike                 </td><td>2021-01-09 14:24:07           </td><td>2021-01-09 15:17:54           </td><td>California Ave &amp; Cortez St</td><td>NA                            </td><td>casual                        </td><td>2021-01                       </td></tr>\n",
       "</tbody>\n",
       "</table>\n"
      ],
      "text/latex": [
       "\\begin{tabular}{r|llllllll}\n",
       " ride\\_id & rideable\\_type & started\\_at & ended\\_at & start\\_station\\_name & end\\_station\\_name & member\\_casual & month\\\\\n",
       "\\hline\n",
       "\t E19E6F1B8D4C42ED             & electric\\_bike              & 2021-01-23 16:14:19          & 2021-01-23 16:24:44          & California Ave \\& Cortez St & NA                           & member                       & 2021-01                     \\\\\n",
       "\t DC88F20C2C55F27F             & electric\\_bike              & 2021-01-27 18:43:08          & 2021-01-27 18:47:12          & California Ave \\& Cortez St & NA                           & member                       & 2021-01                     \\\\\n",
       "\t EC45C94683FE3F27             & electric\\_bike              & 2021-01-21 22:35:54          & 2021-01-21 22:37:14          & California Ave \\& Cortez St & NA                           & member                       & 2021-01                     \\\\\n",
       "\t 4FA453A75AE377DB             & electric\\_bike              & 2021-01-07 13:31:13          & 2021-01-07 13:42:55          & California Ave \\& Cortez St & NA                           & member                       & 2021-01                     \\\\\n",
       "\t BE5E8EB4E7263A0B             & electric\\_bike              & 2021-01-23 02:24:02          & 2021-01-23 02:24:45          & California Ave \\& Cortez St & NA                           & casual                       & 2021-01                     \\\\\n",
       "\t 5D8969F88C773979             & electric\\_bike              & 2021-01-09 14:24:07          & 2021-01-09 15:17:54          & California Ave \\& Cortez St & NA                           & casual                       & 2021-01                     \\\\\n",
       "\\end{tabular}\n"
      ],
      "text/markdown": [
       "\n",
       "| ride_id | rideable_type | started_at | ended_at | start_station_name | end_station_name | member_casual | month |\n",
       "|---|---|---|---|---|---|---|---|\n",
       "| E19E6F1B8D4C42ED           | electric_bike              | 2021-01-23 16:14:19        | 2021-01-23 16:24:44        | California Ave & Cortez St | NA                         | member                     | 2021-01                    |\n",
       "| DC88F20C2C55F27F           | electric_bike              | 2021-01-27 18:43:08        | 2021-01-27 18:47:12        | California Ave & Cortez St | NA                         | member                     | 2021-01                    |\n",
       "| EC45C94683FE3F27           | electric_bike              | 2021-01-21 22:35:54        | 2021-01-21 22:37:14        | California Ave & Cortez St | NA                         | member                     | 2021-01                    |\n",
       "| 4FA453A75AE377DB           | electric_bike              | 2021-01-07 13:31:13        | 2021-01-07 13:42:55        | California Ave & Cortez St | NA                         | member                     | 2021-01                    |\n",
       "| BE5E8EB4E7263A0B           | electric_bike              | 2021-01-23 02:24:02        | 2021-01-23 02:24:45        | California Ave & Cortez St | NA                         | casual                     | 2021-01                    |\n",
       "| 5D8969F88C773979           | electric_bike              | 2021-01-09 14:24:07        | 2021-01-09 15:17:54        | California Ave & Cortez St | NA                         | casual                     | 2021-01                    |\n",
       "\n"
      ],
      "text/plain": [
       "  ride_id          rideable_type started_at          ended_at           \n",
       "1 E19E6F1B8D4C42ED electric_bike 2021-01-23 16:14:19 2021-01-23 16:24:44\n",
       "2 DC88F20C2C55F27F electric_bike 2021-01-27 18:43:08 2021-01-27 18:47:12\n",
       "3 EC45C94683FE3F27 electric_bike 2021-01-21 22:35:54 2021-01-21 22:37:14\n",
       "4 4FA453A75AE377DB electric_bike 2021-01-07 13:31:13 2021-01-07 13:42:55\n",
       "5 BE5E8EB4E7263A0B electric_bike 2021-01-23 02:24:02 2021-01-23 02:24:45\n",
       "6 5D8969F88C773979 electric_bike 2021-01-09 14:24:07 2021-01-09 15:17:54\n",
       "  start_station_name         end_station_name member_casual month  \n",
       "1 California Ave & Cortez St NA               member        2021-01\n",
       "2 California Ave & Cortez St NA               member        2021-01\n",
       "3 California Ave & Cortez St NA               member        2021-01\n",
       "4 California Ave & Cortez St NA               member        2021-01\n",
       "5 California Ave & Cortez St NA               casual        2021-01\n",
       "6 California Ave & Cortez St NA               casual        2021-01"
      ]
     },
     "metadata": {},
     "output_type": "display_data"
    }
   ],
   "source": [
    "head(bike_cleaned_df)"
   ]
  },
  {
   "cell_type": "markdown",
   "id": "e39b4ffa",
   "metadata": {},
   "source": [
    "#### B4: Under \"rideable_type\" column, change 'docked_bike' to 'classic_bike'\n",
    "- Effectively changed to \"classic_bike\". As shown below, there are only 'electric_bike' and 'classic_bike'."
   ]
  },
  {
   "cell_type": "code",
   "execution_count": 648,
   "id": "6596ed6e",
   "metadata": {},
   "outputs": [],
   "source": [
    "bike_cleaned_df$rideable_type[\n",
    "    bike_cleaned_df$rideable_type == 'docked_bike'] <- 'classic_bike'"
   ]
  },
  {
   "cell_type": "code",
   "execution_count": 649,
   "id": "13362b86",
   "metadata": {},
   "outputs": [],
   "source": [
    "values <- bike_cleaned_df %>%\n",
    "    select(rideable_type)"
   ]
  },
  {
   "cell_type": "code",
   "execution_count": 650,
   "id": "73551de2",
   "metadata": {},
   "outputs": [],
   "source": [
    "list_values <- list(values$rideable_type)"
   ]
  },
  {
   "cell_type": "code",
   "execution_count": 651,
   "id": "1c39c4d0",
   "metadata": {},
   "outputs": [
    {
     "data": {
      "text/html": [
       "<table>\n",
       "<tbody>\n",
       "\t<tr><td>electric_bike</td></tr>\n",
       "\t<tr><td>classic_bike </td></tr>\n",
       "</tbody>\n",
       "</table>\n"
      ],
      "text/latex": [
       "\\begin{tabular}{l}\n",
       "\t electric\\_bike\\\\\n",
       "\t classic\\_bike \\\\\n",
       "\\end{tabular}\n"
      ],
      "text/markdown": [
       "\n",
       "| electric_bike |\n",
       "| classic_bike  |\n",
       "\n"
      ],
      "text/plain": [
       "     [,1]         \n",
       "[1,] electric_bike\n",
       "[2,] classic_bike "
      ]
     },
     "metadata": {},
     "output_type": "display_data"
    }
   ],
   "source": [
    "sapply(list_values, unique)"
   ]
  },
  {
   "cell_type": "markdown",
   "id": "d7800031",
   "metadata": {},
   "source": [
    "#### B5: Fix values of the 'start_station_name' column\n",
    "- Make the following change:\n",
    "\n",
    "       'Halsted St & 18th St (Temp)' --> 'Halsted St & 18th St'"
   ]
  },
  {
   "cell_type": "code",
   "execution_count": 652,
   "id": "5aded68a",
   "metadata": {},
   "outputs": [],
   "source": [
    "bike_cleaned_df$start_station_name[\n",
    "    bike_cleaned_df$start_station_name == 'Halsted St & 18th St (Temp)'] <- 'Halsted St & 18th St'"
   ]
  },
  {
   "cell_type": "markdown",
   "id": "765850ec",
   "metadata": {},
   "source": [
    "#### B6: Replace missing names under \"start/end_station_name\" with \"not_provided\"\n",
    "\n",
    "        bike_cleaned_df <- bike_cleaned_df %>%\n",
    "            mutate(mpg = ifelse(is.na(start_station_name), 'not_provided', mpg))"
   ]
  },
  {
   "cell_type": "markdown",
   "id": "ccbaf7eb",
   "metadata": {},
   "source": [
    "- Before cleaning, there are 523467 cells with missing value under start_station_name column"
   ]
  },
  {
   "cell_type": "code",
   "execution_count": 653,
   "id": "6dcc69d4",
   "metadata": {},
   "outputs": [
    {
     "data": {
      "text/html": [
       "523467"
      ],
      "text/latex": [
       "523467"
      ],
      "text/markdown": [
       "523467"
      ],
      "text/plain": [
       "[1] 523467"
      ]
     },
     "metadata": {},
     "output_type": "display_data"
    }
   ],
   "source": [
    "sum(!complete.cases(bike_cleaned_df$start_station_name))"
   ]
  },
  {
   "cell_type": "code",
   "execution_count": 654,
   "id": "445ec497",
   "metadata": {},
   "outputs": [
    {
     "data": {
      "text/html": [
       "567268"
      ],
      "text/latex": [
       "567268"
      ],
      "text/markdown": [
       "567268"
      ],
      "text/plain": [
       "[1] 567268"
      ]
     },
     "metadata": {},
     "output_type": "display_data"
    }
   ],
   "source": [
    "sum(!complete.cases(bike_cleaned_df$end_station_name))"
   ]
  },
  {
   "cell_type": "code",
   "execution_count": 655,
   "id": "3ec0715c",
   "metadata": {},
   "outputs": [],
   "source": [
    "bike_cleaned_df <- bike_cleaned_df %>%\n",
    "    replace_na(list(start_station_name = 'not_provided'))\n",
    "\n",
    "bike_cleaned_df <- bike_cleaned_df %>%\n",
    "    replace_na(list(end_station_name = 'not_provided'))"
   ]
  },
  {
   "cell_type": "markdown",
   "id": "9c686c43",
   "metadata": {},
   "source": [
    "- After Cleaning, no cell with missing value under start_station_name column"
   ]
  },
  {
   "cell_type": "code",
   "execution_count": 656,
   "id": "37487f42",
   "metadata": {},
   "outputs": [
    {
     "data": {
      "text/html": [
       "0"
      ],
      "text/latex": [
       "0"
      ],
      "text/markdown": [
       "0"
      ],
      "text/plain": [
       "[1] 0"
      ]
     },
     "metadata": {},
     "output_type": "display_data"
    }
   ],
   "source": [
    "sum(!complete.cases(bike_cleaned_df$start_station_name))"
   ]
  },
  {
   "cell_type": "code",
   "execution_count": 657,
   "id": "576a8fbc",
   "metadata": {},
   "outputs": [
    {
     "data": {
      "text/html": [
       "0"
      ],
      "text/latex": [
       "0"
      ],
      "text/markdown": [
       "0"
      ],
      "text/plain": [
       "[1] 0"
      ]
     },
     "metadata": {},
     "output_type": "display_data"
    }
   ],
   "source": [
    "sum(!complete.cases(bike_cleaned_df$end_station_name))"
   ]
  },
  {
   "cell_type": "markdown",
   "id": "3066e6e8",
   "metadata": {},
   "source": [
    "#### B7: Remove Rows containing 'HUBBARD ST BIKE CHECKING (LBS-WH-TEST)' under column name \"start_station_name\"\n",
    "- Remove each row from bike_cleaned_df, which satisfies the following condition:\n",
    "\n",
    "        bike_cleaned_df$start_station_name == 'HUBBARD ST BIKE CHECKING (LBS-WH-TEST)'"
   ]
  },
  {
   "cell_type": "code",
   "execution_count": 658,
   "id": "e0773083",
   "metadata": {},
   "outputs": [
    {
     "data": {
      "text/html": [
       "<ol class=list-inline>\n",
       "\t<li>5136261</li>\n",
       "\t<li>8</li>\n",
       "</ol>\n"
      ],
      "text/latex": [
       "\\begin{enumerate*}\n",
       "\\item 5136261\n",
       "\\item 8\n",
       "\\end{enumerate*}\n"
      ],
      "text/markdown": [
       "1. 5136261\n",
       "2. 8\n",
       "\n",
       "\n"
      ],
      "text/plain": [
       "[1] 5136261       8"
      ]
     },
     "metadata": {},
     "output_type": "display_data"
    }
   ],
   "source": [
    "# 5136261\n",
    "dim((bike_cleaned_df))"
   ]
  },
  {
   "cell_type": "code",
   "execution_count": 659,
   "id": "0e482306",
   "metadata": {},
   "outputs": [],
   "source": [
    "condition <- 'HUBBARD ST BIKE CHECKING (LBS-WH-TEST)'\n",
    "bike_cleaned_df <- bike_cleaned_df[bike_cleaned_df$start_station_name != condition,]"
   ]
  },
  {
   "cell_type": "code",
   "execution_count": 660,
   "id": "8b8bda4b",
   "metadata": {},
   "outputs": [
    {
     "data": {
      "text/html": [
       "<ol class=list-inline>\n",
       "\t<li>5136241</li>\n",
       "\t<li>8</li>\n",
       "</ol>\n"
      ],
      "text/latex": [
       "\\begin{enumerate*}\n",
       "\\item 5136241\n",
       "\\item 8\n",
       "\\end{enumerate*}\n"
      ],
      "text/markdown": [
       "1. 5136241\n",
       "2. 8\n",
       "\n",
       "\n"
      ],
      "text/plain": [
       "[1] 5136241       8"
      ]
     },
     "metadata": {},
     "output_type": "display_data"
    }
   ],
   "source": [
    "dim((bike_cleaned_df))"
   ]
  },
  {
   "cell_type": "code",
   "execution_count": 661,
   "id": "fe40d003",
   "metadata": {},
   "outputs": [
    {
     "data": {
      "text/html": [
       "<table>\n",
       "<thead><tr><th scope=col>ride_id</th><th scope=col>rideable_type</th><th scope=col>started_at</th><th scope=col>ended_at</th><th scope=col>start_station_name</th><th scope=col>end_station_name</th><th scope=col>member_casual</th><th scope=col>month</th></tr></thead>\n",
       "<tbody>\n",
       "\t<tr><td>E19E6F1B8D4C42ED              </td><td>electric_bike                 </td><td>2021-01-23 16:14:19           </td><td>2021-01-23 16:24:44           </td><td>California Ave &amp; Cortez St</td><td>not_provided                  </td><td>member                        </td><td>2021-01                       </td></tr>\n",
       "\t<tr><td>DC88F20C2C55F27F              </td><td>electric_bike                 </td><td>2021-01-27 18:43:08           </td><td>2021-01-27 18:47:12           </td><td>California Ave &amp; Cortez St</td><td>not_provided                  </td><td>member                        </td><td>2021-01                       </td></tr>\n",
       "\t<tr><td>EC45C94683FE3F27              </td><td>electric_bike                 </td><td>2021-01-21 22:35:54           </td><td>2021-01-21 22:37:14           </td><td>California Ave &amp; Cortez St</td><td>not_provided                  </td><td>member                        </td><td>2021-01                       </td></tr>\n",
       "\t<tr><td>4FA453A75AE377DB              </td><td>electric_bike                 </td><td>2021-01-07 13:31:13           </td><td>2021-01-07 13:42:55           </td><td>California Ave &amp; Cortez St</td><td>not_provided                  </td><td>member                        </td><td>2021-01                       </td></tr>\n",
       "\t<tr><td>BE5E8EB4E7263A0B              </td><td>electric_bike                 </td><td>2021-01-23 02:24:02           </td><td>2021-01-23 02:24:45           </td><td>California Ave &amp; Cortez St</td><td>not_provided                  </td><td>casual                        </td><td>2021-01                       </td></tr>\n",
       "\t<tr><td>5D8969F88C773979              </td><td>electric_bike                 </td><td>2021-01-09 14:24:07           </td><td>2021-01-09 15:17:54           </td><td>California Ave &amp; Cortez St</td><td>not_provided                  </td><td>casual                        </td><td>2021-01                       </td></tr>\n",
       "</tbody>\n",
       "</table>\n"
      ],
      "text/latex": [
       "\\begin{tabular}{r|llllllll}\n",
       " ride\\_id & rideable\\_type & started\\_at & ended\\_at & start\\_station\\_name & end\\_station\\_name & member\\_casual & month\\\\\n",
       "\\hline\n",
       "\t E19E6F1B8D4C42ED             & electric\\_bike              & 2021-01-23 16:14:19          & 2021-01-23 16:24:44          & California Ave \\& Cortez St & not\\_provided               & member                       & 2021-01                     \\\\\n",
       "\t DC88F20C2C55F27F             & electric\\_bike              & 2021-01-27 18:43:08          & 2021-01-27 18:47:12          & California Ave \\& Cortez St & not\\_provided               & member                       & 2021-01                     \\\\\n",
       "\t EC45C94683FE3F27             & electric\\_bike              & 2021-01-21 22:35:54          & 2021-01-21 22:37:14          & California Ave \\& Cortez St & not\\_provided               & member                       & 2021-01                     \\\\\n",
       "\t 4FA453A75AE377DB             & electric\\_bike              & 2021-01-07 13:31:13          & 2021-01-07 13:42:55          & California Ave \\& Cortez St & not\\_provided               & member                       & 2021-01                     \\\\\n",
       "\t BE5E8EB4E7263A0B             & electric\\_bike              & 2021-01-23 02:24:02          & 2021-01-23 02:24:45          & California Ave \\& Cortez St & not\\_provided               & casual                       & 2021-01                     \\\\\n",
       "\t 5D8969F88C773979             & electric\\_bike              & 2021-01-09 14:24:07          & 2021-01-09 15:17:54          & California Ave \\& Cortez St & not\\_provided               & casual                       & 2021-01                     \\\\\n",
       "\\end{tabular}\n"
      ],
      "text/markdown": [
       "\n",
       "| ride_id | rideable_type | started_at | ended_at | start_station_name | end_station_name | member_casual | month |\n",
       "|---|---|---|---|---|---|---|---|\n",
       "| E19E6F1B8D4C42ED           | electric_bike              | 2021-01-23 16:14:19        | 2021-01-23 16:24:44        | California Ave & Cortez St | not_provided               | member                     | 2021-01                    |\n",
       "| DC88F20C2C55F27F           | electric_bike              | 2021-01-27 18:43:08        | 2021-01-27 18:47:12        | California Ave & Cortez St | not_provided               | member                     | 2021-01                    |\n",
       "| EC45C94683FE3F27           | electric_bike              | 2021-01-21 22:35:54        | 2021-01-21 22:37:14        | California Ave & Cortez St | not_provided               | member                     | 2021-01                    |\n",
       "| 4FA453A75AE377DB           | electric_bike              | 2021-01-07 13:31:13        | 2021-01-07 13:42:55        | California Ave & Cortez St | not_provided               | member                     | 2021-01                    |\n",
       "| BE5E8EB4E7263A0B           | electric_bike              | 2021-01-23 02:24:02        | 2021-01-23 02:24:45        | California Ave & Cortez St | not_provided               | casual                     | 2021-01                    |\n",
       "| 5D8969F88C773979           | electric_bike              | 2021-01-09 14:24:07        | 2021-01-09 15:17:54        | California Ave & Cortez St | not_provided               | casual                     | 2021-01                    |\n",
       "\n"
      ],
      "text/plain": [
       "  ride_id          rideable_type started_at          ended_at           \n",
       "1 E19E6F1B8D4C42ED electric_bike 2021-01-23 16:14:19 2021-01-23 16:24:44\n",
       "2 DC88F20C2C55F27F electric_bike 2021-01-27 18:43:08 2021-01-27 18:47:12\n",
       "3 EC45C94683FE3F27 electric_bike 2021-01-21 22:35:54 2021-01-21 22:37:14\n",
       "4 4FA453A75AE377DB electric_bike 2021-01-07 13:31:13 2021-01-07 13:42:55\n",
       "5 BE5E8EB4E7263A0B electric_bike 2021-01-23 02:24:02 2021-01-23 02:24:45\n",
       "6 5D8969F88C773979 electric_bike 2021-01-09 14:24:07 2021-01-09 15:17:54\n",
       "  start_station_name         end_station_name member_casual month  \n",
       "1 California Ave & Cortez St not_provided     member        2021-01\n",
       "2 California Ave & Cortez St not_provided     member        2021-01\n",
       "3 California Ave & Cortez St not_provided     member        2021-01\n",
       "4 California Ave & Cortez St not_provided     member        2021-01\n",
       "5 California Ave & Cortez St not_provided     casual        2021-01\n",
       "6 California Ave & Cortez St not_provided     casual        2021-01"
      ]
     },
     "metadata": {},
     "output_type": "display_data"
    }
   ],
   "source": [
    "head(bike_cleaned_df)"
   ]
  },
  {
   "cell_type": "markdown",
   "id": "a66e19d8",
   "metadata": {},
   "source": [
    "#### B8: Add a New column named \"riding_duration\" using the mutate function\n",
    "- The unit of the new column \"riding_duration\" is minutes\n",
    "\n",
    "            riding_duration <- (ended_at - started_at)"
   ]
  },
  {
   "cell_type": "code",
   "execution_count": 662,
   "id": "a0debf47",
   "metadata": {},
   "outputs": [],
   "source": [
    "bike_cleaned_df <- mutate(bike_cleaned_df, \n",
    "     riding_duration = (ended_at - started_at))\n",
    "\n",
    "bike_cleaned_df$riding_duration <- as.integer(\n",
    "    bike_cleaned_df$riding_duration)/60\n",
    "\n",
    "bike_cleaned_df$riding_duration <- round(bike_cleaned_df$riding_duration, digit=2)"
   ]
  },
  {
   "cell_type": "code",
   "execution_count": 663,
   "id": "21d13d72",
   "metadata": {},
   "outputs": [
    {
     "data": {
      "text/html": [
       "<ol class=list-inline>\n",
       "\t<li>5136241</li>\n",
       "\t<li>9</li>\n",
       "</ol>\n"
      ],
      "text/latex": [
       "\\begin{enumerate*}\n",
       "\\item 5136241\n",
       "\\item 9\n",
       "\\end{enumerate*}\n"
      ],
      "text/markdown": [
       "1. 5136241\n",
       "2. 9\n",
       "\n",
       "\n"
      ],
      "text/plain": [
       "[1] 5136241       9"
      ]
     },
     "metadata": {},
     "output_type": "display_data"
    }
   ],
   "source": [
    "dim((bike_cleaned_df))"
   ]
  },
  {
   "cell_type": "code",
   "execution_count": 664,
   "id": "f2d10946",
   "metadata": {},
   "outputs": [
    {
     "data": {
      "text/html": [
       "<table>\n",
       "<thead><tr><th scope=col>ride_id</th><th scope=col>rideable_type</th><th scope=col>started_at</th><th scope=col>ended_at</th><th scope=col>start_station_name</th><th scope=col>end_station_name</th><th scope=col>member_casual</th><th scope=col>month</th><th scope=col>riding_duration</th></tr></thead>\n",
       "<tbody>\n",
       "\t<tr><td>E19E6F1B8D4C42ED              </td><td>electric_bike                 </td><td>2021-01-23 16:14:19           </td><td>2021-01-23 16:24:44           </td><td>California Ave &amp; Cortez St</td><td>not_provided                  </td><td>member                        </td><td>2021-01                       </td><td>10.42                         </td></tr>\n",
       "\t<tr><td>DC88F20C2C55F27F              </td><td>electric_bike                 </td><td>2021-01-27 18:43:08           </td><td>2021-01-27 18:47:12           </td><td>California Ave &amp; Cortez St</td><td>not_provided                  </td><td>member                        </td><td>2021-01                       </td><td> 4.07                         </td></tr>\n",
       "\t<tr><td>EC45C94683FE3F27              </td><td>electric_bike                 </td><td>2021-01-21 22:35:54           </td><td>2021-01-21 22:37:14           </td><td>California Ave &amp; Cortez St</td><td>not_provided                  </td><td>member                        </td><td>2021-01                       </td><td> 1.33                         </td></tr>\n",
       "\t<tr><td>4FA453A75AE377DB              </td><td>electric_bike                 </td><td>2021-01-07 13:31:13           </td><td>2021-01-07 13:42:55           </td><td>California Ave &amp; Cortez St</td><td>not_provided                  </td><td>member                        </td><td>2021-01                       </td><td>11.70                         </td></tr>\n",
       "\t<tr><td>BE5E8EB4E7263A0B              </td><td>electric_bike                 </td><td>2021-01-23 02:24:02           </td><td>2021-01-23 02:24:45           </td><td>California Ave &amp; Cortez St</td><td>not_provided                  </td><td>casual                        </td><td>2021-01                       </td><td> 0.72                         </td></tr>\n",
       "\t<tr><td>5D8969F88C773979              </td><td>electric_bike                 </td><td>2021-01-09 14:24:07           </td><td>2021-01-09 15:17:54           </td><td>California Ave &amp; Cortez St</td><td>not_provided                  </td><td>casual                        </td><td>2021-01                       </td><td>53.78                         </td></tr>\n",
       "</tbody>\n",
       "</table>\n"
      ],
      "text/latex": [
       "\\begin{tabular}{r|lllllllll}\n",
       " ride\\_id & rideable\\_type & started\\_at & ended\\_at & start\\_station\\_name & end\\_station\\_name & member\\_casual & month & riding\\_duration\\\\\n",
       "\\hline\n",
       "\t E19E6F1B8D4C42ED             & electric\\_bike              & 2021-01-23 16:14:19          & 2021-01-23 16:24:44          & California Ave \\& Cortez St & not\\_provided               & member                       & 2021-01                      & 10.42                       \\\\\n",
       "\t DC88F20C2C55F27F             & electric\\_bike              & 2021-01-27 18:43:08          & 2021-01-27 18:47:12          & California Ave \\& Cortez St & not\\_provided               & member                       & 2021-01                      &  4.07                       \\\\\n",
       "\t EC45C94683FE3F27             & electric\\_bike              & 2021-01-21 22:35:54          & 2021-01-21 22:37:14          & California Ave \\& Cortez St & not\\_provided               & member                       & 2021-01                      &  1.33                       \\\\\n",
       "\t 4FA453A75AE377DB             & electric\\_bike              & 2021-01-07 13:31:13          & 2021-01-07 13:42:55          & California Ave \\& Cortez St & not\\_provided               & member                       & 2021-01                      & 11.70                       \\\\\n",
       "\t BE5E8EB4E7263A0B             & electric\\_bike              & 2021-01-23 02:24:02          & 2021-01-23 02:24:45          & California Ave \\& Cortez St & not\\_provided               & casual                       & 2021-01                      &  0.72                       \\\\\n",
       "\t 5D8969F88C773979             & electric\\_bike              & 2021-01-09 14:24:07          & 2021-01-09 15:17:54          & California Ave \\& Cortez St & not\\_provided               & casual                       & 2021-01                      & 53.78                       \\\\\n",
       "\\end{tabular}\n"
      ],
      "text/markdown": [
       "\n",
       "| ride_id | rideable_type | started_at | ended_at | start_station_name | end_station_name | member_casual | month | riding_duration |\n",
       "|---|---|---|---|---|---|---|---|---|\n",
       "| E19E6F1B8D4C42ED           | electric_bike              | 2021-01-23 16:14:19        | 2021-01-23 16:24:44        | California Ave & Cortez St | not_provided               | member                     | 2021-01                    | 10.42                      |\n",
       "| DC88F20C2C55F27F           | electric_bike              | 2021-01-27 18:43:08        | 2021-01-27 18:47:12        | California Ave & Cortez St | not_provided               | member                     | 2021-01                    |  4.07                      |\n",
       "| EC45C94683FE3F27           | electric_bike              | 2021-01-21 22:35:54        | 2021-01-21 22:37:14        | California Ave & Cortez St | not_provided               | member                     | 2021-01                    |  1.33                      |\n",
       "| 4FA453A75AE377DB           | electric_bike              | 2021-01-07 13:31:13        | 2021-01-07 13:42:55        | California Ave & Cortez St | not_provided               | member                     | 2021-01                    | 11.70                      |\n",
       "| BE5E8EB4E7263A0B           | electric_bike              | 2021-01-23 02:24:02        | 2021-01-23 02:24:45        | California Ave & Cortez St | not_provided               | casual                     | 2021-01                    |  0.72                      |\n",
       "| 5D8969F88C773979           | electric_bike              | 2021-01-09 14:24:07        | 2021-01-09 15:17:54        | California Ave & Cortez St | not_provided               | casual                     | 2021-01                    | 53.78                      |\n",
       "\n"
      ],
      "text/plain": [
       "  ride_id          rideable_type started_at          ended_at           \n",
       "1 E19E6F1B8D4C42ED electric_bike 2021-01-23 16:14:19 2021-01-23 16:24:44\n",
       "2 DC88F20C2C55F27F electric_bike 2021-01-27 18:43:08 2021-01-27 18:47:12\n",
       "3 EC45C94683FE3F27 electric_bike 2021-01-21 22:35:54 2021-01-21 22:37:14\n",
       "4 4FA453A75AE377DB electric_bike 2021-01-07 13:31:13 2021-01-07 13:42:55\n",
       "5 BE5E8EB4E7263A0B electric_bike 2021-01-23 02:24:02 2021-01-23 02:24:45\n",
       "6 5D8969F88C773979 electric_bike 2021-01-09 14:24:07 2021-01-09 15:17:54\n",
       "  start_station_name         end_station_name member_casual month  \n",
       "1 California Ave & Cortez St not_provided     member        2021-01\n",
       "2 California Ave & Cortez St not_provided     member        2021-01\n",
       "3 California Ave & Cortez St not_provided     member        2021-01\n",
       "4 California Ave & Cortez St not_provided     member        2021-01\n",
       "5 California Ave & Cortez St not_provided     casual        2021-01\n",
       "6 California Ave & Cortez St not_provided     casual        2021-01\n",
       "  riding_duration\n",
       "1 10.42          \n",
       "2  4.07          \n",
       "3  1.33          \n",
       "4 11.70          \n",
       "5  0.72          \n",
       "6 53.78          "
      ]
     },
     "metadata": {},
     "output_type": "display_data"
    }
   ],
   "source": [
    "head(bike_cleaned_df)"
   ]
  },
  {
   "cell_type": "markdown",
   "id": "419d598b",
   "metadata": {},
   "source": [
    "#### B9: Remove the values of the new column \"riding_duration\" which are negative\n",
    "- Under normal conditions, the start time can never be less than the end time; hence, any negative when (ended_at - started_at) is computed is abnormal. It should be the result of a system fault. \n",
    "- Under normal scenario, the following condition must be met.\n",
    "\n",
    "            riding_duration <- (ended_at - started_at)\n",
    "            riding_duration >= 0\n",
    "- A shown in the cell below, there are 3304 rows where the value of riding_duration is negative!\n",
    "- All these rows were removed from the dataframe."
   ]
  },
  {
   "cell_type": "code",
   "execution_count": 665,
   "id": "e4af24a6",
   "metadata": {},
   "outputs": [
    {
     "data": {
      "text/html": [
       "<ol class=list-inline>\n",
       "\t<li>3304</li>\n",
       "\t<li>9</li>\n",
       "</ol>\n"
      ],
      "text/latex": [
       "\\begin{enumerate*}\n",
       "\\item 3304\n",
       "\\item 9\n",
       "\\end{enumerate*}\n"
      ],
      "text/markdown": [
       "1. 3304\n",
       "2. 9\n",
       "\n",
       "\n"
      ],
      "text/plain": [
       "[1] 3304    9"
      ]
     },
     "metadata": {},
     "output_type": "display_data"
    }
   ],
   "source": [
    "dim(bike_cleaned_df[bike_cleaned_df$riding_duration < 0,])"
   ]
  },
  {
   "cell_type": "code",
   "execution_count": 666,
   "id": "1b693346",
   "metadata": {},
   "outputs": [
    {
     "data": {
      "text/html": [
       "<ol class=list-inline>\n",
       "\t<li>5136241</li>\n",
       "\t<li>9</li>\n",
       "</ol>\n"
      ],
      "text/latex": [
       "\\begin{enumerate*}\n",
       "\\item 5136241\n",
       "\\item 9\n",
       "\\end{enumerate*}\n"
      ],
      "text/markdown": [
       "1. 5136241\n",
       "2. 9\n",
       "\n",
       "\n"
      ],
      "text/plain": [
       "[1] 5136241       9"
      ]
     },
     "metadata": {},
     "output_type": "display_data"
    }
   ],
   "source": [
    "dim(bike_cleaned_df)"
   ]
  },
  {
   "cell_type": "code",
   "execution_count": 667,
   "id": "f4137e7f",
   "metadata": {},
   "outputs": [],
   "source": [
    "bike_cleaned_df <- bike_cleaned_df[\n",
    "    !(bike_cleaned_df$riding_duration < 0),]"
   ]
  },
  {
   "cell_type": "code",
   "execution_count": 668,
   "id": "77f80e25",
   "metadata": {},
   "outputs": [
    {
     "data": {
      "text/html": [
       "<ol class=list-inline>\n",
       "\t<li>5132937</li>\n",
       "\t<li>9</li>\n",
       "</ol>\n"
      ],
      "text/latex": [
       "\\begin{enumerate*}\n",
       "\\item 5132937\n",
       "\\item 9\n",
       "\\end{enumerate*}\n"
      ],
      "text/markdown": [
       "1. 5132937\n",
       "2. 9\n",
       "\n",
       "\n"
      ],
      "text/plain": [
       "[1] 5132937       9"
      ]
     },
     "metadata": {},
     "output_type": "display_data"
    }
   ],
   "source": [
    "dim(bike_cleaned_df)"
   ]
  },
  {
   "cell_type": "code",
   "execution_count": 669,
   "id": "c568ceb2",
   "metadata": {},
   "outputs": [
    {
     "data": {
      "text/html": [
       "0"
      ],
      "text/latex": [
       "0"
      ],
      "text/markdown": [
       "0"
      ],
      "text/plain": [
       "[1] 0"
      ]
     },
     "metadata": {},
     "output_type": "display_data"
    }
   ],
   "source": [
    "sum(is.na(bike_cleaned_df$riding_duration))"
   ]
  },
  {
   "cell_type": "markdown",
   "id": "3515a97e",
   "metadata": {},
   "source": [
    "#### B10: Remove the rows where the 'start_station_name' and 'end_station_name' indicate to the same place and the \"riding_duration\" is significantly small.\n",
    "- Probably a duration of one minute or less may mean that the rider changed their mind and dock the bicycle back. As a result, if the 'start_station_name' and 'end_station_name' indicate to the same place and the \"riding_duration\" is less than or equal to one minute (60 seconds), I opted to drop the corresponding data-point or observation.\n",
    "- Example:\n",
    "            \n",
    "            classic_bike 2021-01-17 10:50:25 2021-01-17 10:50:33\tState St & Pearson St     \tState St & Pearson St     \tmember\t2021-01\t0.13\t\n",
    "            \n",
    "- 54345 rows or data-points/observations were removed in this section, as illustrated in what ensues."
   ]
  },
  {
   "cell_type": "code",
   "execution_count": 670,
   "id": "f36ad0f3",
   "metadata": {},
   "outputs": [],
   "source": [
    "ids <-  list(bike_cleaned_df$ride_id)\n",
    "ids <- sapply(ids, unique)"
   ]
  },
  {
   "cell_type": "code",
   "execution_count": 671,
   "id": "af160df8",
   "metadata": {},
   "outputs": [
    {
     "data": {
      "text/html": [
       "5132937"
      ],
      "text/latex": [
       "5132937"
      ],
      "text/markdown": [
       "5132937"
      ],
      "text/plain": [
       "[1] 5132937"
      ]
     },
     "metadata": {},
     "output_type": "display_data"
    }
   ],
   "source": [
    "length(ids)"
   ]
  },
  {
   "cell_type": "code",
   "execution_count": 672,
   "id": "0950bd96",
   "metadata": {},
   "outputs": [
    {
     "data": {
      "text/html": [
       "<ol class=list-inline>\n",
       "\t<li>5132937</li>\n",
       "\t<li>9</li>\n",
       "</ol>\n"
      ],
      "text/latex": [
       "\\begin{enumerate*}\n",
       "\\item 5132937\n",
       "\\item 9\n",
       "\\end{enumerate*}\n"
      ],
      "text/markdown": [
       "1. 5132937\n",
       "2. 9\n",
       "\n",
       "\n"
      ],
      "text/plain": [
       "[1] 5132937       9"
      ]
     },
     "metadata": {},
     "output_type": "display_data"
    }
   ],
   "source": [
    "dim(bike_cleaned_df)"
   ]
  },
  {
   "cell_type": "code",
   "execution_count": 673,
   "id": "47d952bb",
   "metadata": {},
   "outputs": [
    {
     "data": {
      "text/html": [
       "0"
      ],
      "text/latex": [
       "0"
      ],
      "text/markdown": [
       "0"
      ],
      "text/plain": [
       "[1] 0"
      ]
     },
     "metadata": {},
     "output_type": "display_data"
    }
   ],
   "source": [
    "sum(is.na(bike_cleaned_df$riding_duration))"
   ]
  },
  {
   "cell_type": "code",
   "execution_count": 674,
   "id": "4817ba7c",
   "metadata": {},
   "outputs": [
    {
     "data": {
      "text/html": [
       "<ol class=list-inline>\n",
       "\t<li>70551</li>\n",
       "\t<li>9</li>\n",
       "</ol>\n"
      ],
      "text/latex": [
       "\\begin{enumerate*}\n",
       "\\item 70551\n",
       "\\item 9\n",
       "\\end{enumerate*}\n"
      ],
      "text/markdown": [
       "1. 70551\n",
       "2. 9\n",
       "\n",
       "\n"
      ],
      "text/plain": [
       "[1] 70551     9"
      ]
     },
     "metadata": {},
     "output_type": "display_data"
    }
   ],
   "source": [
    "sameplace <- bike_cleaned_df[((bike_cleaned_df$start_station_name == \n",
    "     bike_cleaned_df$end_station_name) & (bike_cleaned_df$riding_duration <=1)),]\n",
    "\n",
    "sameplace <- sameplace %>% drop_na(riding_duration)\n",
    "ids_sub <-  list(sameplace$ride_id)\n",
    "ids_sub <- sapply(ids_sub, unique)\n",
    "dim(sameplace)"
   ]
  },
  {
   "cell_type": "code",
   "execution_count": 675,
   "id": "22bbb419",
   "metadata": {},
   "outputs": [
    {
     "data": {
      "text/html": [
       "0"
      ],
      "text/latex": [
       "0"
      ],
      "text/markdown": [
       "0"
      ],
      "text/plain": [
       "[1] 0"
      ]
     },
     "metadata": {},
     "output_type": "display_data"
    }
   ],
   "source": [
    "sum(is.na(sameplace$riding_duration))"
   ]
  },
  {
   "cell_type": "code",
   "execution_count": 676,
   "id": "141bf2f3",
   "metadata": {},
   "outputs": [
    {
     "data": {
      "text/html": [
       "<ol class=list-inline>\n",
       "\t<li>5062386</li>\n",
       "\t<li>9</li>\n",
       "</ol>\n"
      ],
      "text/latex": [
       "\\begin{enumerate*}\n",
       "\\item 5062386\n",
       "\\item 9\n",
       "\\end{enumerate*}\n"
      ],
      "text/markdown": [
       "1. 5062386\n",
       "2. 9\n",
       "\n",
       "\n"
      ],
      "text/plain": [
       "[1] 5062386       9"
      ]
     },
     "metadata": {},
     "output_type": "display_data"
    }
   ],
   "source": [
    "sameplace2 <- bike_cleaned_df[!(bike_cleaned_df$ride_id %in% ids_sub),]\n",
    "dim(sameplace2)"
   ]
  },
  {
   "cell_type": "code",
   "execution_count": 677,
   "id": "22fbc52f",
   "metadata": {},
   "outputs": [
    {
     "data": {
      "text/html": [
       "0"
      ],
      "text/latex": [
       "0"
      ],
      "text/markdown": [
       "0"
      ],
      "text/plain": [
       "[1] 0"
      ]
     },
     "metadata": {},
     "output_type": "display_data"
    }
   ],
   "source": [
    "sum(is.na(sameplace2$riding_duration))"
   ]
  },
  {
   "cell_type": "code",
   "execution_count": 678,
   "id": "fcdd2965",
   "metadata": {},
   "outputs": [
    {
     "data": {
      "text/html": [
       "<ol class=list-inline>\n",
       "\t<li>5062386</li>\n",
       "\t<li>9</li>\n",
       "</ol>\n"
      ],
      "text/latex": [
       "\\begin{enumerate*}\n",
       "\\item 5062386\n",
       "\\item 9\n",
       "\\end{enumerate*}\n"
      ],
      "text/markdown": [
       "1. 5062386\n",
       "2. 9\n",
       "\n",
       "\n"
      ],
      "text/plain": [
       "[1] 5062386       9"
      ]
     },
     "metadata": {},
     "output_type": "display_data"
    }
   ],
   "source": [
    "bike_cleaned_df <- bike_cleaned_df[!(bike_cleaned_df$ride_id %in% ids_sub),]\n",
    "dim(bike_cleaned_df)"
   ]
  },
  {
   "cell_type": "markdown",
   "id": "d286b5b7",
   "metadata": {},
   "source": [
    "#### B11: Remove the rows that contain NA under column name \"riding_duration\" if any."
   ]
  },
  {
   "cell_type": "code",
   "execution_count": 679,
   "id": "5ce6d5dc",
   "metadata": {},
   "outputs": [
    {
     "data": {
      "text/html": [
       "0"
      ],
      "text/latex": [
       "0"
      ],
      "text/markdown": [
       "0"
      ],
      "text/plain": [
       "[1] 0"
      ]
     },
     "metadata": {},
     "output_type": "display_data"
    }
   ],
   "source": [
    "sum(is.na(bike_cleaned_df$riding_duration))"
   ]
  },
  {
   "cell_type": "code",
   "execution_count": 680,
   "id": "5e47b961",
   "metadata": {},
   "outputs": [
    {
     "data": {
      "text/html": [
       "<ol class=list-inline>\n",
       "\t<li>5062386</li>\n",
       "\t<li>9</li>\n",
       "</ol>\n"
      ],
      "text/latex": [
       "\\begin{enumerate*}\n",
       "\\item 5062386\n",
       "\\item 9\n",
       "\\end{enumerate*}\n"
      ],
      "text/markdown": [
       "1. 5062386\n",
       "2. 9\n",
       "\n",
       "\n"
      ],
      "text/plain": [
       "[1] 5062386       9"
      ]
     },
     "metadata": {},
     "output_type": "display_data"
    }
   ],
   "source": [
    "bike_cleaned_df <- bike_cleaned_df[!(is.na(bike_cleaned_df$riding_duration)),]\n",
    "dim(bike_cleaned_df)"
   ]
  },
  {
   "cell_type": "markdown",
   "id": "07bd857c",
   "metadata": {},
   "source": [
    "#### B12: Rename 'rideable_type' and 'member_casual' columns as follows:\n",
    "\n",
    "            'rideable_type' --> 'bicycle_type',  and \n",
    "            'member_casual' --> 'client_type' "
   ]
  },
  {
   "cell_type": "code",
   "execution_count": 681,
   "id": "21dc0d1c",
   "metadata": {},
   "outputs": [],
   "source": [
    "bike_cleaned_df <- bike_cleaned_df %>%\n",
    "    rename(bicycle_type = rideable_type, client_type = member_casual)"
   ]
  },
  {
   "cell_type": "code",
   "execution_count": 682,
   "id": "42759bd6",
   "metadata": {},
   "outputs": [
    {
     "data": {
      "text/html": [
       "<ol class=list-inline>\n",
       "\t<li>'ride_id'</li>\n",
       "\t<li>'bicycle_type'</li>\n",
       "\t<li>'started_at'</li>\n",
       "\t<li>'ended_at'</li>\n",
       "\t<li>'start_station_name'</li>\n",
       "\t<li>'end_station_name'</li>\n",
       "\t<li>'client_type'</li>\n",
       "\t<li>'month'</li>\n",
       "\t<li>'riding_duration'</li>\n",
       "</ol>\n"
      ],
      "text/latex": [
       "\\begin{enumerate*}\n",
       "\\item 'ride\\_id'\n",
       "\\item 'bicycle\\_type'\n",
       "\\item 'started\\_at'\n",
       "\\item 'ended\\_at'\n",
       "\\item 'start\\_station\\_name'\n",
       "\\item 'end\\_station\\_name'\n",
       "\\item 'client\\_type'\n",
       "\\item 'month'\n",
       "\\item 'riding\\_duration'\n",
       "\\end{enumerate*}\n"
      ],
      "text/markdown": [
       "1. 'ride_id'\n",
       "2. 'bicycle_type'\n",
       "3. 'started_at'\n",
       "4. 'ended_at'\n",
       "5. 'start_station_name'\n",
       "6. 'end_station_name'\n",
       "7. 'client_type'\n",
       "8. 'month'\n",
       "9. 'riding_duration'\n",
       "\n",
       "\n"
      ],
      "text/plain": [
       "[1] \"ride_id\"            \"bicycle_type\"       \"started_at\"        \n",
       "[4] \"ended_at\"           \"start_station_name\" \"end_station_name\"  \n",
       "[7] \"client_type\"        \"month\"              \"riding_duration\"   "
      ]
     },
     "metadata": {},
     "output_type": "display_data"
    }
   ],
   "source": [
    "colnames(bike_cleaned_df)"
   ]
  },
  {
   "cell_type": "markdown",
   "id": "24f1ddc9",
   "metadata": {},
   "source": [
    "#### B13: For better readability, columns are reordered as ensues:"
   ]
  },
  {
   "cell_type": "code",
   "execution_count": 683,
   "id": "2ec67710",
   "metadata": {},
   "outputs": [],
   "source": [
    "col_order <- c('ride_id', 'bicycle_type', 'client_type', 'month', 'start_station_name', \n",
    "               'end_station_name','started_at', 'ended_at','riding_duration')\n",
    "bike_cleaned_df <- bike_cleaned_df[, col_order]"
   ]
  },
  {
   "cell_type": "markdown",
   "id": "bbe7bdb3",
   "metadata": {},
   "source": [
    "- Partial view of the cleaned dataframe"
   ]
  },
  {
   "cell_type": "code",
   "execution_count": 684,
   "id": "a6d3c8d4",
   "metadata": {},
   "outputs": [
    {
     "data": {
      "text/html": [
       "<table>\n",
       "<thead><tr><th scope=col>ride_id</th><th scope=col>bicycle_type</th><th scope=col>client_type</th><th scope=col>month</th><th scope=col>start_station_name</th><th scope=col>end_station_name</th><th scope=col>started_at</th><th scope=col>ended_at</th><th scope=col>riding_duration</th></tr></thead>\n",
       "<tbody>\n",
       "\t<tr><td>E19E6F1B8D4C42ED              </td><td>electric_bike                 </td><td>member                        </td><td>2021-01                       </td><td>California Ave &amp; Cortez St</td><td>not_provided                  </td><td>2021-01-23 16:14:19           </td><td>2021-01-23 16:24:44           </td><td>10.42                         </td></tr>\n",
       "\t<tr><td>DC88F20C2C55F27F              </td><td>electric_bike                 </td><td>member                        </td><td>2021-01                       </td><td>California Ave &amp; Cortez St</td><td>not_provided                  </td><td>2021-01-27 18:43:08           </td><td>2021-01-27 18:47:12           </td><td> 4.07                         </td></tr>\n",
       "\t<tr><td>EC45C94683FE3F27              </td><td>electric_bike                 </td><td>member                        </td><td>2021-01                       </td><td>California Ave &amp; Cortez St</td><td>not_provided                  </td><td>2021-01-21 22:35:54           </td><td>2021-01-21 22:37:14           </td><td> 1.33                         </td></tr>\n",
       "\t<tr><td>4FA453A75AE377DB              </td><td>electric_bike                 </td><td>member                        </td><td>2021-01                       </td><td>California Ave &amp; Cortez St</td><td>not_provided                  </td><td>2021-01-07 13:31:13           </td><td>2021-01-07 13:42:55           </td><td>11.70                         </td></tr>\n",
       "\t<tr><td>BE5E8EB4E7263A0B              </td><td>electric_bike                 </td><td>casual                        </td><td>2021-01                       </td><td>California Ave &amp; Cortez St</td><td>not_provided                  </td><td>2021-01-23 02:24:02           </td><td>2021-01-23 02:24:45           </td><td> 0.72                         </td></tr>\n",
       "\t<tr><td>5D8969F88C773979              </td><td>electric_bike                 </td><td>casual                        </td><td>2021-01                       </td><td>California Ave &amp; Cortez St</td><td>not_provided                  </td><td>2021-01-09 14:24:07           </td><td>2021-01-09 15:17:54           </td><td>53.78                         </td></tr>\n",
       "</tbody>\n",
       "</table>\n"
      ],
      "text/latex": [
       "\\begin{tabular}{r|lllllllll}\n",
       " ride\\_id & bicycle\\_type & client\\_type & month & start\\_station\\_name & end\\_station\\_name & started\\_at & ended\\_at & riding\\_duration\\\\\n",
       "\\hline\n",
       "\t E19E6F1B8D4C42ED             & electric\\_bike              & member                       & 2021-01                      & California Ave \\& Cortez St & not\\_provided               & 2021-01-23 16:14:19          & 2021-01-23 16:24:44          & 10.42                       \\\\\n",
       "\t DC88F20C2C55F27F             & electric\\_bike              & member                       & 2021-01                      & California Ave \\& Cortez St & not\\_provided               & 2021-01-27 18:43:08          & 2021-01-27 18:47:12          &  4.07                       \\\\\n",
       "\t EC45C94683FE3F27             & electric\\_bike              & member                       & 2021-01                      & California Ave \\& Cortez St & not\\_provided               & 2021-01-21 22:35:54          & 2021-01-21 22:37:14          &  1.33                       \\\\\n",
       "\t 4FA453A75AE377DB             & electric\\_bike              & member                       & 2021-01                      & California Ave \\& Cortez St & not\\_provided               & 2021-01-07 13:31:13          & 2021-01-07 13:42:55          & 11.70                       \\\\\n",
       "\t BE5E8EB4E7263A0B             & electric\\_bike              & casual                       & 2021-01                      & California Ave \\& Cortez St & not\\_provided               & 2021-01-23 02:24:02          & 2021-01-23 02:24:45          &  0.72                       \\\\\n",
       "\t 5D8969F88C773979             & electric\\_bike              & casual                       & 2021-01                      & California Ave \\& Cortez St & not\\_provided               & 2021-01-09 14:24:07          & 2021-01-09 15:17:54          & 53.78                       \\\\\n",
       "\\end{tabular}\n"
      ],
      "text/markdown": [
       "\n",
       "| ride_id | bicycle_type | client_type | month | start_station_name | end_station_name | started_at | ended_at | riding_duration |\n",
       "|---|---|---|---|---|---|---|---|---|\n",
       "| E19E6F1B8D4C42ED           | electric_bike              | member                     | 2021-01                    | California Ave & Cortez St | not_provided               | 2021-01-23 16:14:19        | 2021-01-23 16:24:44        | 10.42                      |\n",
       "| DC88F20C2C55F27F           | electric_bike              | member                     | 2021-01                    | California Ave & Cortez St | not_provided               | 2021-01-27 18:43:08        | 2021-01-27 18:47:12        |  4.07                      |\n",
       "| EC45C94683FE3F27           | electric_bike              | member                     | 2021-01                    | California Ave & Cortez St | not_provided               | 2021-01-21 22:35:54        | 2021-01-21 22:37:14        |  1.33                      |\n",
       "| 4FA453A75AE377DB           | electric_bike              | member                     | 2021-01                    | California Ave & Cortez St | not_provided               | 2021-01-07 13:31:13        | 2021-01-07 13:42:55        | 11.70                      |\n",
       "| BE5E8EB4E7263A0B           | electric_bike              | casual                     | 2021-01                    | California Ave & Cortez St | not_provided               | 2021-01-23 02:24:02        | 2021-01-23 02:24:45        |  0.72                      |\n",
       "| 5D8969F88C773979           | electric_bike              | casual                     | 2021-01                    | California Ave & Cortez St | not_provided               | 2021-01-09 14:24:07        | 2021-01-09 15:17:54        | 53.78                      |\n",
       "\n"
      ],
      "text/plain": [
       "  ride_id          bicycle_type  client_type month   start_station_name        \n",
       "1 E19E6F1B8D4C42ED electric_bike member      2021-01 California Ave & Cortez St\n",
       "2 DC88F20C2C55F27F electric_bike member      2021-01 California Ave & Cortez St\n",
       "3 EC45C94683FE3F27 electric_bike member      2021-01 California Ave & Cortez St\n",
       "4 4FA453A75AE377DB electric_bike member      2021-01 California Ave & Cortez St\n",
       "5 BE5E8EB4E7263A0B electric_bike casual      2021-01 California Ave & Cortez St\n",
       "6 5D8969F88C773979 electric_bike casual      2021-01 California Ave & Cortez St\n",
       "  end_station_name started_at          ended_at            riding_duration\n",
       "1 not_provided     2021-01-23 16:14:19 2021-01-23 16:24:44 10.42          \n",
       "2 not_provided     2021-01-27 18:43:08 2021-01-27 18:47:12  4.07          \n",
       "3 not_provided     2021-01-21 22:35:54 2021-01-21 22:37:14  1.33          \n",
       "4 not_provided     2021-01-07 13:31:13 2021-01-07 13:42:55 11.70          \n",
       "5 not_provided     2021-01-23 02:24:02 2021-01-23 02:24:45  0.72          \n",
       "6 not_provided     2021-01-09 14:24:07 2021-01-09 15:17:54 53.78          "
      ]
     },
     "metadata": {},
     "output_type": "display_data"
    }
   ],
   "source": [
    "head(bike_cleaned_df)"
   ]
  },
  {
   "cell_type": "code",
   "execution_count": 685,
   "id": "e2a78bb9",
   "metadata": {},
   "outputs": [
    {
     "data": {
      "text/html": [
       "<ol class=list-inline>\n",
       "\t<li>5062386</li>\n",
       "\t<li>9</li>\n",
       "</ol>\n"
      ],
      "text/latex": [
       "\\begin{enumerate*}\n",
       "\\item 5062386\n",
       "\\item 9\n",
       "\\end{enumerate*}\n"
      ],
      "text/markdown": [
       "1. 5062386\n",
       "2. 9\n",
       "\n",
       "\n"
      ],
      "text/plain": [
       "[1] 5062386       9"
      ]
     },
     "metadata": {},
     "output_type": "display_data"
    }
   ],
   "source": [
    "dim(bike_cleaned_df)"
   ]
  },
  {
   "cell_type": "markdown",
   "id": "912a9ab0",
   "metadata": {},
   "source": [
    "#### B14: Outliers Detection in the \"riding_duration\" column\n",
    "- 378674 outliers, they lie above the upper boundary, beyond $Q_3 + 1.5\\times IQR$\n",
    "- These outliers have the potential to skew the analysis result; hence, they are removed!\n",
    "\n",
    "1) Descriptive Statistics: using min(), mean(), and max()\n",
    "- As illustrated below, the maximum difference between start time and end time is way much farther from the average value than minimum difference is."
   ]
  },
  {
   "cell_type": "code",
   "execution_count": 686,
   "id": "0ffba616",
   "metadata": {},
   "outputs": [
    {
     "data": {
      "text/html": [
       "0"
      ],
      "text/latex": [
       "0"
      ],
      "text/markdown": [
       "0"
      ],
      "text/plain": [
       "[1] 0"
      ]
     },
     "metadata": {},
     "output_type": "display_data"
    }
   ],
   "source": [
    "min(bike_cleaned_df$riding_duration)"
   ]
  },
  {
   "cell_type": "code",
   "execution_count": 687,
   "id": "faf94e57",
   "metadata": {},
   "outputs": [
    {
     "data": {
      "text/html": [
       "23.06"
      ],
      "text/latex": [
       "23.06"
      ],
      "text/markdown": [
       "23.06"
      ],
      "text/plain": [
       "[1] 23.06"
      ]
     },
     "metadata": {},
     "output_type": "display_data"
    }
   ],
   "source": [
    "round(mean(bike_cleaned_df$riding_duration), digit = 2)"
   ]
  },
  {
   "cell_type": "code",
   "execution_count": 688,
   "id": "874d7b69",
   "metadata": {},
   "outputs": [
    {
     "data": {
      "text/html": [
       "55944.15"
      ],
      "text/latex": [
       "55944.15"
      ],
      "text/markdown": [
       "55944.15"
      ],
      "text/plain": [
       "[1] 55944.15"
      ]
     },
     "metadata": {},
     "output_type": "display_data"
    }
   ],
   "source": [
    "max(bike_cleaned_df$riding_duration)"
   ]
  },
  {
   "cell_type": "markdown",
   "id": "7325408f",
   "metadata": {},
   "source": [
    "2) Using Histogram\n",
    "- Another basic way to detect outliers is to draw a histogram of the data.\n",
    "    - However, it gives no clear clue in this case"
   ]
  },
  {
   "cell_type": "markdown",
   "id": "be5b7564",
   "metadata": {},
   "source": [
    "3) Boxplot\n",
    "- Boxplot is useful in detecting potential outliers.\n",
    "- A boxplot helps to visualize a quantitative variable by displaying five common location summary (minimum, median, first and third quartiles and maximum)"
   ]
  },
  {
   "cell_type": "code",
   "execution_count": 689,
   "id": "6071bf24",
   "metadata": {},
   "outputs": [
    {
     "data": {
      "image/png": "[encoded data removed]",
      "text/plain": [
       "plot without title"
      ]
     },
     "metadata": {},
     "output_type": "display_data"
    }
   ],
   "source": [
    "ggplot(bike_cleaned_df) +\n",
    "  aes(x = \"\", y = riding_duration) +\n",
    "  geom_boxplot(fill = \"#0c4c8a\") +\n",
    "  labs(title = \"Outlier Detection Using Boxplot Analysis\")+\n",
    "  theme_minimal()"
   ]
  },
  {
   "cell_type": "markdown",
   "id": "6e266278",
   "metadata": {},
   "source": [
    "3) Determination of outliers using minimum and maximum bounds\n",
    "- Lower and upper bounds are computed by using the first and thrid quartiles along with 1.5 times of the inter quartile range ($IQR$).\n",
    "    - $IQR = Q3 - Q1$\n",
    "    - $lower\\_bound = Q1 - 1.5\\times IQR$\n",
    "    - $upper\\_bound = Q3 + 1.5\\times IQR$\n",
    "- In other words, all observations outside of the following interval ($I$) will be considered as potential outliers:\n",
    "\n",
    "$$I = [Q_1 - 1.5\\times IQR: Q_3 + 1.5\\times IQR]$$"
   ]
  },
  {
   "cell_type": "code",
   "execution_count": 690,
   "id": "c30eba2e",
   "metadata": {},
   "outputs": [
    {
     "data": {
      "text/html": [
       "<dl class=dl-horizontal>\n",
       "\t<dt>0%</dt>\n",
       "\t\t<dd>0</dd>\n",
       "\t<dt>25%</dt>\n",
       "\t\t<dd>7.3</dd>\n",
       "\t<dt>50%</dt>\n",
       "\t\t<dd>12.8</dd>\n",
       "\t<dt>75%</dt>\n",
       "\t\t<dd>23.03</dd>\n",
       "\t<dt>100%</dt>\n",
       "\t\t<dd>55944.15</dd>\n",
       "</dl>\n"
      ],
      "text/latex": [
       "\\begin{description*}\n",
       "\\item[0\\textbackslash{}\\%] 0\n",
       "\\item[25\\textbackslash{}\\%] 7.3\n",
       "\\item[50\\textbackslash{}\\%] 12.8\n",
       "\\item[75\\textbackslash{}\\%] 23.03\n",
       "\\item[100\\textbackslash{}\\%] 55944.15\n",
       "\\end{description*}\n"
      ],
      "text/markdown": [
       "0%\n",
       ":   025%\n",
       ":   7.350%\n",
       ":   12.875%\n",
       ":   23.03100%\n",
       ":   55944.15\n",
       "\n"
      ],
      "text/plain": [
       "      0%      25%      50%      75%     100% \n",
       "    0.00     7.30    12.80    23.03 55944.15 "
      ]
     },
     "metadata": {},
     "output_type": "display_data"
    }
   ],
   "source": [
    "quantiles = quantile(bike_cleaned_df$riding_duration)\n",
    "quantiles"
   ]
  },
  {
   "cell_type": "code",
   "execution_count": 691,
   "id": "97fc1a3f",
   "metadata": {},
   "outputs": [],
   "source": [
    "Q1 = 7.25\n",
    "Q2 = 12.75\n",
    "Q3 = 22.98\n",
    "IQR = Q3-Q1\n",
    "lower_bound = Q1 - 1.5*IQR\n",
    "upper_bound = Q3 + 1.5*IQR"
   ]
  },
  {
   "cell_type": "markdown",
   "id": "4259d041",
   "metadata": {},
   "source": [
    "- Number of observations whose riding_duration is less than lower_bound:"
   ]
  },
  {
   "cell_type": "code",
   "execution_count": 692,
   "id": "18d9d321",
   "metadata": {},
   "outputs": [],
   "source": [
    "lesstn <-  bike_cleaned_df[\n",
    "    bike_cleaned_df$riding_duration <lower_bound,]"
   ]
  },
  {
   "cell_type": "code",
   "execution_count": 693,
   "id": "9a7dce05",
   "metadata": {},
   "outputs": [
    {
     "data": {
      "text/html": [
       "<ol class=list-inline>\n",
       "\t<li>0</li>\n",
       "\t<li>9</li>\n",
       "</ol>\n"
      ],
      "text/latex": [
       "\\begin{enumerate*}\n",
       "\\item 0\n",
       "\\item 9\n",
       "\\end{enumerate*}\n"
      ],
      "text/markdown": [
       "1. 0\n",
       "2. 9\n",
       "\n",
       "\n"
      ],
      "text/plain": [
       "[1] 0 9"
      ]
     },
     "metadata": {},
     "output_type": "display_data"
    }
   ],
   "source": [
    "dim(lesstn)"
   ]
  },
  {
   "cell_type": "markdown",
   "id": "b96b585f",
   "metadata": {},
   "source": [
    "- Number of observations whose riding_duration is greater than upper_bound:"
   ]
  },
  {
   "cell_type": "code",
   "execution_count": 694,
   "id": "220f7ca6",
   "metadata": {},
   "outputs": [
    {
     "data": {
      "text/html": [
       "<ol class=list-inline>\n",
       "\t<li>378674</li>\n",
       "\t<li>9</li>\n",
       "</ol>\n"
      ],
      "text/latex": [
       "\\begin{enumerate*}\n",
       "\\item 378674\n",
       "\\item 9\n",
       "\\end{enumerate*}\n"
      ],
      "text/markdown": [
       "1. 378674\n",
       "2. 9\n",
       "\n",
       "\n"
      ],
      "text/plain": [
       "[1] 378674      9"
      ]
     },
     "metadata": {},
     "output_type": "display_data"
    }
   ],
   "source": [
    "greatertn <-  bike_cleaned_df[\n",
    "    bike_cleaned_df$riding_duration > upper_bound,]\n",
    "\n",
    "dim(greatertn)"
   ]
  },
  {
   "cell_type": "code",
   "execution_count": 695,
   "id": "3cc25eed",
   "metadata": {},
   "outputs": [
    {
     "data": {
      "text/html": [
       "<table>\n",
       "<thead><tr><th></th><th scope=col>ride_id</th><th scope=col>bicycle_type</th><th scope=col>client_type</th><th scope=col>month</th><th scope=col>start_station_name</th><th scope=col>end_station_name</th><th scope=col>started_at</th><th scope=col>ended_at</th><th scope=col>riding_duration</th></tr></thead>\n",
       "<tbody>\n",
       "\t<tr><th scope=row>6</th><td>5D8969F88C773979                                                    </td><td>electric_bike                                                       </td><td>casual                                                              </td><td>2021-01                                                             </td><td>California Ave &amp; Cortez St                                      </td><td><span style=white-space:pre-wrap>not_provided                </span></td><td>2021-01-09 14:24:07                                                 </td><td>2021-01-09 15:17:54                                                 </td><td>53.78                                                               </td></tr>\n",
       "\t<tr><th scope=row>133</th><td>0EDD906628861314                </td><td>classic_bike                    </td><td>member                          </td><td>2021-01                         </td><td>Indiana Ave &amp; Roosevelt Rd  </td><td>Sheridan Rd &amp; Irving Park Rd</td><td>2021-01-22 20:54:49             </td><td>2021-01-22 21:41:26             </td><td>46.62                           </td></tr>\n",
       "\t<tr><th scope=row>150</th><td>33A754F67BD337A7                                                        </td><td>classic_bike                                                            </td><td>member                                                                  </td><td>2021-01                                                                 </td><td>Kedzie Ave &amp; Milwaukee Ave                                          </td><td><span style=white-space:pre-wrap>Franklin St &amp; Chicago Ave   </span></td><td>2021-01-13 14:29:33                                                     </td><td>2021-01-13 15:17:50                                                     </td><td>48.28                                                                   </td></tr>\n",
       "\t<tr><th scope=row>176</th><td>2CE7583737A818C4                                                        </td><td>classic_bike                                                            </td><td>casual                                                                  </td><td>2021-01                                                                 </td><td><span style=white-space:pre-wrap>Rush St &amp; Superior St     </span>  </td><td><span style=white-space:pre-wrap>Dearborn St &amp; Erie St       </span></td><td>2021-01-04 14:03:49                                                     </td><td>2021-01-04 15:18:26                                                     </td><td>74.62                                                                   </td></tr>\n",
       "\t<tr><th scope=row>343</th><td>795E03AF09CE93F8                                                        </td><td>classic_bike                                                            </td><td>member                                                                  </td><td>2021-01                                                                 </td><td><span style=white-space:pre-wrap>University Ave &amp; 57th St  </span>  </td><td><span style=white-space:pre-wrap>Streeter Dr &amp; Grand Ave     </span></td><td>2021-01-21 11:13:36                                                     </td><td>2021-01-21 12:16:25                                                     </td><td>62.82                                                                   </td></tr>\n",
       "\t<tr><th scope=row>344</th><td>E9B4DB03F6F7226C                                                        </td><td>electric_bike                                                           </td><td>member                                                                  </td><td>2021-01                                                                 </td><td><span style=white-space:pre-wrap>University Ave &amp; 57th St  </span>  </td><td><span style=white-space:pre-wrap>Streeter Dr &amp; Grand Ave     </span></td><td>2021-01-20 11:29:49                                                     </td><td>2021-01-20 12:18:00                                                     </td><td>48.18                                                                   </td></tr>\n",
       "</tbody>\n",
       "</table>\n"
      ],
      "text/latex": [
       "\\begin{tabular}{r|lllllllll}\n",
       "  & ride\\_id & bicycle\\_type & client\\_type & month & start\\_station\\_name & end\\_station\\_name & started\\_at & ended\\_at & riding\\_duration\\\\\n",
       "\\hline\n",
       "\t6 & 5D8969F88C773979               & electric\\_bike                & casual                         & 2021-01                        & California Ave \\& Cortez St   & not\\_provided                 & 2021-01-09 14:24:07            & 2021-01-09 15:17:54            & 53.78                         \\\\\n",
       "\t133 & 0EDD906628861314               & classic\\_bike                 & member                         & 2021-01                        & Indiana Ave \\& Roosevelt Rd   & Sheridan Rd \\& Irving Park Rd & 2021-01-22 20:54:49            & 2021-01-22 21:41:26            & 46.62                         \\\\\n",
       "\t150 & 33A754F67BD337A7               & classic\\_bike                 & member                         & 2021-01                        & Kedzie Ave \\& Milwaukee Ave   & Franklin St \\& Chicago Ave    & 2021-01-13 14:29:33            & 2021-01-13 15:17:50            & 48.28                         \\\\\n",
       "\t176 & 2CE7583737A818C4               & classic\\_bike                 & casual                         & 2021-01                        & Rush St \\& Superior St        & Dearborn St \\& Erie St        & 2021-01-04 14:03:49            & 2021-01-04 15:18:26            & 74.62                         \\\\\n",
       "\t343 & 795E03AF09CE93F8               & classic\\_bike                 & member                         & 2021-01                        & University Ave \\& 57th St     & Streeter Dr \\& Grand Ave      & 2021-01-21 11:13:36            & 2021-01-21 12:16:25            & 62.82                         \\\\\n",
       "\t344 & E9B4DB03F6F7226C               & electric\\_bike                & member                         & 2021-01                        & University Ave \\& 57th St     & Streeter Dr \\& Grand Ave      & 2021-01-20 11:29:49            & 2021-01-20 12:18:00            & 48.18                         \\\\\n",
       "\\end{tabular}\n"
      ],
      "text/markdown": [
       "\n",
       "| <!--/--> | ride_id | bicycle_type | client_type | month | start_station_name | end_station_name | started_at | ended_at | riding_duration |\n",
       "|---|---|---|---|---|---|---|---|---|---|\n",
       "| 6 | 5D8969F88C773979             | electric_bike                | casual                       | 2021-01                      | California Ave & Cortez St   | not_provided                 | 2021-01-09 14:24:07          | 2021-01-09 15:17:54          | 53.78                        |\n",
       "| 133 | 0EDD906628861314             | classic_bike                 | member                       | 2021-01                      | Indiana Ave & Roosevelt Rd   | Sheridan Rd & Irving Park Rd | 2021-01-22 20:54:49          | 2021-01-22 21:41:26          | 46.62                        |\n",
       "| 150 | 33A754F67BD337A7             | classic_bike                 | member                       | 2021-01                      | Kedzie Ave & Milwaukee Ave   | Franklin St & Chicago Ave    | 2021-01-13 14:29:33          | 2021-01-13 15:17:50          | 48.28                        |\n",
       "| 176 | 2CE7583737A818C4             | classic_bike                 | casual                       | 2021-01                      | Rush St & Superior St        | Dearborn St & Erie St        | 2021-01-04 14:03:49          | 2021-01-04 15:18:26          | 74.62                        |\n",
       "| 343 | 795E03AF09CE93F8             | classic_bike                 | member                       | 2021-01                      | University Ave & 57th St     | Streeter Dr & Grand Ave      | 2021-01-21 11:13:36          | 2021-01-21 12:16:25          | 62.82                        |\n",
       "| 344 | E9B4DB03F6F7226C             | electric_bike                | member                       | 2021-01                      | University Ave & 57th St     | Streeter Dr & Grand Ave      | 2021-01-20 11:29:49          | 2021-01-20 12:18:00          | 48.18                        |\n",
       "\n"
      ],
      "text/plain": [
       "    ride_id          bicycle_type  client_type month  \n",
       "6   5D8969F88C773979 electric_bike casual      2021-01\n",
       "133 0EDD906628861314 classic_bike  member      2021-01\n",
       "150 33A754F67BD337A7 classic_bike  member      2021-01\n",
       "176 2CE7583737A818C4 classic_bike  casual      2021-01\n",
       "343 795E03AF09CE93F8 classic_bike  member      2021-01\n",
       "344 E9B4DB03F6F7226C electric_bike member      2021-01\n",
       "    start_station_name         end_station_name             started_at         \n",
       "6   California Ave & Cortez St not_provided                 2021-01-09 14:24:07\n",
       "133 Indiana Ave & Roosevelt Rd Sheridan Rd & Irving Park Rd 2021-01-22 20:54:49\n",
       "150 Kedzie Ave & Milwaukee Ave Franklin St & Chicago Ave    2021-01-13 14:29:33\n",
       "176 Rush St & Superior St      Dearborn St & Erie St        2021-01-04 14:03:49\n",
       "343 University Ave & 57th St   Streeter Dr & Grand Ave      2021-01-21 11:13:36\n",
       "344 University Ave & 57th St   Streeter Dr & Grand Ave      2021-01-20 11:29:49\n",
       "    ended_at            riding_duration\n",
       "6   2021-01-09 15:17:54 53.78          \n",
       "133 2021-01-22 21:41:26 46.62          \n",
       "150 2021-01-13 15:17:50 48.28          \n",
       "176 2021-01-04 15:18:26 74.62          \n",
       "343 2021-01-21 12:16:25 62.82          \n",
       "344 2021-01-20 12:18:00 48.18          "
      ]
     },
     "metadata": {},
     "output_type": "display_data"
    }
   ],
   "source": [
    "head(greatertn)"
   ]
  },
  {
   "cell_type": "code",
   "execution_count": 696,
   "id": "6529e648",
   "metadata": {},
   "outputs": [],
   "source": [
    "ids2 <-  list(greatertn$ride_id)\n",
    "ids2 <- sapply(ids2, unique)"
   ]
  },
  {
   "cell_type": "code",
   "execution_count": 697,
   "id": "9eb4a8df",
   "metadata": {},
   "outputs": [
    {
     "data": {
      "text/html": [
       "<ol class=list-inline>\n",
       "\t<li>5062386</li>\n",
       "\t<li>9</li>\n",
       "</ol>\n"
      ],
      "text/latex": [
       "\\begin{enumerate*}\n",
       "\\item 5062386\n",
       "\\item 9\n",
       "\\end{enumerate*}\n"
      ],
      "text/markdown": [
       "1. 5062386\n",
       "2. 9\n",
       "\n",
       "\n"
      ],
      "text/plain": [
       "[1] 5062386       9"
      ]
     },
     "metadata": {},
     "output_type": "display_data"
    }
   ],
   "source": [
    "dim(bike_cleaned_df)"
   ]
  },
  {
   "cell_type": "code",
   "execution_count": 698,
   "id": "a98b46bb",
   "metadata": {},
   "outputs": [
    {
     "data": {
      "text/html": [
       "<ol class=list-inline>\n",
       "\t<li>4683712</li>\n",
       "\t<li>9</li>\n",
       "</ol>\n"
      ],
      "text/latex": [
       "\\begin{enumerate*}\n",
       "\\item 4683712\n",
       "\\item 9\n",
       "\\end{enumerate*}\n"
      ],
      "text/markdown": [
       "1. 4683712\n",
       "2. 9\n",
       "\n",
       "\n"
      ],
      "text/plain": [
       "[1] 4683712       9"
      ]
     },
     "metadata": {},
     "output_type": "display_data"
    }
   ],
   "source": [
    "bike_cleaned_df <- bike_cleaned_df[!(bike_cleaned_df$ride_id %in% ids2),]\n",
    "dim(bike_cleaned_df)"
   ]
  },
  {
   "cell_type": "code",
   "execution_count": 699,
   "id": "d8bacc24",
   "metadata": {},
   "outputs": [
    {
     "data": {
      "text/html": [
       "378674"
      ],
      "text/latex": [
       "378674"
      ],
      "text/markdown": [
       "378674"
      ],
      "text/plain": [
       "[1] 378674"
      ]
     },
     "metadata": {},
     "output_type": "display_data"
    }
   ],
   "source": [
    "5078592-4699918"
   ]
  },
  {
   "cell_type": "markdown",
   "id": "b06b51fa",
   "metadata": {},
   "source": [
    "#### B15: Remove the ride_id column, it is no longer useful"
   ]
  },
  {
   "cell_type": "code",
   "execution_count": 700,
   "id": "64e9ba68",
   "metadata": {},
   "outputs": [],
   "source": [
    "col_order2 <- c('bicycle_type', 'client_type', 'month', 'start_station_name', \n",
    "               'end_station_name','started_at', 'ended_at','riding_duration')\n",
    "bike_cleaned_df <- bike_cleaned_df[, col_order2]"
   ]
  },
  {
   "cell_type": "code",
   "execution_count": 701,
   "id": "edfeaf45",
   "metadata": {},
   "outputs": [
    {
     "data": {
      "text/html": [
       "<ol class=list-inline>\n",
       "\t<li>'bicycle_type'</li>\n",
       "\t<li>'client_type'</li>\n",
       "\t<li>'month'</li>\n",
       "\t<li>'start_station_name'</li>\n",
       "\t<li>'end_station_name'</li>\n",
       "\t<li>'started_at'</li>\n",
       "\t<li>'ended_at'</li>\n",
       "\t<li>'riding_duration'</li>\n",
       "</ol>\n"
      ],
      "text/latex": [
       "\\begin{enumerate*}\n",
       "\\item 'bicycle\\_type'\n",
       "\\item 'client\\_type'\n",
       "\\item 'month'\n",
       "\\item 'start\\_station\\_name'\n",
       "\\item 'end\\_station\\_name'\n",
       "\\item 'started\\_at'\n",
       "\\item 'ended\\_at'\n",
       "\\item 'riding\\_duration'\n",
       "\\end{enumerate*}\n"
      ],
      "text/markdown": [
       "1. 'bicycle_type'\n",
       "2. 'client_type'\n",
       "3. 'month'\n",
       "4. 'start_station_name'\n",
       "5. 'end_station_name'\n",
       "6. 'started_at'\n",
       "7. 'ended_at'\n",
       "8. 'riding_duration'\n",
       "\n",
       "\n"
      ],
      "text/plain": [
       "[1] \"bicycle_type\"       \"client_type\"        \"month\"             \n",
       "[4] \"start_station_name\" \"end_station_name\"   \"started_at\"        \n",
       "[7] \"ended_at\"           \"riding_duration\"   "
      ]
     },
     "metadata": {},
     "output_type": "display_data"
    }
   ],
   "source": [
    "colnames(bike_cleaned_df)"
   ]
  },
  {
   "cell_type": "markdown",
   "id": "e0de68a8",
   "metadata": {},
   "source": [
    "#### B16: Create another new column called day_of_week\n",
    "- It stores the day of the week that each ride started"
   ]
  },
  {
   "cell_type": "code",
   "execution_count": 702,
   "id": "c73b4db4",
   "metadata": {},
   "outputs": [],
   "source": [
    "bike_cleaned_df$day_of_week <- weekdays(as.Date(bike_cleaned_df$started_at))\n",
    "\n",
    "col_order3 <- c('bicycle_type', 'client_type', 'month', 'start_station_name', \n",
    "               'end_station_name','started_at', 'day_of_week','ended_at','riding_duration')\n",
    "bike_cleaned_df <- bike_cleaned_df[, col_order3]"
   ]
  },
  {
   "cell_type": "code",
   "execution_count": 703,
   "id": "0528ae5e",
   "metadata": {},
   "outputs": [
    {
     "data": {
      "text/html": [
       "<ol class=list-inline>\n",
       "\t<li>'bicycle_type'</li>\n",
       "\t<li>'client_type'</li>\n",
       "\t<li>'month'</li>\n",
       "\t<li>'start_station_name'</li>\n",
       "\t<li>'end_station_name'</li>\n",
       "\t<li>'started_at'</li>\n",
       "\t<li>'day_of_week'</li>\n",
       "\t<li>'ended_at'</li>\n",
       "\t<li>'riding_duration'</li>\n",
       "</ol>\n"
      ],
      "text/latex": [
       "\\begin{enumerate*}\n",
       "\\item 'bicycle\\_type'\n",
       "\\item 'client\\_type'\n",
       "\\item 'month'\n",
       "\\item 'start\\_station\\_name'\n",
       "\\item 'end\\_station\\_name'\n",
       "\\item 'started\\_at'\n",
       "\\item 'day\\_of\\_week'\n",
       "\\item 'ended\\_at'\n",
       "\\item 'riding\\_duration'\n",
       "\\end{enumerate*}\n"
      ],
      "text/markdown": [
       "1. 'bicycle_type'\n",
       "2. 'client_type'\n",
       "3. 'month'\n",
       "4. 'start_station_name'\n",
       "5. 'end_station_name'\n",
       "6. 'started_at'\n",
       "7. 'day_of_week'\n",
       "8. 'ended_at'\n",
       "9. 'riding_duration'\n",
       "\n",
       "\n"
      ],
      "text/plain": [
       "[1] \"bicycle_type\"       \"client_type\"        \"month\"             \n",
       "[4] \"start_station_name\" \"end_station_name\"   \"started_at\"        \n",
       "[7] \"day_of_week\"        \"ended_at\"           \"riding_duration\"   "
      ]
     },
     "metadata": {},
     "output_type": "display_data"
    }
   ],
   "source": [
    "colnames(bike_cleaned_df)"
   ]
  },
  {
   "cell_type": "code",
   "execution_count": 704,
   "id": "69e07646",
   "metadata": {},
   "outputs": [
    {
     "data": {
      "text/html": [
       "<table>\n",
       "<thead><tr><th></th><th scope=col>bicycle_type</th><th scope=col>client_type</th><th scope=col>month</th><th scope=col>start_station_name</th><th scope=col>end_station_name</th><th scope=col>started_at</th><th scope=col>day_of_week</th><th scope=col>ended_at</th><th scope=col>riding_duration</th></tr></thead>\n",
       "<tbody>\n",
       "\t<tr><th scope=row>1</th><td>electric_bike                 </td><td>member                        </td><td>2021-01                       </td><td>California Ave &amp; Cortez St</td><td>not_provided                  </td><td>2021-01-23 16:14:19           </td><td>Saturday                      </td><td>2021-01-23 16:24:44           </td><td>10.42                         </td></tr>\n",
       "\t<tr><th scope=row>2</th><td>electric_bike                 </td><td>member                        </td><td>2021-01                       </td><td>California Ave &amp; Cortez St</td><td>not_provided                  </td><td>2021-01-27 18:43:08           </td><td>Wednesday                     </td><td>2021-01-27 18:47:12           </td><td> 4.07                         </td></tr>\n",
       "\t<tr><th scope=row>3</th><td>electric_bike                 </td><td>member                        </td><td>2021-01                       </td><td>California Ave &amp; Cortez St</td><td>not_provided                  </td><td>2021-01-21 22:35:54           </td><td>Thursday                      </td><td>2021-01-21 22:37:14           </td><td> 1.33                         </td></tr>\n",
       "\t<tr><th scope=row>4</th><td>electric_bike                 </td><td>member                        </td><td>2021-01                       </td><td>California Ave &amp; Cortez St</td><td>not_provided                  </td><td>2021-01-07 13:31:13           </td><td>Thursday                      </td><td>2021-01-07 13:42:55           </td><td>11.70                         </td></tr>\n",
       "\t<tr><th scope=row>5</th><td>electric_bike                 </td><td>casual                        </td><td>2021-01                       </td><td>California Ave &amp; Cortez St</td><td>not_provided                  </td><td>2021-01-23 02:24:02           </td><td>Saturday                      </td><td>2021-01-23 02:24:45           </td><td> 0.72                         </td></tr>\n",
       "\t<tr><th scope=row>7</th><td>electric_bike                                    </td><td>member                                           </td><td>2021-01                                          </td><td>California Ave &amp; Cortez St                   </td><td>not_provided                                     </td><td>2021-01-04 05:05:04                              </td><td><span style=white-space:pre-wrap>Monday   </span></td><td>2021-01-04 05:10:39                              </td><td> 5.58                                            </td></tr>\n",
       "</tbody>\n",
       "</table>\n"
      ],
      "text/latex": [
       "\\begin{tabular}{r|lllllllll}\n",
       "  & bicycle\\_type & client\\_type & month & start\\_station\\_name & end\\_station\\_name & started\\_at & day\\_of\\_week & ended\\_at & riding\\_duration\\\\\n",
       "\\hline\n",
       "\t1 & electric\\_bike              & member                       & 2021-01                      & California Ave \\& Cortez St & not\\_provided               & 2021-01-23 16:14:19          & Saturday                     & 2021-01-23 16:24:44          & 10.42                       \\\\\n",
       "\t2 & electric\\_bike              & member                       & 2021-01                      & California Ave \\& Cortez St & not\\_provided               & 2021-01-27 18:43:08          & Wednesday                    & 2021-01-27 18:47:12          &  4.07                       \\\\\n",
       "\t3 & electric\\_bike              & member                       & 2021-01                      & California Ave \\& Cortez St & not\\_provided               & 2021-01-21 22:35:54          & Thursday                     & 2021-01-21 22:37:14          &  1.33                       \\\\\n",
       "\t4 & electric\\_bike              & member                       & 2021-01                      & California Ave \\& Cortez St & not\\_provided               & 2021-01-07 13:31:13          & Thursday                     & 2021-01-07 13:42:55          & 11.70                       \\\\\n",
       "\t5 & electric\\_bike              & casual                       & 2021-01                      & California Ave \\& Cortez St & not\\_provided               & 2021-01-23 02:24:02          & Saturday                     & 2021-01-23 02:24:45          &  0.72                       \\\\\n",
       "\t7 & electric\\_bike              & member                       & 2021-01                      & California Ave \\& Cortez St & not\\_provided               & 2021-01-04 05:05:04          & Monday                       & 2021-01-04 05:10:39          &  5.58                       \\\\\n",
       "\\end{tabular}\n"
      ],
      "text/markdown": [
       "\n",
       "| <!--/--> | bicycle_type | client_type | month | start_station_name | end_station_name | started_at | day_of_week | ended_at | riding_duration |\n",
       "|---|---|---|---|---|---|---|---|---|---|\n",
       "| 1 | electric_bike              | member                     | 2021-01                    | California Ave & Cortez St | not_provided               | 2021-01-23 16:14:19        | Saturday                   | 2021-01-23 16:24:44        | 10.42                      |\n",
       "| 2 | electric_bike              | member                     | 2021-01                    | California Ave & Cortez St | not_provided               | 2021-01-27 18:43:08        | Wednesday                  | 2021-01-27 18:47:12        |  4.07                      |\n",
       "| 3 | electric_bike              | member                     | 2021-01                    | California Ave & Cortez St | not_provided               | 2021-01-21 22:35:54        | Thursday                   | 2021-01-21 22:37:14        |  1.33                      |\n",
       "| 4 | electric_bike              | member                     | 2021-01                    | California Ave & Cortez St | not_provided               | 2021-01-07 13:31:13        | Thursday                   | 2021-01-07 13:42:55        | 11.70                      |\n",
       "| 5 | electric_bike              | casual                     | 2021-01                    | California Ave & Cortez St | not_provided               | 2021-01-23 02:24:02        | Saturday                   | 2021-01-23 02:24:45        |  0.72                      |\n",
       "| 7 | electric_bike              | member                     | 2021-01                    | California Ave & Cortez St | not_provided               | 2021-01-04 05:05:04        | Monday                     | 2021-01-04 05:10:39        |  5.58                      |\n",
       "\n"
      ],
      "text/plain": [
       "  bicycle_type  client_type month   start_station_name         end_station_name\n",
       "1 electric_bike member      2021-01 California Ave & Cortez St not_provided    \n",
       "2 electric_bike member      2021-01 California Ave & Cortez St not_provided    \n",
       "3 electric_bike member      2021-01 California Ave & Cortez St not_provided    \n",
       "4 electric_bike member      2021-01 California Ave & Cortez St not_provided    \n",
       "5 electric_bike casual      2021-01 California Ave & Cortez St not_provided    \n",
       "7 electric_bike member      2021-01 California Ave & Cortez St not_provided    \n",
       "  started_at          day_of_week ended_at            riding_duration\n",
       "1 2021-01-23 16:14:19 Saturday    2021-01-23 16:24:44 10.42          \n",
       "2 2021-01-27 18:43:08 Wednesday   2021-01-27 18:47:12  4.07          \n",
       "3 2021-01-21 22:35:54 Thursday    2021-01-21 22:37:14  1.33          \n",
       "4 2021-01-07 13:31:13 Thursday    2021-01-07 13:42:55 11.70          \n",
       "5 2021-01-23 02:24:02 Saturday    2021-01-23 02:24:45  0.72          \n",
       "7 2021-01-04 05:05:04 Monday      2021-01-04 05:10:39  5.58          "
      ]
     },
     "metadata": {},
     "output_type": "display_data"
    }
   ],
   "source": [
    "head(bike_cleaned_df)"
   ]
  },
  {
   "cell_type": "code",
   "execution_count": 705,
   "id": "414ee895",
   "metadata": {},
   "outputs": [
    {
     "data": {
      "text/html": [
       "<ol class=list-inline>\n",
       "\t<li>4683712</li>\n",
       "\t<li>9</li>\n",
       "</ol>\n"
      ],
      "text/latex": [
       "\\begin{enumerate*}\n",
       "\\item 4683712\n",
       "\\item 9\n",
       "\\end{enumerate*}\n"
      ],
      "text/markdown": [
       "1. 4683712\n",
       "2. 9\n",
       "\n",
       "\n"
      ],
      "text/plain": [
       "[1] 4683712       9"
      ]
     },
     "metadata": {},
     "output_type": "display_data"
    }
   ],
   "source": [
    "dim(bike_cleaned_df)"
   ]
  },
  {
   "cell_type": "markdown",
   "id": "bd883916",
   "metadata": {},
   "source": [
    "#### B17: Save the cleaned Data to disk"
   ]
  },
  {
   "cell_type": "code",
   "execution_count": 706,
   "id": "a1250900",
   "metadata": {},
   "outputs": [],
   "source": [
    "# Path \n",
    "path1 <- \"C:\\\\Users\\\\afitwi1\\\\Desktop\\\\googleproj\\\\dataset\\\\\"\n",
    "file1 <- \"cleaned_bike_data_20211017.csv\"\n",
    "path1 <- paste(path1, file1, sep='')\n",
    "\n",
    "# write\n",
    "write.csv(bike_cleaned_df,path1, row.names = FALSE)"
   ]
  },
  {
   "cell_type": "markdown",
   "id": "5f7a4004",
   "metadata": {},
   "source": [
    "### Summary of Data Preprocessing\n",
    "- Dimensions of the cleaned dataframe\n",
    "    - 20 rows werer removed due to 'HUBBARD ST BIKE CHECKING (LBS-WH-TEST)' under column name \"start_station_name\" and \n",
    "    -  3304 Data-points/obseravtions were removed because they have negative values under column name \"riding_duration\"\n",
    "    - 54345 datapoints were removed because they have the same starting and ending stations and a riding duration of less than or equal to 60 seocnds \n",
    "    - 378,674 data-points were removed because they fall on the outlier region. They have the potential to skew the result. \n",
    "    - 7 columns were removed in the process step\n",
    "    - 2 new columns were added in the process step: riding_duration & day_of_week\n",
    "    - Ended up with a cleaned dataframe of dimensions\n",
    "    \n",
    "    $$Rows = 4, 683, 712\\ and\\ Columns = 9$$\n",
    "- 2 columns renamed: 'rideable_type' --> 'bicycle_type',  and  'member_casual' --> 'client_type' "
   ]
  },
  {
   "cell_type": "markdown",
   "id": "73ec5141",
   "metadata": {},
   "source": [
    "<div class=\"alert alert-block alert-warning\">"
   ]
  },
  {
   "cell_type": "markdown",
   "id": "49297cdf",
   "metadata": {},
   "source": [
    "<img src=\"./figs/analyze2.png\">"
   ]
  },
  {
   "cell_type": "markdown",
   "id": "d57677be",
   "metadata": {},
   "source": [
    "Now that my data is stored appropriately and has been prepared for analysis, it is time I start putting it to work. I have used the following Case Study Roadmap as a guide to successfully perform the analysis phase.\n",
    "\n",
    "# Case Study Roadmap - Analyze\n",
    "#### Guiding questions\n",
    "- How should the data be organized to perform analysis on it?\n",
    "- Has the data been properly formatted?\n",
    "- What surprises were discovered in the data?\n",
    "- What trends or relationships were found in the data?\n",
    "- How will these insights help answer the company's business questions?\n",
    "\n",
    "#### Key tasks\n",
    "1. Aggregate the data so it’s useful and accessible.\n",
    "2. Organize and format the data.\n",
    "3. Perform calculations.\n",
    "4. Identify trends and relationships.\n",
    "\n",
    "### Deliverable\n",
    "- A summary of my analysis"
   ]
  },
  {
   "cell_type": "markdown",
   "id": "9cbd1ef0",
   "metadata": {},
   "source": [
    "#### 1. Cleaned Dataframe overview\n",
    "- The unit of column \"riding_duration\" is minutes"
   ]
  },
  {
   "cell_type": "code",
   "execution_count": 621,
   "id": "dbea7292",
   "metadata": {},
   "outputs": [
    {
     "name": "stderr",
     "output_type": "stream",
     "text": [
      "Parsed with column specification:\n",
      "cols(\n",
      "  bicycle_type = col_character(),\n",
      "  client_type = col_character(),\n",
      "  month = col_character(),\n",
      "  start_station_name = col_character(),\n",
      "  end_station_name = col_character(),\n",
      "  started_at = col_datetime(format = \"\"),\n",
      "  day_of_week = col_character(),\n",
      "  ended_at = col_datetime(format = \"\"),\n",
      "  riding_duration = col_double()\n",
      ")\n"
     ]
    }
   ],
   "source": [
    "cleaned_bike_df <- read_csv(\"./dataset/cleaned_bike_data_20211017.csv\")"
   ]
  },
  {
   "cell_type": "code",
   "execution_count": 622,
   "id": "7f60a513",
   "metadata": {},
   "outputs": [
    {
     "data": {
      "text/html": [
       "<ol class=list-inline>\n",
       "\t<li>'bicycle_type'</li>\n",
       "\t<li>'client_type'</li>\n",
       "\t<li>'month'</li>\n",
       "\t<li>'start_station_name'</li>\n",
       "\t<li>'end_station_name'</li>\n",
       "\t<li>'started_at'</li>\n",
       "\t<li>'day_of_week'</li>\n",
       "\t<li>'ended_at'</li>\n",
       "\t<li>'riding_duration'</li>\n",
       "</ol>\n"
      ],
      "text/latex": [
       "\\begin{enumerate*}\n",
       "\\item 'bicycle\\_type'\n",
       "\\item 'client\\_type'\n",
       "\\item 'month'\n",
       "\\item 'start\\_station\\_name'\n",
       "\\item 'end\\_station\\_name'\n",
       "\\item 'started\\_at'\n",
       "\\item 'day\\_of\\_week'\n",
       "\\item 'ended\\_at'\n",
       "\\item 'riding\\_duration'\n",
       "\\end{enumerate*}\n"
      ],
      "text/markdown": [
       "1. 'bicycle_type'\n",
       "2. 'client_type'\n",
       "3. 'month'\n",
       "4. 'start_station_name'\n",
       "5. 'end_station_name'\n",
       "6. 'started_at'\n",
       "7. 'day_of_week'\n",
       "8. 'ended_at'\n",
       "9. 'riding_duration'\n",
       "\n",
       "\n"
      ],
      "text/plain": [
       "[1] \"bicycle_type\"       \"client_type\"        \"month\"             \n",
       "[4] \"start_station_name\" \"end_station_name\"   \"started_at\"        \n",
       "[7] \"day_of_week\"        \"ended_at\"           \"riding_duration\"   "
      ]
     },
     "metadata": {},
     "output_type": "display_data"
    }
   ],
   "source": [
    "colnames(cleaned_bike_df)"
   ]
  },
  {
   "cell_type": "code",
   "execution_count": 623,
   "id": "c69a7afe",
   "metadata": {},
   "outputs": [
    {
     "name": "stdout",
     "output_type": "stream",
     "text": [
      "Rows: 4,683,712\n",
      "Columns: 9\n",
      "$ bicycle_type       <chr> \"electric_bike\", \"electric_bike\", \"electric_bike\", ~\n",
      "$ client_type        <chr> \"member\", \"member\", \"member\", \"member\", \"casual\", \"~\n",
      "$ month              <chr> \"2021-01\", \"2021-01\", \"2021-01\", \"2021-01\", \"2021-0~\n",
      "$ start_station_name <chr> \"California Ave & Cortez St\", \"California Ave & Cor~\n",
      "$ end_station_name   <chr> \"not_provided\", \"not_provided\", \"not_provided\", \"no~\n",
      "$ started_at         <dttm> 2021-01-23 16:14:19, 2021-01-27 18:43:08, 2021-01-~\n",
      "$ day_of_week        <chr> \"Saturday\", \"Wednesday\", \"Thursday\", \"Thursday\", \"S~\n",
      "$ ended_at           <dttm> 2021-01-23 16:24:44, 2021-01-27 18:47:12, 2021-01-~\n",
      "$ riding_duration    <dbl> 10.42, 4.07, 1.33, 11.70, 0.72, 5.58, 6.67, 2.52, 7~\n"
     ]
    }
   ],
   "source": [
    "glimpse(cleaned_bike_df)"
   ]
  },
  {
   "cell_type": "code",
   "execution_count": 624,
   "id": "82856060",
   "metadata": {},
   "outputs": [
    {
     "data": {
      "text/html": [
       "0"
      ],
      "text/latex": [
       "0"
      ],
      "text/markdown": [
       "0"
      ],
      "text/plain": [
       "[1] 0"
      ]
     },
     "metadata": {},
     "output_type": "display_data"
    }
   ],
   "source": [
    "sum(is.na(cleaned_bike_df$riding_duration))"
   ]
  },
  {
   "cell_type": "markdown",
   "id": "cc5fec71",
   "metadata": {},
   "source": [
    "#### 2. Number of Anual-member riders vs Number of casual riders\n",
    "- Of all the riders in this data, 42.7% are casual members and 57.3% are annual members"
   ]
  },
  {
   "cell_type": "code",
   "execution_count": 625,
   "id": "c0ddba83",
   "metadata": {},
   "outputs": [
    {
     "data": {
      "text/html": [
       "0"
      ],
      "text/latex": [
       "0"
      ],
      "text/markdown": [
       "0"
      ],
      "text/plain": [
       "[1] 0"
      ]
     },
     "metadata": {},
     "output_type": "display_data"
    }
   ],
   "source": [
    "sum(is.na(cleaned_bike_df$client_type))"
   ]
  },
  {
   "cell_type": "code",
   "execution_count": 626,
   "id": "1fb41ed9",
   "metadata": {},
   "outputs": [
    {
     "data": {
      "text/html": [
       "<table>\n",
       "<thead><tr><th scope=col>client_type</th><th scope=col>Counts</th></tr></thead>\n",
       "<tbody>\n",
       "\t<tr><td>casual </td><td>1998061</td></tr>\n",
       "\t<tr><td>member </td><td>2685651</td></tr>\n",
       "</tbody>\n",
       "</table>\n"
      ],
      "text/latex": [
       "\\begin{tabular}{r|ll}\n",
       " client\\_type & Counts\\\\\n",
       "\\hline\n",
       "\t casual  & 1998061\\\\\n",
       "\t member  & 2685651\\\\\n",
       "\\end{tabular}\n"
      ],
      "text/markdown": [
       "\n",
       "| client_type | Counts |\n",
       "|---|---|\n",
       "| casual  | 1998061 |\n",
       "| member  | 2685651 |\n",
       "\n"
      ],
      "text/plain": [
       "  client_type Counts \n",
       "1 casual      1998061\n",
       "2 member      2685651"
      ]
     },
     "metadata": {},
     "output_type": "display_data"
    }
   ],
   "source": [
    "vec <- c(dim(cleaned_bike_df))\n",
    "count <- list(rep(1, vec[1]))\n",
    "groups <- data.frame(client_type = cleaned_bike_df$client_type, cnt = count)\n",
    "names(groups)[2] <- 'count'\n",
    "aggregates <- groups %>% group_by(client_type) %>% summarize(Counts = sum(count))\n",
    "aggregates"
   ]
  },
  {
   "cell_type": "markdown",
   "id": "a6998567",
   "metadata": {},
   "source": [
    "#### 3. Total rides in minutes for each group\n",
    "- Member riders rode for **34, 245, 797** minutes over the period of the last 12 months\n",
    "- Casual riders rode for **34, 064, 954** minutes over the period of the last 12 months"
   ]
  },
  {
   "cell_type": "code",
   "execution_count": 627,
   "id": "0022d749",
   "metadata": {},
   "outputs": [
    {
     "data": {
      "text/html": [
       "<table>\n",
       "<thead><tr><th scope=col>client_type</th><th scope=col>sum_minutes</th></tr></thead>\n",
       "<tbody>\n",
       "\t<tr><td>casual  </td><td>34064954</td></tr>\n",
       "\t<tr><td>member  </td><td>34245797</td></tr>\n",
       "</tbody>\n",
       "</table>\n"
      ],
      "text/latex": [
       "\\begin{tabular}{r|ll}\n",
       " client\\_type & sum\\_minutes\\\\\n",
       "\\hline\n",
       "\t casual   & 34064954\\\\\n",
       "\t member   & 34245797\\\\\n",
       "\\end{tabular}\n"
      ],
      "text/markdown": [
       "\n",
       "| client_type | sum_minutes |\n",
       "|---|---|\n",
       "| casual   | 34064954 |\n",
       "| member   | 34245797 |\n",
       "\n"
      ],
      "text/plain": [
       "  client_type sum_minutes\n",
       "1 casual      34064954   \n",
       "2 member      34245797   "
      ]
     },
     "metadata": {},
     "output_type": "display_data"
    }
   ],
   "source": [
    "sum_mins <- cleaned_bike_df %>% \n",
    "            group_by(client_type) %>% summarize(sum_minutes = sum(riding_duration))\n",
    "\n",
    "sum_mins"
   ]
  },
  {
   "cell_type": "markdown",
   "id": "36a7e39c",
   "metadata": {},
   "source": [
    "#### 4. Daily Average of the rider groups"
   ]
  },
  {
   "cell_type": "code",
   "execution_count": 628,
   "id": "e6951cbc",
   "metadata": {},
   "outputs": [
    {
     "data": {
      "text/html": [
       "<table>\n",
       "<thead><tr><th scope=col>client_type</th><th scope=col>daily_mean</th></tr></thead>\n",
       "<tbody>\n",
       "\t<tr><td>casual  </td><td>17.04901</td></tr>\n",
       "\t<tr><td>member  </td><td>12.75140</td></tr>\n",
       "</tbody>\n",
       "</table>\n"
      ],
      "text/latex": [
       "\\begin{tabular}{r|ll}\n",
       " client\\_type & daily\\_mean\\\\\n",
       "\\hline\n",
       "\t casual   & 17.04901\\\\\n",
       "\t member   & 12.75140\\\\\n",
       "\\end{tabular}\n"
      ],
      "text/markdown": [
       "\n",
       "| client_type | daily_mean |\n",
       "|---|---|\n",
       "| casual   | 17.04901 |\n",
       "| member   | 12.75140 |\n",
       "\n"
      ],
      "text/plain": [
       "  client_type daily_mean\n",
       "1 casual      17.04901  \n",
       "2 member      12.75140  "
      ]
     },
     "metadata": {},
     "output_type": "display_data"
    }
   ],
   "source": [
    "daily_gp <- cleaned_bike_df[,c('client_type','riding_duration')]\n",
    "daily_gp1 <- daily_gp  %>%  group_by(client_type) %>% \n",
    "                  summarize(daily_mean = mean(riding_duration))\n",
    "daily_gp1"
   ]
  },
  {
   "cell_type": "markdown",
   "id": "d73634f1",
   "metadata": {},
   "source": [
    "#### 5. Monthly Average Rides of the Rider Groups "
   ]
  },
  {
   "cell_type": "code",
   "execution_count": 629,
   "id": "f03d5f20",
   "metadata": {},
   "outputs": [
    {
     "name": "stderr",
     "output_type": "stream",
     "text": [
      "`summarise()` has grouped output by 'client_type'. You can override using the `.groups` argument.\n"
     ]
    },
    {
     "data": {
      "text/html": [
       "<table>\n",
       "<thead><tr><th scope=col>client_type</th><th scope=col>month</th><th scope=col>montly_avg_minutes</th></tr></thead>\n",
       "<tbody>\n",
       "\t<tr><td>casual  </td><td>2020-10 </td><td>16.72820</td></tr>\n",
       "\t<tr><td>casual  </td><td>2020-11 </td><td>16.78183</td></tr>\n",
       "\t<tr><td>casual  </td><td>2020-12 </td><td>15.13311</td></tr>\n",
       "\t<tr><td>casual  </td><td>2021-01 </td><td>14.41938</td></tr>\n",
       "\t<tr><td>casual  </td><td>2021-02 </td><td>16.63120</td></tr>\n",
       "\t<tr><td>casual  </td><td>2021-03 </td><td>17.89560</td></tr>\n",
       "</tbody>\n",
       "</table>\n"
      ],
      "text/latex": [
       "\\begin{tabular}{r|lll}\n",
       " client\\_type & month & montly\\_avg\\_minutes\\\\\n",
       "\\hline\n",
       "\t casual   & 2020-10  & 16.72820\\\\\n",
       "\t casual   & 2020-11  & 16.78183\\\\\n",
       "\t casual   & 2020-12  & 15.13311\\\\\n",
       "\t casual   & 2021-01  & 14.41938\\\\\n",
       "\t casual   & 2021-02  & 16.63120\\\\\n",
       "\t casual   & 2021-03  & 17.89560\\\\\n",
       "\\end{tabular}\n"
      ],
      "text/markdown": [
       "\n",
       "| client_type | month | montly_avg_minutes |\n",
       "|---|---|---|\n",
       "| casual   | 2020-10  | 16.72820 |\n",
       "| casual   | 2020-11  | 16.78183 |\n",
       "| casual   | 2020-12  | 15.13311 |\n",
       "| casual   | 2021-01  | 14.41938 |\n",
       "| casual   | 2021-02  | 16.63120 |\n",
       "| casual   | 2021-03  | 17.89560 |\n",
       "\n"
      ],
      "text/plain": [
       "  client_type month   montly_avg_minutes\n",
       "1 casual      2020-10 16.72820          \n",
       "2 casual      2020-11 16.78183          \n",
       "3 casual      2020-12 15.13311          \n",
       "4 casual      2021-01 14.41938          \n",
       "5 casual      2021-02 16.63120          \n",
       "6 casual      2021-03 17.89560          "
      ]
     },
     "metadata": {},
     "output_type": "display_data"
    }
   ],
   "source": [
    "mnth_gp <- cleaned_bike_df[,c('client_type','month','riding_duration')]\n",
    "mnth_gp <- mnth_gp  %>%  group_by(client_type, month) %>% \n",
    "                  summarize(montly_avg_minutes = mean(riding_duration))\n",
    "head(mnth_gp)"
   ]
  },
  {
   "cell_type": "markdown",
   "id": "6cf8b681",
   "metadata": {},
   "source": [
    "#### 6. Average Minutes of rides on each day of the week for members and casual riders"
   ]
  },
  {
   "cell_type": "code",
   "execution_count": 709,
   "id": "48fdbc1f",
   "metadata": {},
   "outputs": [
    {
     "name": "stderr",
     "output_type": "stream",
     "text": [
      "`summarise()` has grouped output by 'client_type'. You can override using the `.groups` argument.\n",
      "`mutate_if()` ignored the following grouping variables:\n",
      "Column `client_type`\n"
     ]
    },
    {
     "data": {
      "text/html": [
       "<table>\n",
       "<thead><tr><th scope=col>client_type</th><th scope=col>day_of_week</th><th scope=col>Weekdays_avg_minutes</th></tr></thead>\n",
       "<tbody>\n",
       "\t<tr><td>casual  </td><td>Friday  </td><td>16.55   </td></tr>\n",
       "\t<tr><td>casual  </td><td>Monday  </td><td>16.95   </td></tr>\n",
       "\t<tr><td>casual  </td><td>Saturday</td><td>18.19   </td></tr>\n",
       "\t<tr><td>casual  </td><td>Sunday  </td><td>18.37   </td></tr>\n",
       "\t<tr><td>casual  </td><td>Thursday</td><td>15.73   </td></tr>\n",
       "\t<tr><td>casual  </td><td>Tuesday </td><td>16.07   </td></tr>\n",
       "</tbody>\n",
       "</table>\n"
      ],
      "text/latex": [
       "\\begin{tabular}{r|lll}\n",
       " client\\_type & day\\_of\\_week & Weekdays\\_avg\\_minutes\\\\\n",
       "\\hline\n",
       "\t casual   & Friday   & 16.55   \\\\\n",
       "\t casual   & Monday   & 16.95   \\\\\n",
       "\t casual   & Saturday & 18.19   \\\\\n",
       "\t casual   & Sunday   & 18.37   \\\\\n",
       "\t casual   & Thursday & 15.73   \\\\\n",
       "\t casual   & Tuesday  & 16.07   \\\\\n",
       "\\end{tabular}\n"
      ],
      "text/markdown": [
       "\n",
       "| client_type | day_of_week | Weekdays_avg_minutes |\n",
       "|---|---|---|\n",
       "| casual   | Friday   | 16.55    |\n",
       "| casual   | Monday   | 16.95    |\n",
       "| casual   | Saturday | 18.19    |\n",
       "| casual   | Sunday   | 18.37    |\n",
       "| casual   | Thursday | 15.73    |\n",
       "| casual   | Tuesday  | 16.07    |\n",
       "\n"
      ],
      "text/plain": [
       "  client_type day_of_week Weekdays_avg_minutes\n",
       "1 casual      Friday      16.55               \n",
       "2 casual      Monday      16.95               \n",
       "3 casual      Saturday    18.19               \n",
       "4 casual      Sunday      18.37               \n",
       "5 casual      Thursday    15.73               \n",
       "6 casual      Tuesday     16.07               "
      ]
     },
     "metadata": {},
     "output_type": "display_data"
    }
   ],
   "source": [
    "# Average\n",
    "day_minuntes <- cleaned_bike_df[,c('client_type','day_of_week','riding_duration')]\n",
    "day_minuntes <- day_minuntes  %>%  group_by(client_type, day_of_week) %>% \n",
    "                  summarize(Weekdays_avg_minutes = mean(riding_duration))\n",
    "\n",
    "# Round to two decimal places\n",
    "day_minuntes <- day_minuntes %>% mutate_if(is.numeric, ~round(.,2))\n",
    "head(day_minuntes)"
   ]
  },
  {
   "cell_type": "markdown",
   "id": "084871b9",
   "metadata": {},
   "source": [
    "#### 7. Correlation between Weekdays and Number of Rides\n",
    "- Found no correlation!"
   ]
  },
  {
   "cell_type": "code",
   "execution_count": 711,
   "id": "a1d52578",
   "metadata": {},
   "outputs": [
    {
     "data": {
      "text/html": [
       "<table>\n",
       "<thead><tr><th></th><th scope=col>number_of_rides</th><th scope=col>day_rep</th></tr></thead>\n",
       "<tbody>\n",
       "\t<tr><th scope=row>number_of_rides</th><td>1.00000000</td><td>0.09362992</td></tr>\n",
       "\t<tr><th scope=row>day_rep</th><td>0.09362992</td><td>1.00000000</td></tr>\n",
       "</tbody>\n",
       "</table>\n"
      ],
      "text/latex": [
       "\\begin{tabular}{r|ll}\n",
       "  & number\\_of\\_rides & day\\_rep\\\\\n",
       "\\hline\n",
       "\tnumber\\_of\\_rides & 1.00000000 & 0.09362992\\\\\n",
       "\tday\\_rep & 0.09362992 & 1.00000000\\\\\n",
       "\\end{tabular}\n"
      ],
      "text/markdown": [
       "\n",
       "| <!--/--> | number_of_rides | day_rep |\n",
       "|---|---|---|\n",
       "| number_of_rides | 1.00000000 | 0.09362992 |\n",
       "| day_rep | 0.09362992 | 1.00000000 |\n",
       "\n"
      ],
      "text/plain": [
       "                number_of_rides day_rep   \n",
       "number_of_rides 1.00000000      0.09362992\n",
       "day_rep         0.09362992      1.00000000"
      ]
     },
     "metadata": {},
     "output_type": "display_data"
    }
   ],
   "source": [
    "vec7 <- c(dim(cleaned_bike_df))\n",
    "number <- list(rep(1, vec7[1]))\n",
    "cor7_df <- data.frame(ymd_val = cleaned_bike_df$started_at,\n",
    "                        cnt = number)\n",
    "names(cor7_df)[2] <- 'number'\n",
    "\n",
    "cor7_df$ymd_val <- as.Date(cor7_df$ymd_val, format = \"%Y-%m-%d\")\n",
    "cor7_df <- cor7_df%>% group_by(ymd_val) %>% summarize(number_of_rides = sum(number))\n",
    "cor7_df$month <- format(cor7_df$ymd_val,\"%Y-%m\") \n",
    "cor7_df$day_of_week <- weekdays(as.Date(cor7_df$ymd_val))\n",
    "\n",
    "cor7_df <- mutate(cor7_df, day_rep = ifelse(day_of_week == \"Sunday\", 1,\n",
    "                    ifelse(day_of_week == \"Monday\", 2,\n",
    "                    ifelse(day_of_week == \"Tuesday\", 3,\n",
    "                    ifelse(day_of_week == \"Wednesday\", 4, \n",
    "                    ifelse(day_of_week == \"Thursday\", 5, \n",
    "                    ifelse(day_of_week == \"Friday\", 6, \n",
    "                    ifelse(day_of_week == \"Saturday\", 7, \n",
    "                           \"no\"))))))))\n",
    "cor7_df$day_rep <- as.integer(cor7_df$day_rep)\n",
    "cor(select(cor7_df,  number_of_rides, day_rep))"
   ]
  },
  {
   "cell_type": "markdown",
   "id": "f911a8d8",
   "metadata": {},
   "source": [
    "#### 8. Correlation between Season and Number of Rides\n",
    "- Seasons in relation to North America, specifically Chicago:\n",
    "    - Winter := {December, January, February}, season_code := 1\n",
    "    - Spring := {March, April, May}, season_code := 2\n",
    "    - Summer := {June, July, August}, season_code := 3\n",
    "    - Fall := {September, October, November}, season_code := 4\n",
    "- There exist a strong correlation between the seasons and the number of rides. It is computed to be **0.58** (illustrated below). As a result, there is an uptrend correlation as we move from the end of winter to summer, and conversely"
   ]
  },
  {
   "cell_type": "code",
   "execution_count": 712,
   "id": "b1ef16e3",
   "metadata": {},
   "outputs": [
    {
     "data": {
      "text/html": [
       "<table>\n",
       "<thead><tr><th scope=col>ymd_val</th><th scope=col>number_of_rides</th><th scope=col>month</th><th scope=col>month2</th><th scope=col>season_code</th></tr></thead>\n",
       "<tbody>\n",
       "\t<tr><td>2020-10-01</td><td>10728     </td><td>2020-10   </td><td>10        </td><td>4         </td></tr>\n",
       "\t<tr><td>2020-10-02</td><td>13604     </td><td>2020-10   </td><td>10        </td><td>4         </td></tr>\n",
       "\t<tr><td>2020-10-03</td><td>13296     </td><td>2020-10   </td><td>10        </td><td>4         </td></tr>\n",
       "\t<tr><td>2020-10-04</td><td>11629     </td><td>2020-10   </td><td>10        </td><td>4         </td></tr>\n",
       "\t<tr><td>2020-10-05</td><td>11797     </td><td>2020-10   </td><td>10        </td><td>4         </td></tr>\n",
       "\t<tr><td>2020-10-06</td><td>14988     </td><td>2020-10   </td><td>10        </td><td>4         </td></tr>\n",
       "</tbody>\n",
       "</table>\n"
      ],
      "text/latex": [
       "\\begin{tabular}{r|lllll}\n",
       " ymd\\_val & number\\_of\\_rides & month & month2 & season\\_code\\\\\n",
       "\\hline\n",
       "\t 2020-10-01 & 10728      & 2020-10    & 10         & 4         \\\\\n",
       "\t 2020-10-02 & 13604      & 2020-10    & 10         & 4         \\\\\n",
       "\t 2020-10-03 & 13296      & 2020-10    & 10         & 4         \\\\\n",
       "\t 2020-10-04 & 11629      & 2020-10    & 10         & 4         \\\\\n",
       "\t 2020-10-05 & 11797      & 2020-10    & 10         & 4         \\\\\n",
       "\t 2020-10-06 & 14988      & 2020-10    & 10         & 4         \\\\\n",
       "\\end{tabular}\n"
      ],
      "text/markdown": [
       "\n",
       "| ymd_val | number_of_rides | month | month2 | season_code |\n",
       "|---|---|---|---|---|\n",
       "| 2020-10-01 | 10728      | 2020-10    | 10         | 4          |\n",
       "| 2020-10-02 | 13604      | 2020-10    | 10         | 4          |\n",
       "| 2020-10-03 | 13296      | 2020-10    | 10         | 4          |\n",
       "| 2020-10-04 | 11629      | 2020-10    | 10         | 4          |\n",
       "| 2020-10-05 | 11797      | 2020-10    | 10         | 4          |\n",
       "| 2020-10-06 | 14988      | 2020-10    | 10         | 4          |\n",
       "\n"
      ],
      "text/plain": [
       "  ymd_val    number_of_rides month   month2 season_code\n",
       "1 2020-10-01 10728           2020-10 10     4          \n",
       "2 2020-10-02 13604           2020-10 10     4          \n",
       "3 2020-10-03 13296           2020-10 10     4          \n",
       "4 2020-10-04 11629           2020-10 10     4          \n",
       "5 2020-10-05 11797           2020-10 10     4          \n",
       "6 2020-10-06 14988           2020-10 10     4          "
      ]
     },
     "metadata": {},
     "output_type": "display_data"
    }
   ],
   "source": [
    "vec8 <- c(dim(cleaned_bike_df))\n",
    "number8 <- list(rep(1, vec8[1]))\n",
    "cor8_df <- data.frame(ymd_val = cleaned_bike_df$started_at,\n",
    "                        cnt = number8)\n",
    "names(cor8_df)[2] <- 'number'\n",
    "\n",
    "cor8_df$ymd_val <- as.Date(cor8_df$ymd_val, format = \"%Y-%m-%d\")\n",
    "cor8_df <- cor8_df%>% group_by(ymd_val) %>% summarize(number_of_rides = sum(number))\n",
    "cor8_df$month <- format(cor8_df$ymd_val,\"%Y-%m\") \n",
    "cor8_df$month2 <- format(cor8_df$ymd_val,\"%m\") \n",
    "cor8_df$month2 <- as.integer(cor8_df$month2) \n",
    "\n",
    "cor8_df <- mutate(cor8_df, season_code = ifelse(month2 == 1, 1,\n",
    "                    ifelse(month2 == 2, 1,\n",
    "                    ifelse(month2 == 3, 2, \n",
    "                    ifelse(month2 == 4, 2, \n",
    "                    ifelse(month2 == 5, 2, \n",
    "                    ifelse(month2 == 6, 3,\n",
    "                    ifelse(month2 == 7, 3,\n",
    "                    ifelse(month2 == 8, 3,\n",
    "                    ifelse(month2 == 9, 4,\n",
    "                    ifelse(month2 == 10, 4,\n",
    "                    ifelse(month2 == 11, 4,\n",
    "                    ifelse(month2 == 12, 1,                   \n",
    "                           \"no\")))))))))))))\n",
    "\n",
    "cor8_df$season_code <- as.integer(cor8_df$season_code) \n",
    "head(cor8_df)"
   ]
  },
  {
   "cell_type": "code",
   "execution_count": 713,
   "id": "f0ded0b3",
   "metadata": {},
   "outputs": [
    {
     "data": {
      "text/html": [
       "<table>\n",
       "<thead><tr><th></th><th scope=col>season_code</th><th scope=col>number_of_rides</th></tr></thead>\n",
       "<tbody>\n",
       "\t<tr><th scope=row>season_code</th><td>1.0000000</td><td>0.5815191</td></tr>\n",
       "\t<tr><th scope=row>number_of_rides</th><td>0.5815191</td><td>1.0000000</td></tr>\n",
       "</tbody>\n",
       "</table>\n"
      ],
      "text/latex": [
       "\\begin{tabular}{r|ll}\n",
       "  & season\\_code & number\\_of\\_rides\\\\\n",
       "\\hline\n",
       "\tseason\\_code & 1.0000000 & 0.5815191\\\\\n",
       "\tnumber\\_of\\_rides & 0.5815191 & 1.0000000\\\\\n",
       "\\end{tabular}\n"
      ],
      "text/markdown": [
       "\n",
       "| <!--/--> | season_code | number_of_rides |\n",
       "|---|---|---|\n",
       "| season_code | 1.0000000 | 0.5815191 |\n",
       "| number_of_rides | 0.5815191 | 1.0000000 |\n",
       "\n"
      ],
      "text/plain": [
       "                season_code number_of_rides\n",
       "season_code     1.0000000   0.5815191      \n",
       "number_of_rides 0.5815191   1.0000000      "
      ]
     },
     "metadata": {},
     "output_type": "display_data"
    }
   ],
   "source": [
    "cor(select(cor8_df,  season_code, number_of_rides))"
   ]
  },
  {
   "cell_type": "markdown",
   "id": "3a1da3fe",
   "metadata": {},
   "source": [
    "#### 9. Correlation between Seasons and Riding durations\n",
    "- As demostrated below, the correlation between seasons and riding durations is 0.004, which is almost zero. Hence, there is no correlation between the seasons and riding durations."
   ]
  },
  {
   "cell_type": "code",
   "execution_count": 714,
   "id": "59c81e4e",
   "metadata": {},
   "outputs": [
    {
     "data": {
      "text/html": [
       "<table>\n",
       "<thead><tr><th scope=col>started_at</th><th scope=col>riding_duration</th><th scope=col>month</th><th scope=col>season_code</th></tr></thead>\n",
       "<tbody>\n",
       "\t<tr><td>2021-01-23</td><td>10.42     </td><td>1         </td><td>1         </td></tr>\n",
       "\t<tr><td>2021-01-27</td><td> 4.07     </td><td>1         </td><td>1         </td></tr>\n",
       "\t<tr><td>2021-01-21</td><td> 1.33     </td><td>1         </td><td>1         </td></tr>\n",
       "\t<tr><td>2021-01-07</td><td>11.70     </td><td>1         </td><td>1         </td></tr>\n",
       "\t<tr><td>2021-01-23</td><td> 0.72     </td><td>1         </td><td>1         </td></tr>\n",
       "\t<tr><td>2021-01-04</td><td> 5.58     </td><td>1         </td><td>1         </td></tr>\n",
       "</tbody>\n",
       "</table>\n"
      ],
      "text/latex": [
       "\\begin{tabular}{r|llll}\n",
       " started\\_at & riding\\_duration & month & season\\_code\\\\\n",
       "\\hline\n",
       "\t 2021-01-23 & 10.42      & 1          & 1         \\\\\n",
       "\t 2021-01-27 &  4.07      & 1          & 1         \\\\\n",
       "\t 2021-01-21 &  1.33      & 1          & 1         \\\\\n",
       "\t 2021-01-07 & 11.70      & 1          & 1         \\\\\n",
       "\t 2021-01-23 &  0.72      & 1          & 1         \\\\\n",
       "\t 2021-01-04 &  5.58      & 1          & 1         \\\\\n",
       "\\end{tabular}\n"
      ],
      "text/markdown": [
       "\n",
       "| started_at | riding_duration | month | season_code |\n",
       "|---|---|---|---|\n",
       "| 2021-01-23 | 10.42      | 1          | 1          |\n",
       "| 2021-01-27 |  4.07      | 1          | 1          |\n",
       "| 2021-01-21 |  1.33      | 1          | 1          |\n",
       "| 2021-01-07 | 11.70      | 1          | 1          |\n",
       "| 2021-01-23 |  0.72      | 1          | 1          |\n",
       "| 2021-01-04 |  5.58      | 1          | 1          |\n",
       "\n"
      ],
      "text/plain": [
       "  started_at riding_duration month season_code\n",
       "1 2021-01-23 10.42           1     1          \n",
       "2 2021-01-27  4.07           1     1          \n",
       "3 2021-01-21  1.33           1     1          \n",
       "4 2021-01-07 11.70           1     1          \n",
       "5 2021-01-23  0.72           1     1          \n",
       "6 2021-01-04  5.58           1     1          "
      ]
     },
     "metadata": {},
     "output_type": "display_data"
    }
   ],
   "source": [
    "cor9_df <- cleaned_bike_df[,c(\"started_at\",\"riding_duration\")]\n",
    "cor9_df$started_at <- as.Date(cor9_df$started_at, format = \"%Y-%m-%d\")\n",
    "cor9_df$month <- format(cor9_df$started_at,\"%m\") \n",
    "cor9_df$month <- as.integer(cor9_df$month) \n",
    "\n",
    "cor9_df <- mutate(cor9_df, season_code = ifelse(month == 1, 1,\n",
    "                    ifelse(month == 2, 1,\n",
    "                    ifelse(month == 3, 2, \n",
    "                    ifelse(month == 4, 2, \n",
    "                    ifelse(month == 5, 2, \n",
    "                    ifelse(month == 6, 3,\n",
    "                    ifelse(month == 7, 3,\n",
    "                    ifelse(month == 8, 3,\n",
    "                    ifelse(month == 9, 4,\n",
    "                    ifelse(month == 10, 4,\n",
    "                    ifelse(month == 11, 4,\n",
    "                    ifelse(month == 12, 1,                   \n",
    "                           \"no\")))))))))))))\n",
    "\n",
    "cor9_df$season_code <- as.integer(cor9_df$season_code) \n",
    "head(cor9_df)"
   ]
  },
  {
   "cell_type": "code",
   "execution_count": 715,
   "id": "9c45d93b",
   "metadata": {},
   "outputs": [
    {
     "data": {
      "text/html": [
       "<table>\n",
       "<thead><tr><th></th><th scope=col>season_code</th><th scope=col>riding_duration</th></tr></thead>\n",
       "<tbody>\n",
       "\t<tr><th scope=row>season_code</th><td>1.000000000</td><td>0.004026174</td></tr>\n",
       "\t<tr><th scope=row>riding_duration</th><td>0.004026174</td><td>1.000000000</td></tr>\n",
       "</tbody>\n",
       "</table>\n"
      ],
      "text/latex": [
       "\\begin{tabular}{r|ll}\n",
       "  & season\\_code & riding\\_duration\\\\\n",
       "\\hline\n",
       "\tseason\\_code & 1.000000000 & 0.004026174\\\\\n",
       "\triding\\_duration & 0.004026174 & 1.000000000\\\\\n",
       "\\end{tabular}\n"
      ],
      "text/markdown": [
       "\n",
       "| <!--/--> | season_code | riding_duration |\n",
       "|---|---|---|\n",
       "| season_code | 1.000000000 | 0.004026174 |\n",
       "| riding_duration | 0.004026174 | 1.000000000 |\n",
       "\n"
      ],
      "text/plain": [
       "                season_code riding_duration\n",
       "season_code     1.000000000 0.004026174    \n",
       "riding_duration 0.004026174 1.000000000    "
      ]
     },
     "metadata": {},
     "output_type": "display_data"
    }
   ],
   "source": [
    "cor(select(cor9_df,  season_code, riding_duration))"
   ]
  },
  {
   "cell_type": "markdown",
   "id": "a9bfbacc",
   "metadata": {},
   "source": [
    "#### 10. Most Visited Stations"
   ]
  },
  {
   "cell_type": "code",
   "execution_count": 716,
   "id": "1d553a07",
   "metadata": {},
   "outputs": [],
   "source": [
    "ms_df <- cleaned_bike_df[,c('client_type','start_station_name', 'end_station_name')]"
   ]
  },
  {
   "cell_type": "code",
   "execution_count": 717,
   "id": "5f3efe14",
   "metadata": {},
   "outputs": [
    {
     "data": {
      "text/html": [
       "<table>\n",
       "<thead><tr><th scope=col>client_type</th><th scope=col>start_station_name</th><th scope=col>end_station_name</th></tr></thead>\n",
       "<tbody>\n",
       "\t<tr><td>member                        </td><td>California Ave &amp; Cortez St</td><td>not_provided                  </td></tr>\n",
       "\t<tr><td>member                        </td><td>California Ave &amp; Cortez St</td><td>not_provided                  </td></tr>\n",
       "\t<tr><td>member                        </td><td>California Ave &amp; Cortez St</td><td>not_provided                  </td></tr>\n",
       "\t<tr><td>member                        </td><td>California Ave &amp; Cortez St</td><td>not_provided                  </td></tr>\n",
       "\t<tr><td>casual                        </td><td>California Ave &amp; Cortez St</td><td>not_provided                  </td></tr>\n",
       "\t<tr><td>member                        </td><td>California Ave &amp; Cortez St</td><td>not_provided                  </td></tr>\n",
       "</tbody>\n",
       "</table>\n"
      ],
      "text/latex": [
       "\\begin{tabular}{r|lll}\n",
       " client\\_type & start\\_station\\_name & end\\_station\\_name\\\\\n",
       "\\hline\n",
       "\t member                       & California Ave \\& Cortez St & not\\_provided              \\\\\n",
       "\t member                       & California Ave \\& Cortez St & not\\_provided              \\\\\n",
       "\t member                       & California Ave \\& Cortez St & not\\_provided              \\\\\n",
       "\t member                       & California Ave \\& Cortez St & not\\_provided              \\\\\n",
       "\t casual                       & California Ave \\& Cortez St & not\\_provided              \\\\\n",
       "\t member                       & California Ave \\& Cortez St & not\\_provided              \\\\\n",
       "\\end{tabular}\n"
      ],
      "text/markdown": [
       "\n",
       "| client_type | start_station_name | end_station_name |\n",
       "|---|---|---|\n",
       "| member                     | California Ave & Cortez St | not_provided               |\n",
       "| member                     | California Ave & Cortez St | not_provided               |\n",
       "| member                     | California Ave & Cortez St | not_provided               |\n",
       "| member                     | California Ave & Cortez St | not_provided               |\n",
       "| casual                     | California Ave & Cortez St | not_provided               |\n",
       "| member                     | California Ave & Cortez St | not_provided               |\n",
       "\n"
      ],
      "text/plain": [
       "  client_type start_station_name         end_station_name\n",
       "1 member      California Ave & Cortez St not_provided    \n",
       "2 member      California Ave & Cortez St not_provided    \n",
       "3 member      California Ave & Cortez St not_provided    \n",
       "4 member      California Ave & Cortez St not_provided    \n",
       "5 casual      California Ave & Cortez St not_provided    \n",
       "6 member      California Ave & Cortez St not_provided    "
      ]
     },
     "metadata": {},
     "output_type": "display_data"
    }
   ],
   "source": [
    "head(ms_df)"
   ]
  },
  {
   "cell_type": "markdown",
   "id": "f8bb1538",
   "metadata": {},
   "source": [
    "##### By Casual Riders\n",
    "- 228,056 observations have no named start stations for casual riders\n",
    "- 256,860 datapoints have no named end stations for casual riders\n",
    "- Totally, 484,916 rows don't have named start or end stations for casual riders"
   ]
  },
  {
   "cell_type": "code",
   "execution_count": 718,
   "id": "d694ce09",
   "metadata": {},
   "outputs": [],
   "source": [
    "cas_df <- ms_df[ms_df$client_type == \"casual\",]"
   ]
  },
  {
   "cell_type": "code",
   "execution_count": 719,
   "id": "68078c59",
   "metadata": {},
   "outputs": [
    {
     "data": {
      "text/html": [
       "<ol class=list-inline>\n",
       "\t<li>228056</li>\n",
       "\t<li>3</li>\n",
       "</ol>\n"
      ],
      "text/latex": [
       "\\begin{enumerate*}\n",
       "\\item 228056\n",
       "\\item 3\n",
       "\\end{enumerate*}\n"
      ],
      "text/markdown": [
       "1. 228056\n",
       "2. 3\n",
       "\n",
       "\n"
      ],
      "text/plain": [
       "[1] 228056      3"
      ]
     },
     "metadata": {},
     "output_type": "display_data"
    }
   ],
   "source": [
    "not_provided_sc <- cas_df[cas_df$start_station_name == \"not_provided\",]\n",
    "dim(not_provided_sc)"
   ]
  },
  {
   "cell_type": "code",
   "execution_count": 720,
   "id": "e611b173",
   "metadata": {},
   "outputs": [
    {
     "data": {
      "text/html": [
       "<ol class=list-inline>\n",
       "\t<li>256860</li>\n",
       "\t<li>3</li>\n",
       "</ol>\n"
      ],
      "text/latex": [
       "\\begin{enumerate*}\n",
       "\\item 256860\n",
       "\\item 3\n",
       "\\end{enumerate*}\n"
      ],
      "text/markdown": [
       "1. 256860\n",
       "2. 3\n",
       "\n",
       "\n"
      ],
      "text/plain": [
       "[1] 256860      3"
      ]
     },
     "metadata": {},
     "output_type": "display_data"
    }
   ],
   "source": [
    "not_provided_ec <- cas_df[cas_df$end_station_name == \"not_provided\",]\n",
    "dim(not_provided_ec)"
   ]
  },
  {
   "cell_type": "code",
   "execution_count": 721,
   "id": "445748ec",
   "metadata": {},
   "outputs": [],
   "source": [
    "ssc_df <- cas_df [,c('client_type','start_station_name')]\n",
    "esc_df <- cas_df [,c('client_type','end_station_name')]\n",
    "\n",
    "vec10s <- c(dim(ssc_df))\n",
    "vec10e <- c(dim(esc_df))\n",
    "number10s <- list(rep(1, vec10s[1]))\n",
    "number10e <- list(rep(1, vec10e[1]))\n",
    "\n",
    "ssc_df <- data.frame(start_station_name = ssc_df$start_station_name,\n",
    "                        cnt = number10s)\n",
    "esc_df <- data.frame(end_station_name = esc_df$end_station_name,\n",
    "                        cnt = number10e)\n",
    "names(ssc_df)[2] <- 'number'\n",
    "names(esc_df)[2] <- 'number'\n",
    "\n",
    "ssc_df <- ssc_df%>% group_by(start_station_name)%>% \n",
    "   summarize(sum_start_stations = sum(number))%>%\n",
    "   arrange(-sum_start_stations)\n",
    "ssc_df <- ssc_df[ssc_df$start_station_name  != \"not_provided\",]\n",
    "\n",
    "esc_df <- esc_df%>% group_by(end_station_name)%>% \n",
    "   summarize(sum_end_stations = sum(number))%>%\n",
    "   arrange(-sum_end_stations)\n",
    "\n",
    "esc_df <- esc_df[esc_df$end_station_name  != \"not_provided\",]"
   ]
  },
  {
   "cell_type": "markdown",
   "id": "0bb8f758",
   "metadata": {},
   "source": [
    "- Top Six Start Stations most visited by Casual Riders, excluding unknown stations"
   ]
  },
  {
   "cell_type": "code",
   "execution_count": 722,
   "id": "73ad88a7",
   "metadata": {},
   "outputs": [
    {
     "data": {
      "text/html": [
       "<table>\n",
       "<thead><tr><th scope=col>start_station_name</th><th scope=col>sum_start_stations</th></tr></thead>\n",
       "<tbody>\n",
       "\t<tr><td>Streeter Dr &amp; Grand Ave</td><td>45648                      </td></tr>\n",
       "\t<tr><td>Millennium Park        </td><td>21291                  </td></tr>\n",
       "\t<tr><td><span style=white-space:pre-wrap>Michigan Ave &amp; Oak St  </span></td><td>21155                                                              </td></tr>\n",
       "\t<tr><td>Theater on the Lake    </td><td>17430                  </td></tr>\n",
       "\t<tr><td><span style=white-space:pre-wrap>Wells St &amp; Concord Ln  </span></td><td>17329                                                              </td></tr>\n",
       "\t<tr><td>Shedd Aquarium         </td><td>17221                  </td></tr>\n",
       "</tbody>\n",
       "</table>\n"
      ],
      "text/latex": [
       "\\begin{tabular}{r|ll}\n",
       " start\\_station\\_name & sum\\_start\\_stations\\\\\n",
       "\\hline\n",
       "\t Streeter Dr \\& Grand Ave & 45648                    \\\\\n",
       "\t Millennium Park         & 21291                  \\\\\n",
       "\t Michigan Ave \\& Oak St   & 21155                    \\\\\n",
       "\t Theater on the Lake     & 17430                  \\\\\n",
       "\t Wells St \\& Concord Ln   & 17329                    \\\\\n",
       "\t Shedd Aquarium          & 17221                  \\\\\n",
       "\\end{tabular}\n"
      ],
      "text/markdown": [
       "\n",
       "| start_station_name | sum_start_stations |\n",
       "|---|---|\n",
       "| Streeter Dr & Grand Ave | 45648                   |\n",
       "| Millennium Park         | 21291                   |\n",
       "| Michigan Ave & Oak St   | 21155                   |\n",
       "| Theater on the Lake     | 17430                   |\n",
       "| Wells St & Concord Ln   | 17329                   |\n",
       "| Shedd Aquarium          | 17221                   |\n",
       "\n"
      ],
      "text/plain": [
       "  start_station_name      sum_start_stations\n",
       "1 Streeter Dr & Grand Ave 45648             \n",
       "2 Millennium Park         21291             \n",
       "3 Michigan Ave & Oak St   21155             \n",
       "4 Theater on the Lake     17430             \n",
       "5 Wells St & Concord Ln   17329             \n",
       "6 Shedd Aquarium          17221             "
      ]
     },
     "metadata": {},
     "output_type": "display_data"
    }
   ],
   "source": [
    "head(ssc_df)"
   ]
  },
  {
   "cell_type": "markdown",
   "id": "5afe8f65",
   "metadata": {},
   "source": [
    "- Top Six End Stations most visited by Casual Riders, excluding unknown stations"
   ]
  },
  {
   "cell_type": "code",
   "execution_count": 723,
   "id": "5fe2f106",
   "metadata": {},
   "outputs": [
    {
     "data": {
      "text/html": [
       "<table>\n",
       "<thead><tr><th scope=col>end_station_name</th><th scope=col>sum_end_stations</th></tr></thead>\n",
       "<tbody>\n",
       "\t<tr><td><span style=white-space:pre-wrap>Streeter Dr &amp; Grand Ave   </span></td><td>45367                                                                 </td></tr>\n",
       "\t<tr><td>Millennium Park           </td><td>22994                     </td></tr>\n",
       "\t<tr><td><span style=white-space:pre-wrap>Michigan Ave &amp; Oak St     </span></td><td>21832                                                                 </td></tr>\n",
       "\t<tr><td>Theater on the Lake       </td><td>17845                     </td></tr>\n",
       "\t<tr><td><span style=white-space:pre-wrap>Wells St &amp; Concord Ln     </span></td><td>17135                                                                 </td></tr>\n",
       "\t<tr><td>Lake Shore Dr &amp; North Blvd</td><td>15854                         </td></tr>\n",
       "</tbody>\n",
       "</table>\n"
      ],
      "text/latex": [
       "\\begin{tabular}{r|ll}\n",
       " end\\_station\\_name & sum\\_end\\_stations\\\\\n",
       "\\hline\n",
       "\t Streeter Dr \\& Grand Ave    & 45367                       \\\\\n",
       "\t Millennium Park            & 22994                     \\\\\n",
       "\t Michigan Ave \\& Oak St      & 21832                       \\\\\n",
       "\t Theater on the Lake        & 17845                     \\\\\n",
       "\t Wells St \\& Concord Ln      & 17135                       \\\\\n",
       "\t Lake Shore Dr \\& North Blvd & 15854                       \\\\\n",
       "\\end{tabular}\n"
      ],
      "text/markdown": [
       "\n",
       "| end_station_name | sum_end_stations |\n",
       "|---|---|\n",
       "| Streeter Dr & Grand Ave    | 45367                      |\n",
       "| Millennium Park            | 22994                      |\n",
       "| Michigan Ave & Oak St      | 21832                      |\n",
       "| Theater on the Lake        | 17845                      |\n",
       "| Wells St & Concord Ln      | 17135                      |\n",
       "| Lake Shore Dr & North Blvd | 15854                      |\n",
       "\n"
      ],
      "text/plain": [
       "  end_station_name           sum_end_stations\n",
       "1 Streeter Dr & Grand Ave    45367           \n",
       "2 Millennium Park            22994           \n",
       "3 Michigan Ave & Oak St      21832           \n",
       "4 Theater on the Lake        17845           \n",
       "5 Wells St & Concord Ln      17135           \n",
       "6 Lake Shore Dr & North Blvd 15854           "
      ]
     },
     "metadata": {},
     "output_type": "display_data"
    }
   ],
   "source": [
    "head(esc_df)"
   ]
  },
  {
   "cell_type": "markdown",
   "id": "162740b7",
   "metadata": {},
   "source": [
    "##### By Annual Members\n",
    "- 254, 359 rows have no named start stations for member riders\n",
    "- 254, 885 datapoints have no named end stations for member riders\n",
    "- In total, 508, 718 observations contain no named start or end stations for member riders"
   ]
  },
  {
   "cell_type": "code",
   "execution_count": 724,
   "id": "c54b1176",
   "metadata": {},
   "outputs": [],
   "source": [
    "mem_df <- ms_df[ms_df$client_type == \"member\",]"
   ]
  },
  {
   "cell_type": "code",
   "execution_count": 725,
   "id": "585654f2",
   "metadata": {},
   "outputs": [
    {
     "data": {
      "text/html": [
       "<ol class=list-inline>\n",
       "\t<li>254359</li>\n",
       "\t<li>3</li>\n",
       "</ol>\n"
      ],
      "text/latex": [
       "\\begin{enumerate*}\n",
       "\\item 254359\n",
       "\\item 3\n",
       "\\end{enumerate*}\n"
      ],
      "text/markdown": [
       "1. 254359\n",
       "2. 3\n",
       "\n",
       "\n"
      ],
      "text/plain": [
       "[1] 254359      3"
      ]
     },
     "metadata": {},
     "output_type": "display_data"
    }
   ],
   "source": [
    "not_pro_ss <- mem_df[mem_df$start_station_name == \"not_provided\",]\n",
    "dim(not_pro_ss)"
   ]
  },
  {
   "cell_type": "code",
   "execution_count": 726,
   "id": "bc35238f",
   "metadata": {},
   "outputs": [
    {
     "data": {
      "text/html": [
       "<ol class=list-inline>\n",
       "\t<li>254885</li>\n",
       "\t<li>3</li>\n",
       "</ol>\n"
      ],
      "text/latex": [
       "\\begin{enumerate*}\n",
       "\\item 254885\n",
       "\\item 3\n",
       "\\end{enumerate*}\n"
      ],
      "text/markdown": [
       "1. 254885\n",
       "2. 3\n",
       "\n",
       "\n"
      ],
      "text/plain": [
       "[1] 254885      3"
      ]
     },
     "metadata": {},
     "output_type": "display_data"
    }
   ],
   "source": [
    "not_pro_es <- mem_df[mem_df$end_station_name == \"not_provided\",]\n",
    "dim(not_pro_es)"
   ]
  },
  {
   "cell_type": "code",
   "execution_count": 727,
   "id": "015a52ba",
   "metadata": {},
   "outputs": [],
   "source": [
    "ssm_df <- mem_df [,c('client_type','start_station_name')]\n",
    "esm_df <- mem_df [,c('client_type','end_station_name')]\n",
    "\n",
    "vec10sm <- c(dim(ssm_df))\n",
    "vec10em <- c(dim(esm_df))\n",
    "number10sm <- list(rep(1, vec10sm[1]))\n",
    "number10em <- list(rep(1, vec10em[1]))\n",
    "\n",
    "ssm_df <- data.frame(start_station_name = ssm_df$start_station_name,\n",
    "                        cnt = number10sm)\n",
    "esm_df <- data.frame(end_station_name = esm_df$end_station_name,\n",
    "                        cnt = number10em)\n",
    "names(ssm_df)[2] <- 'number'\n",
    "names(esm_df)[2] <- 'number'\n",
    "\n",
    "ssm_df <- ssm_df%>% group_by(start_station_name)%>% \n",
    "   summarize(sum_start_stations = sum(number))%>%\n",
    "   arrange(-sum_start_stations)\n",
    "ssm_df <- ssm_df[ssm_df$start_station_name  != \"not_provided\",]\n",
    "\n",
    "esm_df <- esm_df%>% group_by(end_station_name)%>% \n",
    "   summarize(sum_end_stations = sum(number))%>%\n",
    "   arrange(-sum_end_stations)\n",
    "\n",
    "esm_df <- esm_df[esm_df$end_station_name  != \"not_provided\",]"
   ]
  },
  {
   "cell_type": "markdown",
   "id": "aab1074a",
   "metadata": {},
   "source": [
    "- Top Six Start Stations most visited by Member Riders, excluding unknown stations"
   ]
  },
  {
   "cell_type": "code",
   "execution_count": 728,
   "id": "7ceae40b",
   "metadata": {},
   "outputs": [
    {
     "data": {
      "text/html": [
       "<table>\n",
       "<thead><tr><th scope=col>start_station_name</th><th scope=col>sum_start_stations</th></tr></thead>\n",
       "<tbody>\n",
       "\t<tr><td><span style=white-space:pre-wrap>Clark St &amp; Elm St       </span></td><td>23285                                                               </td></tr>\n",
       "\t<tr><td><span style=white-space:pre-wrap>Wells St &amp; Concord Ln   </span></td><td>21551                                                               </td></tr>\n",
       "\t<tr><td>Kingsbury St &amp; Kinzie St</td><td>20582                       </td></tr>\n",
       "\t<tr><td><span style=white-space:pre-wrap>Wells St &amp; Elm St       </span></td><td>19368                                                               </td></tr>\n",
       "\t<tr><td><span style=white-space:pre-wrap>Dearborn St &amp; Erie St   </span></td><td>17896                                                               </td></tr>\n",
       "\t<tr><td><span style=white-space:pre-wrap>Wells St &amp; Huron St     </span></td><td>17623                                                               </td></tr>\n",
       "</tbody>\n",
       "</table>\n"
      ],
      "text/latex": [
       "\\begin{tabular}{r|ll}\n",
       " start\\_station\\_name & sum\\_start\\_stations\\\\\n",
       "\\hline\n",
       "\t Clark St \\& Elm St        & 23285                     \\\\\n",
       "\t Wells St \\& Concord Ln    & 21551                     \\\\\n",
       "\t Kingsbury St \\& Kinzie St & 20582                     \\\\\n",
       "\t Wells St \\& Elm St        & 19368                     \\\\\n",
       "\t Dearborn St \\& Erie St    & 17896                     \\\\\n",
       "\t Wells St \\& Huron St      & 17623                     \\\\\n",
       "\\end{tabular}\n"
      ],
      "text/markdown": [
       "\n",
       "| start_station_name | sum_start_stations |\n",
       "|---|---|\n",
       "| Clark St & Elm St        | 23285                    |\n",
       "| Wells St & Concord Ln    | 21551                    |\n",
       "| Kingsbury St & Kinzie St | 20582                    |\n",
       "| Wells St & Elm St        | 19368                    |\n",
       "| Dearborn St & Erie St    | 17896                    |\n",
       "| Wells St & Huron St      | 17623                    |\n",
       "\n"
      ],
      "text/plain": [
       "  start_station_name       sum_start_stations\n",
       "1 Clark St & Elm St        23285             \n",
       "2 Wells St & Concord Ln    21551             \n",
       "3 Kingsbury St & Kinzie St 20582             \n",
       "4 Wells St & Elm St        19368             \n",
       "5 Dearborn St & Erie St    17896             \n",
       "6 Wells St & Huron St      17623             "
      ]
     },
     "metadata": {},
     "output_type": "display_data"
    }
   ],
   "source": [
    "head(ssm_df)"
   ]
  },
  {
   "cell_type": "markdown",
   "id": "4b5ce238",
   "metadata": {},
   "source": [
    "- Top Six End Stations most visited by Member Riders, excluding unknown stations"
   ]
  },
  {
   "cell_type": "code",
   "execution_count": 729,
   "id": "d44bbfce",
   "metadata": {},
   "outputs": [
    {
     "data": {
      "text/html": [
       "<table>\n",
       "<thead><tr><th scope=col>end_station_name</th><th scope=col>sum_end_stations</th></tr></thead>\n",
       "<tbody>\n",
       "\t<tr><td><span style=white-space:pre-wrap>Clark St &amp; Elm St       </span></td><td>23686                                                               </td></tr>\n",
       "\t<tr><td><span style=white-space:pre-wrap>Wells St &amp; Concord Ln   </span></td><td>22193                                                               </td></tr>\n",
       "\t<tr><td>Kingsbury St &amp; Kinzie St</td><td>20938                       </td></tr>\n",
       "\t<tr><td><span style=white-space:pre-wrap>Wells St &amp; Elm St       </span></td><td>19854                                                               </td></tr>\n",
       "\t<tr><td><span style=white-space:pre-wrap>Dearborn St &amp; Erie St   </span></td><td>18425                                                               </td></tr>\n",
       "\t<tr><td><span style=white-space:pre-wrap>St. Clair St &amp; Erie St  </span></td><td>17845                                                               </td></tr>\n",
       "</tbody>\n",
       "</table>\n"
      ],
      "text/latex": [
       "\\begin{tabular}{r|ll}\n",
       " end\\_station\\_name & sum\\_end\\_stations\\\\\n",
       "\\hline\n",
       "\t Clark St \\& Elm St        & 23686                     \\\\\n",
       "\t Wells St \\& Concord Ln    & 22193                     \\\\\n",
       "\t Kingsbury St \\& Kinzie St & 20938                     \\\\\n",
       "\t Wells St \\& Elm St        & 19854                     \\\\\n",
       "\t Dearborn St \\& Erie St    & 18425                     \\\\\n",
       "\t St. Clair St \\& Erie St   & 17845                     \\\\\n",
       "\\end{tabular}\n"
      ],
      "text/markdown": [
       "\n",
       "| end_station_name | sum_end_stations |\n",
       "|---|---|\n",
       "| Clark St & Elm St        | 23686                    |\n",
       "| Wells St & Concord Ln    | 22193                    |\n",
       "| Kingsbury St & Kinzie St | 20938                    |\n",
       "| Wells St & Elm St        | 19854                    |\n",
       "| Dearborn St & Erie St    | 18425                    |\n",
       "| St. Clair St & Erie St   | 17845                    |\n",
       "\n"
      ],
      "text/plain": [
       "  end_station_name         sum_end_stations\n",
       "1 Clark St & Elm St        23686           \n",
       "2 Wells St & Concord Ln    22193           \n",
       "3 Kingsbury St & Kinzie St 20938           \n",
       "4 Wells St & Elm St        19854           \n",
       "5 Dearborn St & Erie St    18425           \n",
       "6 St. Clair St & Erie St   17845           "
      ]
     },
     "metadata": {},
     "output_type": "display_data"
    }
   ],
   "source": [
    "head(esm_df)"
   ]
  },
  {
   "cell_type": "markdown",
   "id": "cea71ddd",
   "metadata": {},
   "source": [
    "<div class=\"alert alert-block alert-warning\">"
   ]
  },
  {
   "cell_type": "markdown",
   "id": "304f2cc1",
   "metadata": {},
   "source": [
    "<img src=\"./figs/share2.png\">  "
   ]
  },
  {
   "cell_type": "markdown",
   "id": "e8af7111",
   "metadata": {},
   "source": [
    "### 1. Number of Casual Riders vs Annual Member Riders"
   ]
  },
  {
   "cell_type": "code",
   "execution_count": 730,
   "id": "8b24f25c",
   "metadata": {},
   "outputs": [
    {
     "data": {
      "image/png": "[encoded data removed]",
      "text/plain": [
       "plot without title"
      ]
     },
     "metadata": {},
     "output_type": "display_data"
    }
   ],
   "source": [
    "p<-ggplot(data=aggregates, aes(x=client_type, y=Counts, fill =client_type)) +\n",
    "  labs(title = \"Numbers: Casual Riders vs Member Riders\",\n",
    "      subtitle = \"In the analyzed data, 57.3% are Member Riders & 42.7% are Casual Riders\")+\n",
    " geom_text(aes(label=Counts), vjust=-0.3, size=3.5)+ \n",
    "  geom_bar(stat=\"identity\")\n",
    "p"
   ]
  },
  {
   "cell_type": "markdown",
   "id": "b512ebdc",
   "metadata": {},
   "source": [
    "### 2. Total Minutes Riden over the past 12 months by both Tyes of Riders"
   ]
  },
  {
   "cell_type": "code",
   "execution_count": 733,
   "id": "34ed2b1f",
   "metadata": {},
   "outputs": [
    {
     "data": {
      "image/png": "[encoded data removed]",
      "text/plain": [
       "plot without title"
      ]
     },
     "metadata": {},
     "output_type": "display_data"
    }
   ],
   "source": [
    "p<-ggplot(data=sum_mins, aes(x=client_type, y=sum_minutes, fill =client_type)) +\n",
    "  labs(title = \"Total Minutes Riden: Casual Riders vs  Member Riders\",\n",
    "      subtitle = \"Annual Member Riders Have Slightly Higher Annual Riding Minutes\")+\n",
    " geom_text(aes(label=sum_minutes), vjust=-0.3, size=3.5)+ \n",
    "  geom_bar(stat=\"identity\")\n",
    "p"
   ]
  },
  {
   "cell_type": "markdown",
   "id": "a86b5665",
   "metadata": {},
   "source": [
    "### 3. Daily Riding Average of Casual Riders vs Annual Member Riders "
   ]
  },
  {
   "cell_type": "code",
   "execution_count": 734,
   "id": "5e6ee24a",
   "metadata": {},
   "outputs": [
    {
     "data": {
      "image/png": "[encoded data removed]",
      "text/plain": [
       "plot without title"
      ]
     },
     "metadata": {},
     "output_type": "display_data"
    }
   ],
   "source": [
    "# Round to two decimal places\n",
    "daily_gp1 <- daily_gp1 %>% mutate_if(is.numeric, ~round(.,2))\n",
    "\n",
    "# Bar Plot\n",
    "p<-ggplot(data=daily_gp1, aes(x=client_type, y=daily_mean, fill =client_type)) +\n",
    "  labs(title = \"Daily Average in Minutes: Casual Riders vs Member Riders\",\n",
    "      subtitle = \"The Daily Average of Casual Riders is Higher!\")+\n",
    " geom_text(aes(label=daily_mean), vjust=-0.3, size=3.5)+ \n",
    "  geom_bar(stat=\"identity\")\n",
    "p"
   ]
  },
  {
   "cell_type": "markdown",
   "id": "029c7193",
   "metadata": {},
   "source": [
    "### 4. Monthly Average Rides of Casual Riders vs Member Riders in Minutes\n",
    "- As illustrated in the barplot below, the monthly average rides in minute of the casual riders is higher than that of annual member riders throughout the period of observation."
   ]
  },
  {
   "cell_type": "code",
   "execution_count": 736,
   "id": "477b640d",
   "metadata": {},
   "outputs": [
    {
     "name": "stderr",
     "output_type": "stream",
     "text": [
      "`mutate_if()` ignored the following grouping variables:\n",
      "Column `client_type`\n"
     ]
    },
    {
     "data": {
      "image/png": "[encoded data removed]",
      "text/plain": [
       "plot without title"
      ]
     },
     "metadata": {},
     "output_type": "display_data"
    }
   ],
   "source": [
    "mnth_gp1 <- cbind(mnth_gp)\n",
    "mnth_gp1$month <- substr(mnth_gp1$month, 6,7)\n",
    "mnth_gp1$month <- as.integer(mnth_gp1$month)\n",
    "#months vector assuming 1st month is Jan.\n",
    "mymonths <- c(\"Jan\",\"Feb\",\"Mar\",\n",
    "              \"Apr\",\"May\",\"Jun\",\n",
    "              \"Jul\",\"Aug\",\"Sep\",\n",
    "              \"Oct\",\"Nov\",\"Dec\")\n",
    "#add abbreviated month name\n",
    "mnth_gp1$month <- mymonths[mnth_gp1$month]\n",
    "#head(mnth_gp1)\n",
    "\n",
    "# Round to two decimal places\n",
    "mnth_gp1 <- mnth_gp1 %>% mutate_if(is.numeric, ~round(.,2))\n",
    "\n",
    "# Order the x-axis vals\n",
    "xorder0 <- c(\"Oct\",\"Nov\",\"Dec\",\n",
    "            \"Jan\",\"Feb\",\"Mar\",\n",
    "              \"Apr\",\"May\",\"Jun\",\n",
    "              \"Jul\",\"Aug\",\"Sep\" )\n",
    "mnth_gp1$month <- factor(mnth_gp1$month, levels=xorder0)\n",
    "\n",
    "\n",
    "# Grouped Bars\n",
    "ggplot(mnth_gp1, aes(x=month, y=montly_avg_minutes,\n",
    "    fill=client_type, group = client_type)) + \n",
    "labs(title = \"Monthly Averages in Minutes: Casual Riders vs Annual Member Riders\",\n",
    "     subtitle = \"Casual Riders have higher monthly average over the observation period\")+\n",
    "geom_text(aes(x=month, y=montly_avg_minutes,\n",
    "              label=montly_avg_minutes, group = client_type), \n",
    "          position = position_dodge(width = 1),\n",
    "          vjust=-0.5, size=2.5)+ \n",
    "    geom_bar(position=\"dodge\", stat=\"identity\")+\n",
    "theme_bw()"
   ]
  },
  {
   "cell_type": "markdown",
   "id": "3cb6bc61",
   "metadata": {},
   "source": [
    "### 5. Average Minutes of riding per day of the week: Member vs Casual Riders\n",
    "- As clearly depicted in the line graphs and barplots below, the daily average rides in minutes of the casual riders are consistently higher than that of annual member riders over the whole period of observation (last 12-months).\n",
    "- Besides, the average daily riding durations are much higher during the weekend."
   ]
  },
  {
   "cell_type": "code",
   "execution_count": 737,
   "id": "af46a253",
   "metadata": {},
   "outputs": [
    {
     "data": {
      "image/png": "[encoded data removed]",
      "text/plain": [
       "plot without title"
      ]
     },
     "metadata": {},
     "output_type": "display_data"
    }
   ],
   "source": [
    "xorder2 <- c(\"Sunday\",\"Monday\",\"Tuesday\",\n",
    "            \"Wednesday\",\"Thursday\",\"Friday\",\n",
    "              \"Saturday\")\n",
    "day_minuntes$day_of_week <- factor(day_minuntes$day_of_week, levels=xorder2)\n",
    "\n",
    "\n",
    "# Grouped Bars\n",
    "ggplot(day_minuntes, aes(x=day_of_week, y=Weekdays_avg_minutes,\n",
    "    fill=client_type, group = client_type)) + \n",
    "labs(title = \"Averages Riding Minutes Per Day of a week: Casual Riders vs Member Riders\",\n",
    "     subtitle = \"Daily Average Riding Durations are higher during the Weekend\")+\n",
    "geom_text(aes(x=day_of_week, y=Weekdays_avg_minutes,\n",
    "              label=Weekdays_avg_minutes, group = client_type), \n",
    "          position = position_dodge(width = 1),\n",
    "          vjust=-0.5, size=3.5)+ \n",
    "    geom_bar(position=\"dodge\", stat=\"identity\")+\n",
    "theme_bw()"
   ]
  },
  {
   "cell_type": "code",
   "execution_count": 738,
   "id": "5bc7e885",
   "metadata": {},
   "outputs": [
    {
     "data": {
      "image/png": "[encoded data removed]",
      "text/plain": [
       "plot without title"
      ]
     },
     "metadata": {},
     "output_type": "display_data"
    }
   ],
   "source": [
    "# Order x labels\n",
    "xorder2 <- c(\"Sunday\",\"Monday\",\"Tuesday\",\n",
    "            \"Wednesday\",\"Thursday\",\"Friday\",\n",
    "              \"Saturday\")\n",
    "day_minuntes$day_of_week <- factor(day_minuntes$day_of_week, levels=xorder2)\n",
    "\n",
    "\n",
    "# Grouped line plots\n",
    "ggplot(day_minuntes, aes(x=day_of_week, y=Weekdays_avg_minutes, \n",
    "                         group = client_type, color = client_type)) + \n",
    "labs(title = \"Averages Riding Minutes Per Day for Casual & Annual Member Riders\",\n",
    "     subtitle = \"Average Riding Durations in Minutes are Higher on the Weekend\")+\n",
    "\n",
    "    geom_line()+ geom_point()"
   ]
  },
  {
   "cell_type": "markdown",
   "id": "94b5cba8",
   "metadata": {},
   "source": [
    "### 6. Correlation between Weekdays and Number of Rides\n",
    "- In most cases, Saturday has the highest number of riders; especially during Summer the number is way higher. Sunday has the seocnd highest numbers of riders followed by Friday.\n",
    "- However, there is no meaningful correlation between the days of the week and number of rides. The conclusion here is that number of rides are higher during the weekends in most cases (rain or shine)"
   ]
  },
  {
   "cell_type": "code",
   "execution_count": 739,
   "id": "a1a5ce32",
   "metadata": {},
   "outputs": [
    {
     "data": {
      "image/png": "[encoded data removed]",
      "text/plain": [
       "plot without title"
      ]
     },
     "metadata": {},
     "output_type": "display_data"
    }
   ],
   "source": [
    "vec6v <- c(dim(cleaned_bike_df))\n",
    "number6v <- list(rep(1, vec6v[1]))\n",
    "cor6v_df <- data.frame(day_date = cleaned_bike_df$started_at, cnt = number6v)\n",
    "names(cor6v_df)[2] <- 'number_of_rides'\n",
    "cor6v_df$day_date <- as.Date(cor6v_df$day_date, format = \"%Y-%m-%d\")\n",
    "\n",
    "cor6v_df <- cor6v_df%>% group_by(day_date) %>% summarize(number_of_rides = sum(number_of_rides))\n",
    "cor6v_df$month <- format(cor6v_df$day_date,\"%Y-%m\") \n",
    "cor6v_df <- arrange(cor6v_df, month) \n",
    "cor6v_df$month <- format(cor6v_df$day_date,\"%m\")\n",
    "\n",
    "cor6v_df$month <- as.integer(cor6v_df$month)\n",
    "\n",
    "#months vector assuming 1st month is Jan.\n",
    "mymonths <- c(\"Jan\",\"Feb\",\"Mar\",\n",
    "              \"Apr\",\"May\",\"Jun\",\n",
    "              \"Jul\",\"Aug\",\"Sep\",\n",
    "              \"Oct\",\"Nov\",\"Dec\")\n",
    "#add abbreviated month name\n",
    "cor6v_df$month <- mymonths[cor6v_df$month]\n",
    "\n",
    "\n",
    "cor6v_df$day_of_week <- weekdays(as.Date(cor6v_df$day_date))\n",
    "\n",
    "xorder <- c(\"Oct\",\"Nov\",\"Dec\",\n",
    "            \"Jan\",\"Feb\",\"Mar\",\n",
    "              \"Apr\",\"May\",\"Jun\",\n",
    "              \"Jul\",\"Aug\",\"Sep\" )\n",
    "cor6v_df$month <- factor(cor6v_df$month, levels=xorder)\n",
    "\n",
    "# Grouped Bars\n",
    "ggplot(cor6v_df, aes(y=number_of_rides, x=month, color = day_of_week)) + \n",
    "labs(title = \"Correlation: Days a Week vs Number of Riders\",\n",
    "    subtitle = \"Number of Riders is the highest on Saturdays in most cases\")+\n",
    "    geom_point(stat=\"identity\")"
   ]
  },
  {
   "cell_type": "markdown",
   "id": "308e36e0",
   "metadata": {},
   "source": [
    "### 7. Correlation between Seasons and Number of Rides\n",
    "- The scatter portrayed in the figure below shows an upward trend starting from the end of Winter to Summer.\n",
    "- The peak number of rides are registered in summer, particularly in the months of July and August.\n",
    "- The lowest number of rides are recored in Winter, in the months of January and February.\n",
    "- There is a strong correlation between the number of rides and seasons. As the season gets warmer, the number of rides increases, and vice versa."
   ]
  },
  {
   "cell_type": "code",
   "execution_count": 740,
   "id": "02b7585e",
   "metadata": {},
   "outputs": [
    {
     "data": {
      "image/png": "[encoded data removed]",
      "text/plain": [
       "plot without title"
      ]
     },
     "metadata": {},
     "output_type": "display_data"
    }
   ],
   "source": [
    "#add abbreviated month name\n",
    "mymonths <- c(\"Jan\",\"Feb\",\"Mar\",\n",
    "              \"Apr\",\"May\",\"Jun\",\n",
    "              \"Jul\",\"Aug\",\"Sep\",\n",
    "              \"Oct\",\"Nov\",\"Dec\")\n",
    "cor8_df$month <- mymonths[cor8_df$month2]\n",
    "\n",
    "# Order months\n",
    "xorder <- c(\"Oct\",\"Nov\",\"Dec\",\n",
    "            \"Jan\",\"Feb\",\"Mar\",\n",
    "              \"Apr\",\"May\",\"Jun\",\n",
    "              \"Jul\",\"Aug\",\"Sep\" )\n",
    "cor8_df$month <- factor(cor8_df$month, levels=xorder)\n",
    "\n",
    "\n",
    "# Grouped Bars\n",
    "ggplot(cor8_df, aes(y=number_of_rides, x=month, color = season_code)) + \n",
    "labs(title = \"Correlation: Seasons vs Number of Riders\",\n",
    "    subtitle = \"Number of Riders is thehighest in Summer & Lowest in winter\")+\n",
    "    geom_point(stat=\"identity\")"
   ]
  },
  {
   "cell_type": "markdown",
   "id": "881e3f2b",
   "metadata": {},
   "source": [
    "### 8. Correlation Between Riding Durations and Seasons\n",
    "- The seasons do not have a meaningful correlation with daily average of riding durations."
   ]
  },
  {
   "cell_type": "code",
   "execution_count": 741,
   "id": "51cfa6b5",
   "metadata": {},
   "outputs": [],
   "source": [
    "#add abbreviated month name\n",
    "cor9_df$month <- mymonths[cor9_df$month]\n",
    "# Order months\n",
    "cor9_df$month <- factor(cor9_df$month, levels=xorder)"
   ]
  },
  {
   "cell_type": "code",
   "execution_count": 742,
   "id": "67f2d5dc",
   "metadata": {},
   "outputs": [
    {
     "data": {
      "text/html": [
       "<table>\n",
       "<thead><tr><th scope=col>started_at</th><th scope=col>riding_duration</th><th scope=col>month</th><th scope=col>season_code</th></tr></thead>\n",
       "<tbody>\n",
       "\t<tr><td>2021-01-23</td><td>10.42     </td><td>Jan       </td><td>1         </td></tr>\n",
       "\t<tr><td>2021-01-27</td><td> 4.07     </td><td>Jan       </td><td>1         </td></tr>\n",
       "\t<tr><td>2021-01-21</td><td> 1.33     </td><td>Jan       </td><td>1         </td></tr>\n",
       "\t<tr><td>2021-01-07</td><td>11.70     </td><td>Jan       </td><td>1         </td></tr>\n",
       "\t<tr><td>2021-01-23</td><td> 0.72     </td><td>Jan       </td><td>1         </td></tr>\n",
       "\t<tr><td>2021-01-04</td><td> 5.58     </td><td>Jan       </td><td>1         </td></tr>\n",
       "</tbody>\n",
       "</table>\n"
      ],
      "text/latex": [
       "\\begin{tabular}{r|llll}\n",
       " started\\_at & riding\\_duration & month & season\\_code\\\\\n",
       "\\hline\n",
       "\t 2021-01-23 & 10.42      & Jan        & 1         \\\\\n",
       "\t 2021-01-27 &  4.07      & Jan        & 1         \\\\\n",
       "\t 2021-01-21 &  1.33      & Jan        & 1         \\\\\n",
       "\t 2021-01-07 & 11.70      & Jan        & 1         \\\\\n",
       "\t 2021-01-23 &  0.72      & Jan        & 1         \\\\\n",
       "\t 2021-01-04 &  5.58      & Jan        & 1         \\\\\n",
       "\\end{tabular}\n"
      ],
      "text/markdown": [
       "\n",
       "| started_at | riding_duration | month | season_code |\n",
       "|---|---|---|---|\n",
       "| 2021-01-23 | 10.42      | Jan        | 1          |\n",
       "| 2021-01-27 |  4.07      | Jan        | 1          |\n",
       "| 2021-01-21 |  1.33      | Jan        | 1          |\n",
       "| 2021-01-07 | 11.70      | Jan        | 1          |\n",
       "| 2021-01-23 |  0.72      | Jan        | 1          |\n",
       "| 2021-01-04 |  5.58      | Jan        | 1          |\n",
       "\n"
      ],
      "text/plain": [
       "  started_at riding_duration month season_code\n",
       "1 2021-01-23 10.42           Jan   1          \n",
       "2 2021-01-27  4.07           Jan   1          \n",
       "3 2021-01-21  1.33           Jan   1          \n",
       "4 2021-01-07 11.70           Jan   1          \n",
       "5 2021-01-23  0.72           Jan   1          \n",
       "6 2021-01-04  5.58           Jan   1          "
      ]
     },
     "metadata": {},
     "output_type": "display_data"
    }
   ],
   "source": [
    "head(cor9_df)"
   ]
  },
  {
   "cell_type": "code",
   "execution_count": 743,
   "id": "d330f402",
   "metadata": {},
   "outputs": [
    {
     "data": {
      "image/png": "[encoded data removed]",
      "text/plain": [
       "plot without title"
      ]
     },
     "metadata": {},
     "output_type": "display_data"
    }
   ],
   "source": [
    "# Grouped Bars\n",
    "ggplot(cor9_df, aes(x=month, y=riding_duration, color = season_code)) + \n",
    "labs(title = \"Correlation: Seasons vs Riding Durations\",\n",
    "    subtitle = \"No correlation between the two variables\")+\n",
    "    geom_point(stat=\"identity\")"
   ]
  },
  {
   "cell_type": "markdown",
   "id": "3a577c0d",
   "metadata": {},
   "source": [
    "### 9. Top Six Stations Most Visited by Casual Riders\n",
    "- Unnamed start or end stations were counted out in this analysis"
   ]
  },
  {
   "cell_type": "code",
   "execution_count": 749,
   "id": "d016ee87",
   "metadata": {},
   "outputs": [
    {
     "data": {
      "image/png": "[encoded data removed]",
      "text/plain": [
       "plot without title"
      ]
     },
     "metadata": {},
     "output_type": "display_data"
    }
   ],
   "source": [
    "# Start Stations\n",
    "ss_df9 <- ssc_df[ssc_df$start_station_name!='not_provided',]\n",
    "ss_df9 <- head(ss_df9,6)\n",
    "\n",
    "# Order Start Stations\n",
    "ss_order <- c(\"Streeter Dr & Grand Ave\",\"Millennium Park\",\"Dec\",\n",
    "            \"Michigan Ave & Oak St\",\"Theater on the Lake\",\"Wells St & Concord Ln\",\n",
    "              \"Shedd Aquarium\")\n",
    "ss_df9$start_station_name <- factor(ss_df9$start_station_name, levels=rev(ss_order))\n",
    "\n",
    "p<-ggplot(data=ss_df9, aes(x=start_station_name, \n",
    "                y=sum_start_stations, group=start_station_name, fill =start_station_name)) +\n",
    "  labs(title = \"Most Visited Start Stations\",\n",
    "      subtitle = \"Top 6 Start Stations most visited by Casual Riders\")+ \n",
    "    geom_text(aes(x=start_station_name, y=sum_start_stations,\n",
    "              label=sum_start_stations, group = start_station_name), \n",
    "          position = position_dodge(width = 1),\n",
    "          hjust=-0.1, size=3.5)+      \n",
    "      geom_bar(position=\"dodge\", stat=\"identity\")\n",
    "\n",
    "\n",
    "# End Stations\n",
    "es_df9 <- esc_df[esc_df$end_station_name!='not_provided',]\n",
    "es_df9 <- head(es_df9,6)\n",
    "\n",
    "# Order Start Stations\n",
    "es_order <- c(\"Streeter Dr & Grand Ave\",\"Millennium Park\",\n",
    "              \"Michigan Ave & Oak St\",\"Theater on the Lake\",\"Wells St & Concord Ln\",\n",
    "              \"Lake Shore Dr & North Blvd\")\n",
    "es_df9$end_station_name <- factor(es_df9$end_station_name, levels=rev(es_order))\n",
    "\n",
    "# Bar plots\n",
    "p2<-ggplot(data=es_df9, aes(x=end_station_name, \n",
    "                y=sum_end_stations, group=end_station_name, fill =end_station_name)) +\n",
    "  labs(title = \"Most Visited End Stations\",\n",
    "      subtitle = \"Top 6 End Stations most visited by Casual Riders.\")+\n",
    "    geom_text(aes(x=end_station_name, y=sum_end_stations,\n",
    "              label=sum_end_stations, group = end_station_name), \n",
    "          position = position_dodge(width = 1),\n",
    "          hjust=-0.1, size=3.5)+   \n",
    "  geom_bar(position=\"dodge\", stat=\"identity\")\n",
    "\n",
    "ggarrange(p + coord_flip(), p2 + coord_flip(), ncol=1)\n"
   ]
  },
  {
   "cell_type": "markdown",
   "id": "a6f3ca21",
   "metadata": {},
   "source": [
    "<div class=\"alert alert-block alert-warning\">"
   ]
  },
  {
   "cell_type": "markdown",
   "id": "7117ab93",
   "metadata": {},
   "source": [
    "<img src=\"./figs/act2.png\">  "
   ]
  },
  {
   "cell_type": "markdown",
   "id": "c986eca0",
   "metadata": {},
   "source": [
    "Now that I have finished creating the pertinent visualizations, it is time to act on my findings. I have to prepare the deliverables that Morena asked me to create, including the three top recommendations based on my analysis. I used the following Case Study Roadmap as a guide."
   ]
  },
  {
   "cell_type": "markdown",
   "id": "e48d667e",
   "metadata": {},
   "source": [
    "# Case Study Roadmap - Act\n",
    "### Guiding questions\n",
    "- What are my final conclusions based on my analysis?\n",
    "- How could my team and business apply my insights?\n",
    "- What next steps would I or my stakeholders take based on my findings?\n",
    "- Is there additional data I could use to expand on my findings?\n",
    "\n",
    "### Key tasks\n",
    "1. Creating my portfolio.\n",
    "2. Adding my case study.\n",
    "3. Practicing presenting my case study to a friend or family member.\n",
    "\n",
    "### Deliverable\n",
    "- My top three recommendations based on my analysis"
   ]
  },
  {
   "cell_type": "markdown",
   "id": "6b3b4fcf",
   "metadata": {},
   "source": [
    "## A. conclusions\n",
    "Based on the insights uncovered/mined from the data by the extensive analysis carried out, the following conclusions were drawn:\n",
    "1. In the data analyzed after apropos cleaning, 57.3% of the riders are annual member of the  Bike-share company in Chicago; whereas the remaining 42.7% are casual riders. Nonetheless, the member riders have only slightly greater total annual riding duration (34, 245, 797.23 minutes) than that of casual riders (34, 064, 953.52 minutes).\n",
    "2. The casual riders have longer daily riding average (16.97 minutes) than the member riders (12.72 minutes) do have. Likewise, the casual riders have better monthly riding averages than the member riders through the whole observation period (12 months: October, 2020 to the end of September, 2021).\n",
    "3. Casual riders have better riding lengths on all days of the week compared to the member riders. In most cases, the number of riders of both types is much higher during the weekend (the lion-share of it belongs to Saturday) than the weekdays.\n",
    "4. A strong correlation was uncovered between the seasons (Winter, Spring, Summer, & Fall vis-a-vis North America) and the number of riders. It was found out that the number of riders of both types start going up by the end of Winter and reaches its peak by late Summer, and conversely. Putting it another way, as the temperature increases, the number of riders increase sharply. Then, it starts going down at the start of Fall and plummets during the coldest season, Winter. Despite the  season-wise variation of rider’s number, the number of casual riders is consistently higher than that of member riders under all scenarios. \n",
    "5. After thoroughly analyzing the locations of the top six start or end stations most visited by casual riders in Chicago, it was discovered that almost all of them are closer to reactional centers like theatre, amphitheater, gymnasium,  et cetera."
   ]
  },
  {
   "cell_type": "markdown",
   "id": "26ab4d46",
   "metadata": {},
   "source": [
    "## B. Recommendations"
   ]
  },
  {
   "cell_type": "markdown",
   "id": "d13533ff",
   "metadata": {},
   "source": [
    "Based on the insights derived from the data, the following three marketing strategies or approaches are recommended in order to convert casual riders to annual member riders.\n",
    "1. Intensify promotional/advertising works in reactional centers like theatre, amphitheater, gymnasium, cafeterias, restaurants, ... situated nearby most visited start or end stations.\n",
    "2. Introduce seasonal membership discounts (good discount during the summer would be so encouraging) and weekend-based (especially on Saturdays) riding price discount for members. \n",
    "3. Create partnership with service centers nearby most visited stations so as to reward newly joining members with free gymnasium, restaurant, or theatre tickets."
   ]
  },
  {
   "cell_type": "markdown",
   "id": "57f4c9fc",
   "metadata": {},
   "source": [
    "<div class=\"alert alert-block alert-warning\">"
   ]
  },
  {
   "cell_type": "markdown",
   "id": "4debf83e",
   "metadata": {},
   "source": [
    "                                                ~END~"
   ]
  }
 ],
 "metadata": {
  "kernelspec": {
   "display_name": "R",
   "language": "R",
   "name": "ir"
  },
  "language_info": {
   "codemirror_mode": "r",
   "file_extension": ".r",
   "mimetype": "text/x-r-source",
   "name": "R",
   "pygments_lexer": "r",
   "version": "3.6.1"
  }
 },
 "nbformat": 4,
 "nbformat_minor": 5
}
